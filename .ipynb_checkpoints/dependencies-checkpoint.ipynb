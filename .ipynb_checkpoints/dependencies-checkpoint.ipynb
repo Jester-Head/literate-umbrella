{
 "cells": [
  {
   "cell_type": "markdown",
   "id": "3bdcae6f",
   "metadata": {},
   "source": [
    "# Installing Packages"
   ]
  },
  {
   "cell_type": "code",
   "execution_count": 1,
   "id": "d6ba79e6",
   "metadata": {
    "ExecuteTime": {
     "end_time": "2022-10-11T00:29:44.945681Z",
     "start_time": "2022-10-11T00:29:02.149378Z"
    }
   },
   "outputs": [
    {
     "name": "stdout",
     "output_type": "stream",
     "text": [
      "Collecting scikit-learn\n",
      "  Using cached scikit_learn-1.1.2-cp39-cp39-win_amd64.whl (7.4 MB)\n",
      "Collecting scipy>=1.3.2\n",
      "  Downloading scipy-1.9.2-cp39-cp39-win_amd64.whl (40.1 MB)\n",
      "     ---------------------------------------- 40.1/40.1 MB 4.5 MB/s eta 0:00:00\n",
      "Collecting threadpoolctl>=2.0.0\n",
      "  Using cached threadpoolctl-3.1.0-py3-none-any.whl (14 kB)\n",
      "Requirement already satisfied: joblib>=1.0.0 in c:\\users\\sarah\\appdata\\roaming\\python\\python39\\site-packages (from scikit-learn) (1.2.0)\n",
      "Requirement already satisfied: numpy>=1.17.3 in c:\\users\\sarah\\anaconda3\\envs\\mlbootcamp\\lib\\site-packages (from scikit-learn) (1.23.3)\n",
      "Installing collected packages: threadpoolctl, scipy, scikit-learn\n",
      "Successfully installed scikit-learn-1.1.2 scipy-1.9.2 threadpoolctl-3.1.0\n",
      "Note: you may need to restart the kernel to use updated packages.\n"
     ]
    }
   ],
   "source": [
    "pip install -U scikit-learn"
   ]
  },
  {
   "cell_type": "code",
   "execution_count": 2,
   "id": "1da6cc3f",
   "metadata": {
    "ExecuteTime": {
     "end_time": "2022-10-11T00:29:49.670710Z",
     "start_time": "2022-10-11T00:29:44.949682Z"
    }
   },
   "outputs": [
    {
     "name": "stdout",
     "output_type": "stream",
     "text": [
      "Requirement already satisfied: nltk in c:\\users\\sarah\\appdata\\roaming\\python\\python39\\site-packages (3.7)\n",
      "Requirement already satisfied: click in c:\\users\\sarah\\appdata\\roaming\\python\\python39\\site-packages (from nltk) (8.1.3)\n",
      "Requirement already satisfied: joblib in c:\\users\\sarah\\appdata\\roaming\\python\\python39\\site-packages (from nltk) (1.2.0)\n",
      "Collecting regex>=2021.8.3\n",
      "  Downloading regex-2022.9.13-cp39-cp39-win_amd64.whl (267 kB)\n",
      "     -------------------------------------- 267.7/267.7 kB 2.4 MB/s eta 0:00:00\n",
      "Requirement already satisfied: tqdm in c:\\users\\sarah\\appdata\\roaming\\python\\python39\\site-packages (from nltk) (4.64.1)\n",
      "Requirement already satisfied: colorama in c:\\users\\sarah\\anaconda3\\envs\\mlbootcamp\\lib\\site-packages (from click->nltk) (0.4.5)\n",
      "Installing collected packages: regex\n",
      "Successfully installed regex-2022.9.13\n",
      "Note: you may need to restart the kernel to use updated packages.\n"
     ]
    }
   ],
   "source": [
    "pip install -U nltk"
   ]
  },
  {
   "cell_type": "code",
   "execution_count": 3,
   "id": "e8a14f19",
   "metadata": {
    "ExecuteTime": {
     "end_time": "2022-10-11T00:29:54.197712Z",
     "start_time": "2022-10-11T00:29:49.673714Z"
    }
   },
   "outputs": [
    {
     "name": "stdout",
     "output_type": "stream",
     "text": [
      "Collecting ipywidgetsNote: you may need to restart the kernel to use updated packages.\n",
      "\n",
      "  Using cached ipywidgets-8.0.2-py3-none-any.whl (134 kB)\n",
      "Collecting jupyterlab-widgets~=3.0\n",
      "  Using cached jupyterlab_widgets-3.0.3-py3-none-any.whl (384 kB)\n",
      "Requirement already satisfied: traitlets>=4.3.1 in c:\\users\\sarah\\anaconda3\\envs\\mlbootcamp\\lib\\site-packages (from ipywidgets) (5.1.1)\n",
      "Collecting widgetsnbextension~=4.0\n",
      "  Using cached widgetsnbextension-4.0.3-py3-none-any.whl (2.0 MB)\n",
      "Requirement already satisfied: ipython>=6.1.0 in c:\\users\\sarah\\anaconda3\\envs\\mlbootcamp\\lib\\site-packages (from ipywidgets) (8.4.0)\n",
      "Requirement already satisfied: ipykernel>=4.5.1 in c:\\users\\sarah\\anaconda3\\envs\\mlbootcamp\\lib\\site-packages (from ipywidgets) (6.15.2)\n",
      "Requirement already satisfied: jupyter-client>=6.1.12 in c:\\users\\sarah\\anaconda3\\envs\\mlbootcamp\\lib\\site-packages (from ipykernel>=4.5.1->ipywidgets) (7.3.5)\n",
      "Requirement already satisfied: psutil in c:\\users\\sarah\\anaconda3\\envs\\mlbootcamp\\lib\\site-packages (from ipykernel>=4.5.1->ipywidgets) (5.9.0)\n",
      "Requirement already satisfied: pyzmq>=17 in c:\\users\\sarah\\anaconda3\\envs\\mlbootcamp\\lib\\site-packages (from ipykernel>=4.5.1->ipywidgets) (23.2.0)\n",
      "Requirement already satisfied: tornado>=6.1 in c:\\users\\sarah\\anaconda3\\envs\\mlbootcamp\\lib\\site-packages (from ipykernel>=4.5.1->ipywidgets) (6.2)\n",
      "Requirement already satisfied: nest-asyncio in c:\\users\\sarah\\anaconda3\\envs\\mlbootcamp\\lib\\site-packages (from ipykernel>=4.5.1->ipywidgets) (1.5.5)\n",
      "Requirement already satisfied: packaging in c:\\users\\sarah\\anaconda3\\envs\\mlbootcamp\\lib\\site-packages (from ipykernel>=4.5.1->ipywidgets) (21.3)\n",
      "Requirement already satisfied: matplotlib-inline>=0.1 in c:\\users\\sarah\\anaconda3\\envs\\mlbootcamp\\lib\\site-packages (from ipykernel>=4.5.1->ipywidgets) (0.1.6)\n",
      "Requirement already satisfied: debugpy>=1.0 in c:\\users\\sarah\\anaconda3\\envs\\mlbootcamp\\lib\\site-packages (from ipykernel>=4.5.1->ipywidgets) (1.5.1)\n",
      "Requirement already satisfied: pickleshare in c:\\users\\sarah\\anaconda3\\envs\\mlbootcamp\\lib\\site-packages (from ipython>=6.1.0->ipywidgets) (0.7.5)\n",
      "Requirement already satisfied: stack-data in c:\\users\\sarah\\anaconda3\\envs\\mlbootcamp\\lib\\site-packages (from ipython>=6.1.0->ipywidgets) (0.2.0)\n",
      "Requirement already satisfied: backcall in c:\\users\\sarah\\anaconda3\\envs\\mlbootcamp\\lib\\site-packages (from ipython>=6.1.0->ipywidgets) (0.2.0)\n",
      "Requirement already satisfied: jedi>=0.16 in c:\\users\\sarah\\anaconda3\\envs\\mlbootcamp\\lib\\site-packages (from ipython>=6.1.0->ipywidgets) (0.18.1)\n",
      "Requirement already satisfied: pygments>=2.4.0 in c:\\users\\sarah\\anaconda3\\envs\\mlbootcamp\\lib\\site-packages (from ipython>=6.1.0->ipywidgets) (2.11.2)\n",
      "Requirement already satisfied: setuptools>=18.5 in c:\\users\\sarah\\anaconda3\\envs\\mlbootcamp\\lib\\site-packages (from ipython>=6.1.0->ipywidgets) (63.4.1)\n",
      "Requirement already satisfied: prompt-toolkit!=3.0.0,!=3.0.1,<3.1.0,>=2.0.0 in c:\\users\\sarah\\anaconda3\\envs\\mlbootcamp\\lib\\site-packages (from ipython>=6.1.0->ipywidgets) (3.0.20)\n",
      "Requirement already satisfied: colorama in c:\\users\\sarah\\anaconda3\\envs\\mlbootcamp\\lib\\site-packages (from ipython>=6.1.0->ipywidgets) (0.4.5)\n",
      "Requirement already satisfied: decorator in c:\\users\\sarah\\anaconda3\\envs\\mlbootcamp\\lib\\site-packages (from ipython>=6.1.0->ipywidgets) (5.1.1)\n",
      "Requirement already satisfied: parso<0.9.0,>=0.8.0 in c:\\users\\sarah\\anaconda3\\envs\\mlbootcamp\\lib\\site-packages (from jedi>=0.16->ipython>=6.1.0->ipywidgets) (0.8.3)\n",
      "Requirement already satisfied: entrypoints in c:\\users\\sarah\\anaconda3\\envs\\mlbootcamp\\lib\\site-packages (from jupyter-client>=6.1.12->ipykernel>=4.5.1->ipywidgets) (0.4)\n",
      "Requirement already satisfied: jupyter-core>=4.9.2 in c:\\users\\sarah\\anaconda3\\envs\\mlbootcamp\\lib\\site-packages (from jupyter-client>=6.1.12->ipykernel>=4.5.1->ipywidgets) (4.11.1)\n",
      "Requirement already satisfied: python-dateutil>=2.8.2 in c:\\users\\sarah\\anaconda3\\envs\\mlbootcamp\\lib\\site-packages (from jupyter-client>=6.1.12->ipykernel>=4.5.1->ipywidgets) (2.8.2)\n",
      "Requirement already satisfied: wcwidth in c:\\users\\sarah\\anaconda3\\envs\\mlbootcamp\\lib\\site-packages (from prompt-toolkit!=3.0.0,!=3.0.1,<3.1.0,>=2.0.0->ipython>=6.1.0->ipywidgets) (0.2.5)\n",
      "Requirement already satisfied: pyparsing!=3.0.5,>=2.0.2 in c:\\users\\sarah\\anaconda3\\envs\\mlbootcamp\\lib\\site-packages (from packaging->ipykernel>=4.5.1->ipywidgets) (3.0.9)\n",
      "Requirement already satisfied: executing in c:\\users\\sarah\\anaconda3\\envs\\mlbootcamp\\lib\\site-packages (from stack-data->ipython>=6.1.0->ipywidgets) (0.8.3)\n",
      "Requirement already satisfied: pure-eval in c:\\users\\sarah\\anaconda3\\envs\\mlbootcamp\\lib\\site-packages (from stack-data->ipython>=6.1.0->ipywidgets) (0.2.2)\n",
      "Requirement already satisfied: asttokens in c:\\users\\sarah\\anaconda3\\envs\\mlbootcamp\\lib\\site-packages (from stack-data->ipython>=6.1.0->ipywidgets) (2.0.5)\n",
      "Requirement already satisfied: pywin32>=1.0 in c:\\users\\sarah\\anaconda3\\envs\\mlbootcamp\\lib\\site-packages (from jupyter-core>=4.9.2->jupyter-client>=6.1.12->ipykernel>=4.5.1->ipywidgets) (302)\n",
      "Requirement already satisfied: six>=1.5 in c:\\users\\sarah\\anaconda3\\envs\\mlbootcamp\\lib\\site-packages (from python-dateutil>=2.8.2->jupyter-client>=6.1.12->ipykernel>=4.5.1->ipywidgets) (1.16.0)\n",
      "Installing collected packages: widgetsnbextension, jupyterlab-widgets, ipywidgets\n",
      "Successfully installed ipywidgets-8.0.2 jupyterlab-widgets-3.0.3 widgetsnbextension-4.0.3\n"
     ]
    }
   ],
   "source": [
    "pip install -U ipywidgets"
   ]
  },
  {
   "cell_type": "code",
   "execution_count": 4,
   "id": "8cd78969",
   "metadata": {
    "ExecuteTime": {
     "end_time": "2022-10-11T00:29:58.357710Z",
     "start_time": "2022-10-11T00:29:54.203713Z"
    }
   },
   "outputs": [
    {
     "name": "stdout",
     "output_type": "stream",
     "text": [
      "Collecting seaborn\n",
      "  Using cached seaborn-0.12.0-py3-none-any.whl (285 kB)\n",
      "Requirement already satisfied: numpy>=1.17 in c:\\users\\sarah\\anaconda3\\envs\\mlbootcamp\\lib\\site-packages (from seaborn) (1.23.3)\n",
      "Requirement already satisfied: matplotlib>=3.1 in c:\\users\\sarah\\anaconda3\\envs\\mlbootcamp\\lib\\site-packages (from seaborn) (3.6.0)\n",
      "Requirement already satisfied: pandas>=0.25 in c:\\users\\sarah\\anaconda3\\envs\\mlbootcamp\\lib\\site-packages (from seaborn) (1.5.0)\n",
      "Requirement already satisfied: kiwisolver>=1.0.1 in c:\\users\\sarah\\anaconda3\\envs\\mlbootcamp\\lib\\site-packages (from matplotlib>=3.1->seaborn) (1.4.4)\n",
      "Requirement already satisfied: pyparsing>=2.2.1 in c:\\users\\sarah\\anaconda3\\envs\\mlbootcamp\\lib\\site-packages (from matplotlib>=3.1->seaborn) (3.0.9)\n",
      "Requirement already satisfied: python-dateutil>=2.7 in c:\\users\\sarah\\anaconda3\\envs\\mlbootcamp\\lib\\site-packages (from matplotlib>=3.1->seaborn) (2.8.2)\n",
      "Requirement already satisfied: fonttools>=4.22.0 in c:\\users\\sarah\\anaconda3\\envs\\mlbootcamp\\lib\\site-packages (from matplotlib>=3.1->seaborn) (4.37.4)\n",
      "Requirement already satisfied: packaging>=20.0 in c:\\users\\sarah\\anaconda3\\envs\\mlbootcamp\\lib\\site-packages (from matplotlib>=3.1->seaborn) (21.3)\n",
      "Requirement already satisfied: cycler>=0.10 in c:\\users\\sarah\\anaconda3\\envs\\mlbootcamp\\lib\\site-packages (from matplotlib>=3.1->seaborn) (0.11.0)\n",
      "Requirement already satisfied: contourpy>=1.0.1 in c:\\users\\sarah\\anaconda3\\envs\\mlbootcamp\\lib\\site-packages (from matplotlib>=3.1->seaborn) (1.0.5)\n",
      "Requirement already satisfied: pillow>=6.2.0 in c:\\users\\sarah\\anaconda3\\envs\\mlbootcamp\\lib\\site-packages (from matplotlib>=3.1->seaborn) (9.2.0)\n",
      "Requirement already satisfied: pytz>=2020.1 in c:\\users\\sarah\\anaconda3\\envs\\mlbootcamp\\lib\\site-packages (from pandas>=0.25->seaborn) (2022.4)\n",
      "Requirement already satisfied: six>=1.5 in c:\\users\\sarah\\anaconda3\\envs\\mlbootcamp\\lib\\site-packages (from python-dateutil>=2.7->matplotlib>=3.1->seaborn) (1.16.0)\n",
      "Installing collected packages: seaborn\n",
      "Successfully installed seaborn-0.12.0\n",
      "Note: you may need to restart the kernel to use updated packages.\n"
     ]
    }
   ],
   "source": [
    "pip install -U seaborn"
   ]
  },
  {
   "cell_type": "code",
   "execution_count": 5,
   "id": "523398dc",
   "metadata": {
    "ExecuteTime": {
     "end_time": "2022-10-11T00:30:19.453821Z",
     "start_time": "2022-10-11T00:29:58.360713Z"
    }
   },
   "outputs": [
    {
     "name": "stdout",
     "output_type": "stream",
     "text": [
      "Collecting spacy\n",
      "  Using cached spacy-3.4.1-cp39-cp39-win_amd64.whl (11.8 MB)\n",
      "Collecting typer<0.5.0,>=0.3.0\n",
      "  Using cached typer-0.4.2-py3-none-any.whl (27 kB)\n",
      "Collecting spacy-legacy<3.1.0,>=3.0.9\n",
      "  Using cached spacy_legacy-3.0.10-py2.py3-none-any.whl (21 kB)\n",
      "Requirement already satisfied: numpy>=1.15.0 in c:\\users\\sarah\\anaconda3\\envs\\mlbootcamp\\lib\\site-packages (from spacy) (1.23.3)\n",
      "Collecting pydantic!=1.8,!=1.8.1,<1.10.0,>=1.7.4\n",
      "  Using cached pydantic-1.9.2-cp39-cp39-win_amd64.whl (2.0 MB)\n",
      "Collecting spacy-loggers<2.0.0,>=1.0.0\n",
      "  Using cached spacy_loggers-1.0.3-py3-none-any.whl (9.3 kB)\n",
      "Collecting langcodes<4.0.0,>=3.2.0\n",
      "  Using cached langcodes-3.3.0-py3-none-any.whl (181 kB)\n",
      "Collecting wasabi<1.1.0,>=0.9.1\n",
      "  Using cached wasabi-0.10.1-py3-none-any.whl (26 kB)\n",
      "Requirement already satisfied: packaging>=20.0 in c:\\users\\sarah\\anaconda3\\envs\\mlbootcamp\\lib\\site-packages (from spacy) (21.3)\n",
      "Collecting catalogue<2.1.0,>=2.0.6\n",
      "  Using cached catalogue-2.0.8-py3-none-any.whl (17 kB)\n",
      "Collecting murmurhash<1.1.0,>=0.28.0\n",
      "  Using cached murmurhash-1.0.8-cp39-cp39-win_amd64.whl (18 kB)\n",
      "Requirement already satisfied: setuptools in c:\\users\\sarah\\anaconda3\\envs\\mlbootcamp\\lib\\site-packages (from spacy) (63.4.1)\n",
      "Collecting cymem<2.1.0,>=2.0.2\n",
      "  Using cached cymem-2.0.6-cp39-cp39-win_amd64.whl (36 kB)\n",
      "Requirement already satisfied: jinja2 in c:\\users\\sarah\\anaconda3\\envs\\mlbootcamp\\lib\\site-packages (from spacy) (3.0.3)\n",
      "Collecting pathy>=0.3.5\n",
      "  Using cached pathy-0.6.2-py3-none-any.whl (42 kB)\n",
      "Collecting thinc<8.2.0,>=8.1.0\n",
      "  Downloading thinc-8.1.3-cp39-cp39-win_amd64.whl (1.3 MB)\n",
      "     ---------------------------------------- 1.3/1.3 MB 6.7 MB/s eta 0:00:00\n",
      "Requirement already satisfied: tqdm<5.0.0,>=4.38.0 in c:\\users\\sarah\\appdata\\roaming\\python\\python39\\site-packages (from spacy) (4.64.1)\n",
      "Collecting requests<3.0.0,>=2.13.0\n",
      "  Using cached requests-2.28.1-py3-none-any.whl (62 kB)\n",
      "Collecting preshed<3.1.0,>=3.0.2\n",
      "  Using cached preshed-3.0.7-cp39-cp39-win_amd64.whl (96 kB)\n",
      "Collecting srsly<3.0.0,>=2.4.3\n",
      "  Using cached srsly-2.4.4-cp39-cp39-win_amd64.whl (450 kB)\n",
      "Requirement already satisfied: pyparsing!=3.0.5,>=2.0.2 in c:\\users\\sarah\\anaconda3\\envs\\mlbootcamp\\lib\\site-packages (from packaging>=20.0->spacy) (3.0.9)\n",
      "Collecting smart-open<6.0.0,>=5.2.1\n",
      "  Using cached smart_open-5.2.1-py3-none-any.whl (58 kB)\n",
      "Requirement already satisfied: typing-extensions>=3.7.4.3 in c:\\users\\sarah\\anaconda3\\envs\\mlbootcamp\\lib\\site-packages (from pydantic!=1.8,!=1.8.1,<1.10.0,>=1.7.4->spacy) (4.3.0)\n",
      "Requirement already satisfied: certifi>=2017.4.17 in c:\\users\\sarah\\anaconda3\\envs\\mlbootcamp\\lib\\site-packages (from requests<3.0.0,>=2.13.0->spacy) (2022.9.24)\n",
      "Collecting urllib3<1.27,>=1.21.1\n",
      "  Using cached urllib3-1.26.12-py2.py3-none-any.whl (140 kB)\n",
      "Collecting idna<4,>=2.5\n",
      "  Using cached idna-3.4-py3-none-any.whl (61 kB)\n",
      "Collecting charset-normalizer<3,>=2\n",
      "  Using cached charset_normalizer-2.1.1-py3-none-any.whl (39 kB)\n",
      "Collecting confection<1.0.0,>=0.0.1\n",
      "  Using cached confection-0.0.3-py3-none-any.whl (32 kB)\n",
      "Collecting blis<0.8.0,>=0.7.8\n",
      "  Using cached blis-0.7.8-cp39-cp39-win_amd64.whl (6.6 MB)\n",
      "Requirement already satisfied: colorama in c:\\users\\sarah\\anaconda3\\envs\\mlbootcamp\\lib\\site-packages (from tqdm<5.0.0,>=4.38.0->spacy) (0.4.5)\n",
      "Requirement already satisfied: click<9.0.0,>=7.1.1 in c:\\users\\sarah\\appdata\\roaming\\python\\python39\\site-packages (from typer<0.5.0,>=0.3.0->spacy) (8.1.3)\n",
      "Requirement already satisfied: MarkupSafe>=2.0 in c:\\users\\sarah\\anaconda3\\envs\\mlbootcamp\\lib\\site-packages (from jinja2->spacy) (2.1.1)\n",
      "Installing collected packages: wasabi, cymem, urllib3, spacy-loggers, spacy-legacy, smart-open, pydantic, murmurhash, langcodes, idna, charset-normalizer, catalogue, blis, typer, srsly, requests, preshed, pathy, confection, thinc, spacy\n",
      "Successfully installed blis-0.7.8 catalogue-2.0.8 charset-normalizer-2.1.1 confection-0.0.3 cymem-2.0.6 idna-3.4 langcodes-3.3.0 murmurhash-1.0.8 pathy-0.6.2 preshed-3.0.7 pydantic-1.9.2 requests-2.28.1 smart-open-5.2.1 spacy-3.4.1 spacy-legacy-3.0.10 spacy-loggers-1.0.3 srsly-2.4.4 thinc-8.1.3 typer-0.4.2 urllib3-1.26.12 wasabi-0.10.1\n",
      "Note: you may need to restart the kernel to use updated packages.\n"
     ]
    },
    {
     "name": "stderr",
     "output_type": "stream",
     "text": [
      "ERROR: pip's dependency resolver does not currently take into account all the packages that are installed. This behaviour is the source of the following dependency conflicts.\n",
      "en-core-web-sm 3.3.0 requires spacy<3.4.0,>=3.3.0.dev0, but you have spacy 3.4.1 which is incompatible.\n"
     ]
    }
   ],
   "source": [
    "pip install -U spacy"
   ]
  },
  {
   "cell_type": "code",
   "execution_count": 6,
   "id": "ee422c8d",
   "metadata": {
    "ExecuteTime": {
     "end_time": "2022-10-11T00:30:23.921822Z",
     "start_time": "2022-10-11T00:30:19.458825Z"
    }
   },
   "outputs": [
    {
     "name": "stdout",
     "output_type": "stream",
     "text": [
      "Collecting wordcloud\n",
      "  Using cached wordcloud-1.8.2.2-cp39-cp39-win_amd64.whl (153 kB)\n",
      "Requirement already satisfied: matplotlib in c:\\users\\sarah\\anaconda3\\envs\\mlbootcamp\\lib\\site-packages (from wordcloud) (3.6.0)\n",
      "Requirement already satisfied: numpy>=1.6.1 in c:\\users\\sarah\\anaconda3\\envs\\mlbootcamp\\lib\\site-packages (from wordcloud) (1.23.3)\n",
      "Requirement already satisfied: pillow in c:\\users\\sarah\\anaconda3\\envs\\mlbootcamp\\lib\\site-packages (from wordcloud) (9.2.0)\n",
      "Requirement already satisfied: contourpy>=1.0.1 in c:\\users\\sarah\\anaconda3\\envs\\mlbootcamp\\lib\\site-packages (from matplotlib->wordcloud) (1.0.5)\n",
      "Requirement already satisfied: cycler>=0.10 in c:\\users\\sarah\\anaconda3\\envs\\mlbootcamp\\lib\\site-packages (from matplotlib->wordcloud) (0.11.0)\n",
      "Requirement already satisfied: fonttools>=4.22.0 in c:\\users\\sarah\\anaconda3\\envs\\mlbootcamp\\lib\\site-packages (from matplotlib->wordcloud) (4.37.4)\n",
      "Requirement already satisfied: packaging>=20.0 in c:\\users\\sarah\\anaconda3\\envs\\mlbootcamp\\lib\\site-packages (from matplotlib->wordcloud) (21.3)\n",
      "Requirement already satisfied: python-dateutil>=2.7 in c:\\users\\sarah\\anaconda3\\envs\\mlbootcamp\\lib\\site-packages (from matplotlib->wordcloud) (2.8.2)\n",
      "Requirement already satisfied: pyparsing>=2.2.1 in c:\\users\\sarah\\anaconda3\\envs\\mlbootcamp\\lib\\site-packages (from matplotlib->wordcloud) (3.0.9)\n",
      "Requirement already satisfied: kiwisolver>=1.0.1 in c:\\users\\sarah\\anaconda3\\envs\\mlbootcamp\\lib\\site-packages (from matplotlib->wordcloud) (1.4.4)\n",
      "Requirement already satisfied: six>=1.5 in c:\\users\\sarah\\anaconda3\\envs\\mlbootcamp\\lib\\site-packages (from python-dateutil>=2.7->matplotlib->wordcloud) (1.16.0)\n",
      "Installing collected packages: wordcloud\n",
      "Successfully installed wordcloud-1.8.2.2\n",
      "Note: you may need to restart the kernel to use updated packages.\n"
     ]
    }
   ],
   "source": [
    "pip install -U wordcloud"
   ]
  },
  {
   "cell_type": "code",
   "execution_count": 7,
   "id": "cf47d4fe",
   "metadata": {
    "ExecuteTime": {
     "end_time": "2022-10-11T00:30:32.735820Z",
     "start_time": "2022-10-11T00:30:23.925824Z"
    }
   },
   "outputs": [
    {
     "name": "stdout",
     "output_type": "stream",
     "text": [
      "Collecting youtube-comment-downloader\n",
      "  Using cached youtube_comment_downloader-0.1.67-py3-none-any.whl (7.6 kB)\n",
      "Requirement already satisfied: requests in c:\\users\\sarah\\anaconda3\\envs\\mlbootcamp\\lib\\site-packages (from youtube-comment-downloader) (2.28.1)\n",
      "Collecting dateparser\n",
      "  Using cached dateparser-1.1.1-py2.py3-none-any.whl (288 kB)\n",
      "Collecting tzlocal\n",
      "  Using cached tzlocal-4.2-py3-none-any.whl (19 kB)\n",
      "Requirement already satisfied: pytz in c:\\users\\sarah\\anaconda3\\envs\\mlbootcamp\\lib\\site-packages (from dateparser->youtube-comment-downloader) (2022.4)\n",
      "Collecting regex!=2019.02.19,!=2021.8.27,<2022.3.15\n",
      "  Using cached regex-2022.3.2-cp39-cp39-win_amd64.whl (274 kB)\n",
      "Requirement already satisfied: python-dateutil in c:\\users\\sarah\\anaconda3\\envs\\mlbootcamp\\lib\\site-packages (from dateparser->youtube-comment-downloader) (2.8.2)\n",
      "Requirement already satisfied: idna<4,>=2.5 in c:\\users\\sarah\\anaconda3\\envs\\mlbootcamp\\lib\\site-packages (from requests->youtube-comment-downloader) (3.4)\n",
      "Requirement already satisfied: charset-normalizer<3,>=2 in c:\\users\\sarah\\anaconda3\\envs\\mlbootcamp\\lib\\site-packages (from requests->youtube-comment-downloader) (2.1.1)\n",
      "Requirement already satisfied: urllib3<1.27,>=1.21.1 in c:\\users\\sarah\\anaconda3\\envs\\mlbootcamp\\lib\\site-packages (from requests->youtube-comment-downloader) (1.26.12)\n",
      "Requirement already satisfied: certifi>=2017.4.17 in c:\\users\\sarah\\anaconda3\\envs\\mlbootcamp\\lib\\site-packages (from requests->youtube-comment-downloader) (2022.9.24)\n",
      "Requirement already satisfied: six>=1.5 in c:\\users\\sarah\\anaconda3\\envs\\mlbootcamp\\lib\\site-packages (from python-dateutil->dateparser->youtube-comment-downloader) (1.16.0)\n",
      "Collecting pytz-deprecation-shim\n",
      "  Using cached pytz_deprecation_shim-0.1.0.post0-py2.py3-none-any.whl (15 kB)\n",
      "Collecting tzdata\n",
      "  Using cached tzdata-2022.4-py2.py3-none-any.whl (336 kB)\n",
      "Installing collected packages: tzdata, regex, pytz-deprecation-shim, tzlocal, dateparser, youtube-comment-downloader\n",
      "  Attempting uninstall: regex\n",
      "    Found existing installation: regex 2022.9.13\n",
      "    Uninstalling regex-2022.9.13:\n",
      "      Successfully uninstalled regex-2022.9.13\n",
      "Successfully installed dateparser-1.1.1 pytz-deprecation-shim-0.1.0.post0 regex-2022.3.2 tzdata-2022.4 tzlocal-4.2 youtube-comment-downloader-0.1.67\n",
      "Note: you may need to restart the kernel to use updated packages.\n"
     ]
    }
   ],
   "source": [
    "pip install -U youtube-comment-downloader"
   ]
  },
  {
   "cell_type": "code",
   "execution_count": 8,
   "id": "8fdb1ac5",
   "metadata": {
    "ExecuteTime": {
     "end_time": "2022-10-11T00:30:35.866862Z",
     "start_time": "2022-10-11T00:30:32.738823Z"
    }
   },
   "outputs": [
    {
     "name": "stdout",
     "output_type": "stream",
     "text": [
      "Requirement already satisfied: numpy in c:\\users\\sarah\\anaconda3\\envs\\mlbootcamp\\lib\\site-packages (1.23.3)\n",
      "Note: you may need to restart the kernel to use updated packages.\n"
     ]
    }
   ],
   "source": [
    "pip install -U numpy"
   ]
  },
  {
   "cell_type": "markdown",
   "id": "a3224bc7",
   "metadata": {},
   "source": [
    "If the installation is successful, the cell below will not produce an error."
   ]
  },
  {
   "cell_type": "code",
   "execution_count": 9,
   "id": "59171fda",
   "metadata": {
    "ExecuteTime": {
     "end_time": "2022-10-11T00:30:37.948443Z",
     "start_time": "2022-10-11T00:30:35.871860Z"
    }
   },
   "outputs": [
    {
     "ename": "ModuleNotFoundError",
     "evalue": "No module named 'numba'",
     "output_type": "error",
     "traceback": [
      "\u001b[1;31m---------------------------------------------------------------------------\u001b[0m",
      "\u001b[1;31mModuleNotFoundError\u001b[0m                       Traceback (most recent call last)",
      "Input \u001b[1;32mIn [9]\u001b[0m, in \u001b[0;36m<cell line: 4>\u001b[1;34m()\u001b[0m\n\u001b[0;32m      2\u001b[0m \u001b[38;5;28;01mimport\u001b[39;00m \u001b[38;5;21;01mwarnings\u001b[39;00m\n\u001b[0;32m      3\u001b[0m \u001b[38;5;28;01mimport\u001b[39;00m \u001b[38;5;21;01mpandas\u001b[39;00m \u001b[38;5;28;01mas\u001b[39;00m \u001b[38;5;21;01mpd\u001b[39;00m\n\u001b[1;32m----> 4\u001b[0m \u001b[38;5;28;01mfrom\u001b[39;00m \u001b[38;5;21;01mnumba\u001b[39;00m \u001b[38;5;28;01mimport\u001b[39;00m jit, cuda\n\u001b[0;32m      5\u001b[0m \u001b[38;5;28;01mimport\u001b[39;00m \u001b[38;5;21;01mre\u001b[39;00m\n\u001b[0;32m      6\u001b[0m \u001b[38;5;28;01mfrom\u001b[39;00m \u001b[38;5;21;01myoutube_comment_downloader\u001b[39;00m \u001b[38;5;28;01mimport\u001b[39;00m \u001b[38;5;241m*\u001b[39m\n",
      "\u001b[1;31mModuleNotFoundError\u001b[0m: No module named 'numba'"
     ]
    }
   ],
   "source": [
    "# Importing Tools\n",
    "import warnings\n",
    "import pandas as pd\n",
    "from numba import jit, cuda\n",
    "import re\n",
    "from youtube_comment_downloader import *\n",
    "import pickle\n",
    "import numpy as np\n",
    "from collections import Counter\n",
    "\n",
    "# Visualization packages\n",
    "import matplotlib.pyplot as plt\n",
    "import seaborn as sns\n",
    "from wordcloud import WordCloud\n",
    "from ipywidgets import *\n",
    "from nltk import sent_tokenize, word_tokenize\n",
    "from nltk.stem import WordNetLemmatizer\n",
    "from wordcloud import STOPWORDS\n",
    "%matplotlib inline\n",
    "\n",
    " \n",
    "\n",
    "# Machine learning packages\n",
    "import nltk\n",
    "from nltk.sentiment.vader import SentimentIntensityAnalyzer\n",
    "from sklearn.feature_extraction.text import TfidfVectorizer\n",
    "from sklearn.linear_model import LogisticRegression\n",
    "from nltk.stem import PorterStemmer\n",
    "import spacy\n",
    "\n",
    "dl = nltk.download('vader_lexicon')\n",
    "nltk.download('punkt')\n",
    "nltk.download('wordnet')\n",
    "nltk.download('stopwords')\n",
    "\n",
    "\n",
    "print('***** Success *****')"
   ]
  },
  {
   "cell_type": "code",
   "execution_count": null,
   "id": "9f7549f0",
   "metadata": {},
   "outputs": [],
   "source": []
  }
 ],
 "metadata": {
  "kernelspec": {
   "display_name": "Python 3 (ipykernel)",
   "language": "python",
   "name": "python3"
  },
  "language_info": {
   "codemirror_mode": {
    "name": "ipython",
    "version": 3
   },
   "file_extension": ".py",
   "mimetype": "text/x-python",
   "name": "python",
   "nbconvert_exporter": "python",
   "pygments_lexer": "ipython3",
   "version": "3.9.13"
  },
  "toc": {
   "base_numbering": 1,
   "nav_menu": {},
   "number_sections": true,
   "sideBar": true,
   "skip_h1_title": false,
   "title_cell": "Table of Contents",
   "title_sidebar": "Contents",
   "toc_cell": false,
   "toc_position": {},
   "toc_section_display": true,
   "toc_window_display": false
  },
  "varInspector": {
   "cols": {
    "lenName": 16,
    "lenType": 16,
    "lenVar": 40
   },
   "kernels_config": {
    "python": {
     "delete_cmd_postfix": "",
     "delete_cmd_prefix": "del ",
     "library": "var_list.py",
     "varRefreshCmd": "print(var_dic_list())"
    },
    "r": {
     "delete_cmd_postfix": ") ",
     "delete_cmd_prefix": "rm(",
     "library": "var_list.r",
     "varRefreshCmd": "cat(var_dic_list()) "
    }
   },
   "types_to_exclude": [
    "module",
    "function",
    "builtin_function_or_method",
    "instance",
    "_Feature"
   ],
   "window_display": false
  },
  "vscode": {
   "interpreter": {
    "hash": "41580ad955a486e98d8fd5c235d14a3bbc54a23f106b098eee5b5783447a7c39"
   }
  }
 },
 "nbformat": 4,
 "nbformat_minor": 5
}
