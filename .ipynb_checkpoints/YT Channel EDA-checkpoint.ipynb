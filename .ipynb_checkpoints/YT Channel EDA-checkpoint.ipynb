{
 "cells": [
  {
   "cell_type": "code",
   "execution_count": 14,
   "id": "514a7816",
   "metadata": {
    "ExecuteTime": {
     "end_time": "2022-10-12T03:33:15.181966Z",
     "start_time": "2022-10-12T03:33:15.128955Z"
    }
   },
   "outputs": [],
   "source": [
    "import pandas as pd\n",
    "import re, json, time\n",
    "from selenium import webdriver\n",
    "from selenium.webdriver.chrome.service import Service\n",
    "from webdriver_manager.chrome import ChromeDriverManager\n",
    "from parsel import Selector\n",
    "\n",
    "\n",
    "def scroll_page(url):\n",
    "    service = Service(executable_path=\"C:/chromedriver_win32/chromedriver.exe\")\n",
    "\n",
    "    options = webdriver.ChromeOptions()\n",
    "    options.headless = True\n",
    "    options.add_argument(\"--lang=en\")\n",
    "    options.add_argument(\"user-agent=Mozilla/5.0 (Windows NT 10.0; Win64; x64) AppleWebKit/537.36 (KHTML, like Gecko) Chrome/104.0.0.0 Safari/537.36\")\n",
    "    options.add_argument(\"--no-sandbox\")\n",
    "    options.add_argument(\"--disable-dev-shm-usage\")\n",
    "\n",
    "    driver = webdriver.Chrome(service=service, options=options)\n",
    "    driver.get(url)\n",
    "\n",
    "    old_height = driver.execute_script(\"\"\"\n",
    "        function getHeight() {\n",
    "            return document.querySelector('ytd-app').scrollHeight;\n",
    "        }\n",
    "        return getHeight();\n",
    "    \"\"\")\n",
    "\n",
    "    while True:\n",
    "        driver.execute_script(\"window.scrollTo(0, document.querySelector('ytd-app').scrollHeight)\")\n",
    "\n",
    "        time.sleep(2)\n",
    "\n",
    "        new_height = driver.execute_script(\"\"\"\n",
    "            function getHeight() {\n",
    "                return document.querySelector('ytd-app').scrollHeight;\n",
    "            }\n",
    "            return getHeight();\n",
    "        \"\"\")\n",
    "\n",
    "        if new_height == old_height:\n",
    "            break\n",
    "\n",
    "        old_height = new_height\n",
    "\n",
    "    selector = Selector(driver.page_source)\n",
    "    driver.quit()\n",
    "\n",
    "    return selector\n",
    "\n",
    "\n",
    "def scrape_all_data(selector):\n",
    "    youtube_video_page = []\n",
    "\n",
    "    all_script_tags = selector.css(\"script\").getall()\n",
    "\n",
    "    title = selector.css(\".title .ytd-video-primary-info-renderer::text\").get()\n",
    "\n",
    "    # https://regex101.com/r/gHeLwZ/1\n",
    "    views = int(re.search(r\"(.*)\\s\", selector.css(\".view-count::text\").get()).group().replace(\",\", \"\"))\n",
    "\n",
    "    # https://regex101.com/r/9OGwJp/1\n",
    "    likes = int(re.search(r\"(.*)\\s\", selector.css(\"#top-level-buttons-computed > ytd-toggle-button-renderer:first-child #text::attr(aria-label)\").get()).group().replace(\",\", \"\"))\n",
    "\n",
    "    date = selector.css(\"#info-strings yt-formatted-string::text\").get()\n",
    "\n",
    "    duration = selector.css(\".ytp-time-duration::text\").get()\n",
    "\n",
    "    # https://regex101.com/r/0JNma3/1\n",
    "    keywords = \"\".join(re.findall(r'\"keywords\":\\[(.*)\\],\"channelId\":\".*\"', str(all_script_tags))).replace('\\\"', '').split(\",\")\n",
    "\n",
    "    # https://regex101.com/r/9VhH1s/1\n",
    "    thumbnail = re.findall(r'\\[{\"url\":\"(\\S+)\",\"width\":\\d*,\"height\":\\d*},', str(all_script_tags))[0].split('\",')[0]\n",
    "\n",
    "    channel = {\n",
    "        # https://regex101.com/r/xFUzq5/1\n",
    "        \"id\": \"\".join(re.findall(r'\"channelId\":\"(.*)\",\"isOwnerViewing\"', str(all_script_tags))),\n",
    "        \"name\": selector.css(\"#channel-name a::text\").get(),\n",
    "        \"link\": f'https://www.youtube.com{selector.css(\"#channel-name a::attr(href)\").get()}',\n",
    "        \"subscribers\": selector.css(\"#owner-sub-count::text\").get(),\n",
    "        \"thumbnail\": selector.css(\"#img::attr(src)\").get(),\n",
    "    }\n",
    "\n",
    "    description = selector.css(\".ytd-expandable-video-description-body-renderer span:nth-child(1)::text\").get()\n",
    "\n",
    "    hashtags = [\n",
    "        {\n",
    "            \"name\": hash_tag.css(\"::text\").get(),\n",
    "            \"link\": f'https://www.youtube.com{hash_tag.css(\"::attr(href)\").get()}'\n",
    "        }\n",
    "        for hash_tag in selector.css(\".ytd-expandable-video-description-body-renderer a\")\n",
    "        if hash_tag.css(\"::text\").get()[0] == '#'\n",
    "    ]\n",
    "\n",
    "    # https://regex101.com/r/onRk9j/1\n",
    "    category = \"\".join(re.findall(r'\"category\":\"(.*)\",\"publishDate\"', str(all_script_tags)))\n",
    "\n",
    "    comments_amount = int(selector.css(\"#count .count-text span:nth-child(1)::text\").get().replace(\",\", \"\"))\n",
    "\n",
    "    comments = []\n",
    "\n",
    "    for comment in selector.css(\"#contents > ytd-comment-thread-renderer\"):\n",
    "        comments.append({\n",
    "            \"author\": comment.css(\"#author-text span::text\").get().strip(),\n",
    "            \"link\": f'https://www.youtube.com{comment.css(\"#author-text::attr(href)\").get()}',\n",
    "            \"date\": comment.css(\".published-time-text a::text\").get(),\n",
    "            \"likes\": comment.css(\"#vote-count-middle::text\").get().strip(),\n",
    "            \"comment\": comment.css(\"#content-text::text\").get(),\n",
    "            \"avatar\": comment.css(\"#author-thumbnail #img::attr(src)\").get(),\n",
    "        })\n",
    "\n",
    "    suggested_videos = []\n",
    "\n",
    "    for video in selector.css(\"ytd-compact-video-renderer\"):\n",
    "\n",
    "        suggested_videos.append({\n",
    "            \"title\": video.css(\"#video-title::text\").get().strip(),\n",
    "            \"link\": f'https://www.youtube.com{video.css(\"#thumbnail::attr(href)\").get()}',\n",
    "            \"channel_name\": video.css(\"#channel-name #text::text\").get(),\n",
    "            \"date\": video.css(\"#metadata-line span:nth-child(2)::text\").get(),\n",
    "            \"views\": video.css(\"#metadata-line span:nth-child(1)::text\").get(),\n",
    "            \"duration\": video.css(\"#overlays #text::text\").get().strip(),\n",
    "            \"thumbnail\": video.css(\"#thumbnail img::attr(src)\").get(),\n",
    "        })\n",
    "\n",
    "    youtube_video_page.append({\n",
    "        \"title\": title,\n",
    "        \"views\": views,\n",
    "        \"likes\": likes,\n",
    "        \"date\": date,\n",
    "        \"duration\": duration,\n",
    "        \"channel\": channel,\n",
    "        \"keywords\": keywords,\n",
    "        \"thumbnail\": thumbnail,\n",
    "        \"description\": description,\n",
    "        \"hashtags\": hashtags,\n",
    "        \"category\": category,\n",
    "        \"suggested_videos\": suggested_videos,\n",
    "        \"comments_amount\": comments_amount,\n",
    "        \"comments\": comments,\n",
    "    })\n",
    "\n",
    "    return comments\n",
    "    "
   ]
  },
  {
   "cell_type": "code",
   "execution_count": 16,
   "id": "93fc4867",
   "metadata": {
    "ExecuteTime": {
     "end_time": "2022-10-12T03:34:20.188222Z",
     "start_time": "2022-10-12T03:33:40.580069Z"
    }
   },
   "outputs": [],
   "source": [
    "url = \"https://www.youtube.com/watch?v=fbh3OAw3VVQ\"\n",
    "result = scroll_page(url)\n",
    "comments = scrape_all_data(result)\n",
    "\n"
   ]
  },
  {
   "cell_type": "code",
   "execution_count": 38,
   "id": "f4da287e",
   "metadata": {
    "ExecuteTime": {
     "end_time": "2022-10-12T03:54:17.634420Z",
     "start_time": "2022-10-12T03:54:17.612457Z"
    }
   },
   "outputs": [
    {
     "name": "stdout",
     "output_type": "stream",
     "text": [
      "<class 'pandas.core.frame.DataFrame'>\n",
      "RangeIndex: 251 entries, 0 to 250\n",
      "Data columns (total 6 columns):\n",
      " #   Column   Non-Null Count  Dtype \n",
      "---  ------   --------------  ----- \n",
      " 0   author   251 non-null    object\n",
      " 1   link     251 non-null    object\n",
      " 2   date     251 non-null    object\n",
      " 3   likes    251 non-null    object\n",
      " 4   comment  216 non-null    object\n",
      " 5   avatar   122 non-null    object\n",
      "dtypes: object(6)\n",
      "memory usage: 11.9+ KB\n"
     ]
    }
   ],
   "source": [
    "df = pd.DataFrame(comments)\n",
    "df.info()"
   ]
  },
  {
   "cell_type": "code",
   "execution_count": 41,
   "id": "3e781efa",
   "metadata": {
    "ExecuteTime": {
     "end_time": "2022-10-12T03:54:39.552139Z",
     "start_time": "2022-10-12T03:54:39.531103Z"
    }
   },
   "outputs": [],
   "source": [
    "df.drop_duplicates(inplace=True)"
   ]
  },
  {
   "cell_type": "code",
   "execution_count": 39,
   "id": "9fb1f99f",
   "metadata": {
    "ExecuteTime": {
     "end_time": "2022-10-12T03:54:27.282827Z",
     "start_time": "2022-10-12T03:54:27.261824Z"
    }
   },
   "outputs": [],
   "source": [
    "df[\"avatar\"] = df[\"avatar\"].fillna(\"Default\")"
   ]
  },
  {
   "cell_type": "code",
   "execution_count": 44,
   "id": "dae09376",
   "metadata": {
    "ExecuteTime": {
     "end_time": "2022-10-12T03:55:47.352580Z",
     "start_time": "2022-10-12T03:55:47.329537Z"
    }
   },
   "outputs": [
    {
     "name": "stdout",
     "output_type": "stream",
     "text": [
      "<class 'pandas.core.frame.DataFrame'>\n",
      "Int64Index: 215 entries, 0 to 250\n",
      "Data columns (total 6 columns):\n",
      " #   Column   Non-Null Count  Dtype \n",
      "---  ------   --------------  ----- \n",
      " 0   author   215 non-null    object\n",
      " 1   link     215 non-null    object\n",
      " 2   date     215 non-null    object\n",
      " 3   likes    215 non-null    object\n",
      " 4   comment  215 non-null    object\n",
      " 5   avatar   215 non-null    object\n",
      "dtypes: object(6)\n",
      "memory usage: 11.8+ KB\n"
     ]
    }
   ],
   "source": [
    "df.dropna(inplace=True)\n",
    "df.info()"
   ]
  },
  {
   "cell_type": "code",
   "execution_count": null,
   "id": "83b37746",
   "metadata": {},
   "outputs": [],
   "source": []
  }
 ],
 "metadata": {
  "kernelspec": {
   "display_name": "Python 3 (ipykernel)",
   "language": "python",
   "name": "python3"
  },
  "language_info": {
   "codemirror_mode": {
    "name": "ipython",
    "version": 3
   },
   "file_extension": ".py",
   "mimetype": "text/x-python",
   "name": "python",
   "nbconvert_exporter": "python",
   "pygments_lexer": "ipython3",
   "version": "3.9.13"
  },
  "toc": {
   "base_numbering": 1,
   "nav_menu": {},
   "number_sections": true,
   "sideBar": true,
   "skip_h1_title": false,
   "title_cell": "Table of Contents",
   "title_sidebar": "Contents",
   "toc_cell": false,
   "toc_position": {},
   "toc_section_display": true,
   "toc_window_display": false
  },
  "varInspector": {
   "cols": {
    "lenName": 16,
    "lenType": 16,
    "lenVar": 40
   },
   "kernels_config": {
    "python": {
     "delete_cmd_postfix": "",
     "delete_cmd_prefix": "del ",
     "library": "var_list.py",
     "varRefreshCmd": "print(var_dic_list())"
    },
    "r": {
     "delete_cmd_postfix": ") ",
     "delete_cmd_prefix": "rm(",
     "library": "var_list.r",
     "varRefreshCmd": "cat(var_dic_list()) "
    }
   },
   "position": {
    "height": "179.85px",
    "left": "1158.2px",
    "right": "20px",
    "top": "120px",
    "width": "341px"
   },
   "types_to_exclude": [
    "module",
    "function",
    "builtin_function_or_method",
    "instance",
    "_Feature"
   ],
   "window_display": false
  }
 },
 "nbformat": 4,
 "nbformat_minor": 5
}
