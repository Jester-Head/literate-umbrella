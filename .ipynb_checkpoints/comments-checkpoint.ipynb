{
 "cells": [
  {
   "cell_type": "code",
   "execution_count": 1,
   "metadata": {
    "ExecuteTime": {
     "end_time": "2022-10-11T02:17:27.357718Z",
     "start_time": "2022-10-11T02:17:21.693034Z"
    },
    "extensions": {
     "jupyter_dashboards": {
      "version": 1,
      "views": {
       "default_view": {
        "hidden": true
       }
      }
     }
    }
   },
   "outputs": [],
   "source": [
    "# Importing Tools\n",
    "import warnings\n",
    "import pandas as pd\n",
    "# from numba import jit, cuda\n",
    "import re\n",
    "from youtube_comment_downloader import *\n",
    "import pickle\n",
    "import numpy as np\n",
    "from collections import Counter\n",
    "\n",
    "# Visualization packages\n",
    "import matplotlib.pyplot as plt\n",
    "import seaborn as sns\n",
    "from wordcloud import WordCloud\n",
    "from ipywidgets import *\n",
    "from nltk import sent_tokenize, word_tokenize\n",
    "from nltk.stem import WordNetLemmatizer\n",
    "from wordcloud import STOPWORDS\n",
    "%matplotlib inline\n",
    "\n",
    " \n",
    "\n",
    "# Machine learning packages\n",
    "import nltk\n",
    "from nltk.sentiment.vader import SentimentIntensityAnalyzer\n",
    "from sklearn.feature_extraction.text import TfidfVectorizer\n",
    "from sklearn.linear_model import LogisticRegression\n",
    "from nltk.stem import PorterStemmer\n",
    "import spacy\n",
    "\n",
    "\n",
    " \n",
    "\n"
   ]
  },
  {
   "cell_type": "code",
   "execution_count": 2,
   "metadata": {
    "ExecuteTime": {
     "end_time": "2022-10-11T02:17:29.184967Z",
     "start_time": "2022-10-11T02:17:27.367749Z"
    },
    "extensions": {
     "jupyter_dashboards": {
      "version": 1,
      "views": {
       "default_view": {
        "col": 0,
        "height": 5,
        "row": 0,
        "width": 11
       }
      }
     }
    }
   },
   "outputs": [
    {
     "name": "stderr",
     "output_type": "stream",
     "text": [
      "[nltk_data] Downloading package vader_lexicon to\n",
      "[nltk_data]     C:\\Users\\sarah\\AppData\\Roaming\\nltk_data...\n",
      "[nltk_data]   Package vader_lexicon is already up-to-date!\n",
      "[nltk_data] Downloading package punkt to\n",
      "[nltk_data]     C:\\Users\\sarah\\AppData\\Roaming\\nltk_data...\n",
      "[nltk_data]   Package punkt is already up-to-date!\n",
      "[nltk_data] Downloading package wordnet to\n",
      "[nltk_data]     C:\\Users\\sarah\\AppData\\Roaming\\nltk_data...\n",
      "[nltk_data]   Package wordnet is already up-to-date!\n",
      "[nltk_data] Downloading package stopwords to\n",
      "[nltk_data]     C:\\Users\\sarah\\AppData\\Roaming\\nltk_data...\n",
      "[nltk_data]   Package stopwords is already up-to-date!\n"
     ]
    }
   ],
   "source": [
    "# Utility\n",
    "warnings.filterwarnings('ignore')\n",
    "NUM_OF_THREADS = 6\n",
    "pd.set_option('display.max_colwidth', None)\n",
    "dl = nltk.download('vader_lexicon')\n",
    "nltk.download('punkt')\n",
    "nltk.download('wordnet')\n",
    "nltk.download('stopwords')\n",
    "en = spacy.load('en_core_web_sm')\n",
    "stopwords = en.Defaults.stop_words"
   ]
  },
  {
   "cell_type": "code",
   "execution_count": 3,
   "metadata": {
    "ExecuteTime": {
     "end_time": "2022-10-11T02:17:30.822054Z",
     "start_time": "2022-10-11T02:17:29.193896Z"
    },
    "extensions": {
     "jupyter_dashboards": {
      "version": 1,
      "views": {
       "default_view": {
        "hidden": true
       }
      }
     }
    }
   },
   "outputs": [],
   "source": [
    "train = pd.read_csv(\".\\input\\\\updated_train_data.csv\")"
   ]
  },
  {
   "cell_type": "code",
   "execution_count": 4,
   "metadata": {
    "ExecuteTime": {
     "end_time": "2022-10-11T02:17:30.837941Z",
     "start_time": "2022-10-11T02:17:30.825977Z"
    },
    "extensions": {
     "jupyter_dashboards": {
      "version": 1,
      "views": {
       "default_view": {
        "hidden": true
       }
      }
     }
    }
   },
   "outputs": [],
   "source": [
    "filename = 'logist_model.sav'\n",
    "model = pickle.load(open(filename, 'rb'))"
   ]
  },
  {
   "cell_type": "code",
   "execution_count": 5,
   "metadata": {
    "ExecuteTime": {
     "end_time": "2022-10-11T02:17:30.869894Z",
     "start_time": "2022-10-11T02:17:30.849894Z"
    },
    "extensions": {
     "jupyter_dashboards": {
      "version": 1,
      "views": {
       "default_view": {
        "hidden": true
       }
      }
     }
    }
   },
   "outputs": [],
   "source": [
    "# Collecting and Cleaning Data\n",
    "# function optimized to run on gpu \n",
    "# @jit(target_backend='cuda')\n",
    "def get_comments(video_url):\n",
    "    all_data=[]\n",
    "    downloader = YoutubeCommentDownloader()\n",
    "    comments = downloader.get_comments_from_url(video_url,sort_by=SORT_BY_POPULAR)\n",
    "    for comment in list(comments):\n",
    "        data = dict(comment_id = comment['cid'],\n",
    "                    comment_text = comment['text'],\n",
    "                    time = comment['time'],\n",
    "                    author = comment['author']\n",
    "                    \n",
    "                   )\n",
    "        all_data.append(data)\n",
    "    return all_data"
   ]
  },
  {
   "cell_type": "code",
   "execution_count": 6,
   "metadata": {
    "ExecuteTime": {
     "end_time": "2022-10-11T02:17:30.900893Z",
     "start_time": "2022-10-11T02:17:30.874582Z"
    },
    "extensions": {
     "jupyter_dashboards": {
      "version": 1,
      "views": {
       "default_view": {
        "hidden": true
       }
      }
     }
    }
   },
   "outputs": [],
   "source": [
    "def apply_regex(corpus):\n",
    "    corpus = corpus.apply(lambda x: re.sub(\"\\S*\\d\\S*\",\" \", x))          # removes numbers and words concatenated with numbers (IE h4ck3r)\n",
    "    corpus = corpus.apply(lambda x: re.sub(\"\\S*@\\S*\\s?\",\" \", x))        # removes emails and mentions (words with @)\n",
    "    corpus = corpus.apply(lambda x: re.sub(\"\\S*#\\S*\\s?\",\" \", x))        # removes hashtags (words with #)\n",
    "    corpus = corpus.apply(lambda x: re.sub(r'http\\S+', ' ', x))         # removes URLs\n",
    "    corpus = corpus.apply(lambda x: re.sub(r'[^a-zA-Z0-9 ]', ' ',x))    # keeps numbers and letters\n",
    "    corpus = corpus.apply(lambda x: x.replace(u'\\ufffd', '8'))          # replaces the ASCII '�' symbol with '8'\n",
    "    corpus = corpus.apply(lambda x: re.sub(' +', ' ', x))               # removes multiple spaces\n",
    "    return corpus"
   ]
  },
  {
   "cell_type": "code",
   "execution_count": 7,
   "metadata": {
    "ExecuteTime": {
     "end_time": "2022-10-11T02:17:30.916245Z",
     "start_time": "2022-10-11T02:17:30.904896Z"
    },
    "extensions": {
     "jupyter_dashboards": {
      "version": 1,
      "views": {
       "default_view": {
        "hidden": true
       }
      }
     }
    }
   },
   "outputs": [],
   "source": [
    "# Sentiment Analysis\n",
    "def get_pol(df):\n",
    "    sid = SentimentIntensityAnalyzer()\n",
    "    df['compound'] = df['comment_text'].apply(lambda comment_text:sid.polarity_scores(str(comment_text))['compound'])\n",
    "    return df"
   ]
  },
  {
   "cell_type": "code",
   "execution_count": 8,
   "metadata": {
    "ExecuteTime": {
     "end_time": "2022-10-11T02:17:30.947959Z",
     "start_time": "2022-10-11T02:17:30.925896Z"
    },
    "extensions": {
     "jupyter_dashboards": {
      "version": 1,
      "views": {
       "default_view": {
        "hidden": true
       }
      }
     }
    }
   },
   "outputs": [],
   "source": [
    "# function optimized to run on gpu \n",
    "# @jit(target_backend='cuda')    \n",
    "def sentiment_score(df):\n",
    "    df['sentiment'] = ''\n",
    "    for i,score in enumerate(df['compound']):\n",
    "        if float(score) > 0:\n",
    "            df['sentiment'][i] = 'positive'\n",
    "        elif float(score) == 0.0:\n",
    "            df['sentiment'][i] = 'neutral'\n",
    "        else:\n",
    "            df['sentiment'][i] ='negative'\n",
    "    return df"
   ]
  },
  {
   "cell_type": "code",
   "execution_count": 9,
   "metadata": {
    "ExecuteTime": {
     "end_time": "2022-10-11T02:17:30.978894Z",
     "start_time": "2022-10-11T02:17:30.956945Z"
    },
    "extensions": {
     "jupyter_dashboards": {
      "version": 1,
      "views": {
       "default_view": {
        "hidden": true
       }
      }
     }
    }
   },
   "outputs": [],
   "source": [
    "# Processing Comments\n",
    "def process_comments(data,train):\n",
    "    df = pd.DataFrame(data['sentiment'] +' '+ data['clean_text'])\n",
    "    df.columns = ['text']\n",
    "    \n",
    "    tfid = TfidfVectorizer(lowercase=False,max_features=500)\n",
    "    tfid_vect = tfid.fit_transform(train['comment_text'])\n",
    "    tfid_vect = tfid.transform(df['text'])\n",
    "    \n",
    "    \n",
    "    return tfid_vect"
   ]
  },
  {
   "cell_type": "code",
   "execution_count": 10,
   "metadata": {
    "ExecuteTime": {
     "end_time": "2022-10-11T02:17:30.993893Z",
     "start_time": "2022-10-11T02:17:30.983892Z"
    },
    "extensions": {
     "jupyter_dashboards": {
      "version": 1,
      "views": {
       "default_view": {
        "hidden": true
       }
      }
     }
    }
   },
   "outputs": [],
   "source": [
    "# Toxicity Score\n",
    "def get_predictions(tfid_vect):\n",
    "    return model.predict(tfid_vect)\n"
   ]
  },
  {
   "cell_type": "code",
   "execution_count": 11,
   "metadata": {
    "ExecuteTime": {
     "end_time": "2022-10-11T02:17:31.009391Z",
     "start_time": "2022-10-11T02:17:30.997895Z"
    },
    "extensions": {
     "jupyter_dashboards": {
      "version": 1,
      "views": {
       "default_view": {
        "hidden": true
       }
      }
     }
    }
   },
   "outputs": [],
   "source": [
    "# Assigns toxicity score on a scale of 0-5\n",
    "def get_toxic_score(data):\n",
    "    df = data[['comment_text','sentiment']]\n",
    "    df['score'] = data['severe_toxic']+data['obscene']+data['threat']+data['insult']+data['identity_hate']\n",
    "    return df"
   ]
  },
  {
   "cell_type": "code",
   "execution_count": 12,
   "metadata": {
    "ExecuteTime": {
     "end_time": "2022-10-11T02:17:31.024893Z",
     "start_time": "2022-10-11T02:17:31.013895Z"
    },
    "extensions": {
     "jupyter_dashboards": {
      "version": 1,
      "views": {
       "default_view": {
        "hidden": true
       }
      }
     }
    }
   },
   "outputs": [],
   "source": [
    "def get_results(data,prediction,score = 0,filtered = False):\n",
    "    data['Toxic_Score'] = prediction.tolist()\n",
    "    df = data.drop(['clean_text','compound'],axis = 1)\n",
    "    df['comment_text'].drop_duplicates()\n",
    "    if filtered:\n",
    "        reports = df.query('Toxic_Score' == score)\n",
    "    else:\n",
    "        reports = df.query('Toxic_Score')\n",
    "    return reports\n",
    "        "
   ]
  },
  {
   "cell_type": "code",
   "execution_count": 49,
   "metadata": {
    "ExecuteTime": {
     "end_time": "2022-10-11T02:42:41.387896Z",
     "start_time": "2022-10-11T02:42:41.370806Z"
    },
    "extensions": {
     "jupyter_dashboards": {
      "version": 1,
      "views": {
       "default_view": {
        "hidden": true
       }
      }
     }
    }
   },
   "outputs": [],
   "source": [
    "# Creates Visualizations\n",
    "out_graph = widgets.Output()\n",
    "@out_graph.capture()\n",
    "def show_distribution(reports):\n",
    "#     word_freq = words_helper(reports)\n",
    "#     sns.set_style(\"darkgrid\")\n",
    "#     toxic_score_dist()\n",
    "#     sentiment_dist()\n",
    "#     word_freq_dist(word_freq)\n",
    "    with out_graph:\n",
    "        sns.set()\n",
    "        fig, axes = plt.subplots(nrows = 3,figsize=(10,15))\n",
    "        word_freq = words_helper(reports)\n",
    "        order = ['negative','neutral','positive']\n",
    "        sns.countplot(x = reports[\"sentiment\"],order = order,ax= axes[0])\n",
    "        sns.barplot(x = word_freq['words'],y=word_freq['count'],ax=axes[1])\n",
    "        order2= range(6)\n",
    "        sns.countplot(x = reports[\"Toxic_Score\"],order=order2)\n",
    "        plt.show()\n",
    "\n",
    "    "
   ]
  },
  {
   "cell_type": "code",
   "execution_count": 31,
   "metadata": {
    "ExecuteTime": {
     "end_time": "2022-10-11T02:24:34.354956Z",
     "start_time": "2022-10-11T02:24:34.330929Z"
    }
   },
   "outputs": [],
   "source": [
    "# out1 = widgets.Output()\n",
    "# @out1.capture()\n",
    "def toxic_score_dist():\n",
    "#     with out1:\n",
    "        order= range(6)\n",
    "        ax1 = sns.countplot(x = reports[\"Toxic_Score\"],order=order)\n",
    "        plt.title('Distribution of Toxic Comments')\n",
    "        plt.xlabel('Toxicity Rating')\n",
    "        plt.ylabel('Count')\n",
    "        for container in ax1.containers:\n",
    "            plt.bar_label(container)\n",
    "        plt.show()\n",
    "     \n",
    "      "
   ]
  },
  {
   "cell_type": "code",
   "execution_count": 32,
   "metadata": {
    "ExecuteTime": {
     "end_time": "2022-10-11T02:24:34.654923Z",
     "start_time": "2022-10-11T02:24:34.634929Z"
    }
   },
   "outputs": [],
   "source": [
    "# out2 = widgets.Output()\n",
    "# @out2.capture()\n",
    "def sentiment_dist():\n",
    "#     with out2:\n",
    "        order = ['negative','neutral','positive']\n",
    "        sns.countplot(x = reports[\"sentiment\"],order = order)\n",
    "        plt.title('Distribution Sentiment')\n",
    "        plt.xlabel('Sentiment')\n",
    "        plt.ylabel('Count')\n",
    "        plt.show()\n",
    "\n",
    "  "
   ]
  },
  {
   "cell_type": "code",
   "execution_count": 33,
   "metadata": {
    "ExecuteTime": {
     "end_time": "2022-10-11T02:24:34.969190Z",
     "start_time": "2022-10-11T02:24:34.936202Z"
    }
   },
   "outputs": [],
   "source": [
    "# out3 = widgets.Output()\n",
    "# @out3.capture()\n",
    "def word_freq_dist(word_freq):\n",
    "#     with out3:\n",
    "        sns.barplot(x = word_freq['words'],y=word_freq['count'])\n",
    "        plt.title('Most Common Words')\n",
    "        plt.xticks(rotation=45)\n",
    "#         plt.show()\n"
   ]
  },
  {
   "cell_type": "code",
   "execution_count": 34,
   "metadata": {
    "ExecuteTime": {
     "end_time": "2022-10-11T02:24:35.347235Z",
     "start_time": "2022-10-11T02:24:35.331549Z"
    },
    "extensions": {
     "jupyter_dashboards": {
      "version": 1,
      "views": {
       "default_view": {
        "hidden": true
       }
      }
     }
    }
   },
   "outputs": [],
   "source": [
    "# Driver\n",
    "def load_comments(btn):\n",
    "    video_url = url.value\n",
    "    global data\n",
    "    global reports\n",
    "    score = 0\n",
    "    filtered = False\n",
    "    comments = get_comments(video_url)\n",
    "    data = pd.DataFrame(comments)\n",
    "    data.drop_duplicates\n",
    "    data = get_pol(data)\n",
    "    data = sentiment_score(data)\n",
    "    data['clean_text'] = apply_regex(data['comment_text'])\n",
    "    vect = process_comments(data,train)\n",
    "    prediction = get_predictions(vect)\n",
    "    reports = get_results(data,prediction,score,filtered)\n",
    "    show_distribution(reports)\n"
   ]
  },
  {
   "cell_type": "code",
   "execution_count": 35,
   "metadata": {
    "ExecuteTime": {
     "end_time": "2022-10-11T02:24:35.664178Z",
     "start_time": "2022-10-11T02:24:35.653178Z"
    },
    "extensions": {
     "jupyter_dashboards": {
      "version": 1,
      "views": {
       "default_view": {
        "hidden": true
       }
      }
     }
    }
   },
   "outputs": [],
   "source": [
    "def extreme_toxic(btn5):\n",
    "    # Report Comments with a Toxic Score of 5\n",
    "    report5 = data.drop(['compound','clean_text'],axis = 1)\n",
    "    report5 = data[data['Toxic_Score'] == 5]\n",
    "    report5.style.set_caption(\"Toxic Score:5 Reccomendation:Report Comments\")\n",
    "    display(report5)\n"
   ]
  },
  {
   "cell_type": "code",
   "execution_count": 36,
   "metadata": {
    "ExecuteTime": {
     "end_time": "2022-10-11T02:24:36.043383Z",
     "start_time": "2022-10-11T02:24:36.026175Z"
    },
    "extensions": {
     "jupyter_dashboards": {
      "version": 1,
      "views": {
       "default_view": {
        "hidden": true
       }
      }
     }
    }
   },
   "outputs": [],
   "source": [
    "# Cleans text for visualizations\n",
    "def words_helper(data):\n",
    "    for word in STOPWORDS:\n",
    "        if word not in stopwords:\n",
    "            stopwords.add(word)\n",
    "    stopwords.add('that')\n",
    "    stopwords.add('this')\n",
    "    stopwords.update\n",
    "    \n",
    "    data['clean_text'] = data['comment_text'].str.replace(\"[^a-zA-Z#]\", \" \")\n",
    "    data['clean_text'] = data['clean_text'].apply(lambda x: ' '.join([w for w in x.split() if len(w)>3]))\n",
    "    all_words = ' '.join([text for text in data['clean_text'] if text not in stopwords])    \n",
    "    \n",
    "    cnt = Counter()\n",
    "\n",
    "    wordlist = all_words.split(' ')\n",
    "\n",
    "    for word in wordlist:\n",
    "        cnt[word] += 1\n",
    "        \n",
    "    word_freq = pd.DataFrame(cnt.most_common(11),\n",
    "                             columns=['words', 'count'])\n",
    "    return word_freq\n",
    "\n"
   ]
  },
  {
   "cell_type": "code",
   "execution_count": 37,
   "metadata": {
    "ExecuteTime": {
     "end_time": "2022-10-11T02:24:36.391750Z",
     "start_time": "2022-10-11T02:24:36.365747Z"
    },
    "extensions": {
     "jupyter_dashboards": {
      "version": 1,
      "views": {
       "default_view": {
        "hidden": true
       }
      }
     }
    }
   },
   "outputs": [],
   "source": [
    "# Gets URL from user\n",
    "global url\n",
    "url = widgets.Text(\n",
    "    value='https://www.youtube.com/watch?v=aibubHq2-C8',\n",
    "    placeholder='https://www.youtube.com/watch?v=aibubHq2-C8',\n",
    "    description='Video URL:',\n",
    "    disabled=False,\n",
    "    layout=widgets.Layout(height=\"auto\")\n",
    ")\n"
   ]
  },
  {
   "cell_type": "code",
   "execution_count": 38,
   "metadata": {
    "ExecuteTime": {
     "end_time": "2022-10-11T02:24:36.735747Z",
     "start_time": "2022-10-11T02:24:36.702751Z"
    },
    "extensions": {
     "jupyter_dashboards": {
      "version": 1,
      "views": {
       "default_view": {
        "hidden": true
       }
      }
     }
    }
   },
   "outputs": [],
   "source": [
    "# Runs reports on click\n",
    "btn = widgets.Button(\n",
    "    value = '',\n",
    "    description='Get Reports',\n",
    "    disabled=False,\n",
    "    button_style='',\n",
    "    layout=widgets.Layout(height=\"auto\")\n",
    ")\n",
    "btn.on_click(load_comments)\n"
   ]
  },
  {
   "cell_type": "code",
   "execution_count": 39,
   "metadata": {
    "ExecuteTime": {
     "end_time": "2022-10-11T02:24:37.127273Z",
     "start_time": "2022-10-11T02:24:37.062750Z"
    }
   },
   "outputs": [],
   "source": [
    "dropdown_score = widgets.Dropdown(options = [('0. Nontoxic',0), ('1. Very Slightly Toxic',1) ,('2. Slightly Toxic',2),('3. Toxic',3),('4. Severely  Toxic',4),('5. Extremely Toxic',5)])\n",
    "output_score = widgets.Output()\n",
    "@output_score.capture(clear=True)\n",
    "def dropdown_score_eventhandler(change):\n",
    "    output_score.clear_output()\n",
    "    with output_score:\n",
    "        results = data.drop(['compound','clean_text'],axis = 1)\n",
    "        display(results[results.Toxic_Score == change.new])\n",
    "        \n",
    "dropdown_score.observe(dropdown_score_eventhandler, names='value')"
   ]
  },
  {
   "cell_type": "markdown",
   "metadata": {},
   "source": [
    "# Toxic Comment Analysis"
   ]
  },
  {
   "cell_type": "code",
   "execution_count": 50,
   "metadata": {
    "ExecuteTime": {
     "end_time": "2022-10-11T02:42:52.198796Z",
     "start_time": "2022-10-11T02:42:52.169800Z"
    },
    "extensions": {
     "jupyter_dashboards": {
      "version": 1,
      "views": {
       "default_view": {
        "col": 0,
        "height": 12,
        "row": 9,
        "width": 12
       }
      }
     }
    }
   },
   "outputs": [
    {
     "data": {
      "application/vnd.jupyter.widget-view+json": {
       "model_id": "f09fce9003ec4f8c9a83123ddd8ff1df",
       "version_major": 2,
       "version_minor": 0
      },
      "text/plain": [
       "VBox(children=(Text(value='https://www.youtube.com/watch?v=aibubHq2-C8', description='Video URL:', layout=Layo…"
      ]
     },
     "metadata": {},
     "output_type": "display_data"
    }
   ],
   "source": [
    "widgets.VBox([url,btn])"
   ]
  },
  {
   "cell_type": "code",
   "execution_count": 51,
   "metadata": {
    "ExecuteTime": {
     "end_time": "2022-10-11T02:48:46.525234Z",
     "start_time": "2022-10-11T02:48:46.499843Z"
    }
   },
   "outputs": [
    {
     "data": {
      "application/vnd.jupyter.widget-view+json": {
       "model_id": "c01c15c8ec3140adad2a87bb38f1864d",
       "version_major": 2,
       "version_minor": 0
      },
      "text/plain": [
       "Output(outputs=({'output_type': 'display_data', 'data': {'text/plain': '<Figure size 1000x1500 with 3 Axes>', …"
      ]
     },
     "metadata": {},
     "output_type": "display_data"
    }
   ],
   "source": [
    "out_graph"
   ]
  },
  {
   "cell_type": "code",
   "execution_count": 25,
   "metadata": {
    "ExecuteTime": {
     "end_time": "2022-10-11T02:17:31.463568Z",
     "start_time": "2022-10-11T02:17:31.451569Z"
    }
   },
   "outputs": [
    {
     "data": {
      "application/vnd.jupyter.widget-view+json": {
       "model_id": "902fecfe6d274232bb31f4db94268cd6",
       "version_major": 2,
       "version_minor": 0
      },
      "text/plain": [
       "Dropdown(options=(('0. Nontoxic', 0), ('1. Very Slightly Toxic', 1), ('2. Slightly Toxic', 2), ('3. Toxic', 3)…"
      ]
     },
     "metadata": {},
     "output_type": "display_data"
    }
   ],
   "source": [
    "display(dropdown_score)"
   ]
  },
  {
   "cell_type": "code",
   "execution_count": 44,
   "metadata": {
    "ExecuteTime": {
     "end_time": "2022-10-11T02:27:48.632412Z",
     "start_time": "2022-10-11T02:27:48.610534Z"
    }
   },
   "outputs": [
    {
     "data": {
      "application/vnd.jupyter.widget-view+json": {
       "model_id": "de4497c58e024b55b84fee0e8d7219a0",
       "version_major": 2,
       "version_minor": 0
      },
      "text/plain": [
       "Output()"
      ]
     },
     "metadata": {},
     "output_type": "display_data"
    }
   ],
   "source": [
    "output_score"
   ]
  },
  {
   "cell_type": "code",
   "execution_count": null,
   "metadata": {
    "ExecuteTime": {
     "end_time": "2022-10-11T02:17:31.526628Z",
     "start_time": "2022-10-11T02:17:31.509628Z"
    }
   },
   "outputs": [],
   "source": []
  },
  {
   "cell_type": "code",
   "execution_count": null,
   "metadata": {},
   "outputs": [],
   "source": []
  }
 ],
 "metadata": {
  "extensions": {
   "jupyter_dashboards": {
    "activeView": "default_view",
    "version": 1,
    "views": {
     "default_view": {
      "cellMargin": 10,
      "defaultCellHeight": 40,
      "maxColumns": 12,
      "name": "active_view",
      "type": "grid"
     }
    }
   }
  },
  "kernelspec": {
   "display_name": "Python 3 (ipykernel)",
   "language": "python",
   "name": "python3"
  },
  "language_info": {
   "codemirror_mode": {
    "name": "ipython",
    "version": 3
   },
   "file_extension": ".py",
   "mimetype": "text/x-python",
   "name": "python",
   "nbconvert_exporter": "python",
   "pygments_lexer": "ipython3",
   "version": "3.10.4"
  },
  "notify_time": "5",
  "toc": {
   "base_numbering": 1,
   "nav_menu": {},
   "number_sections": true,
   "sideBar": true,
   "skip_h1_title": false,
   "title_cell": "Table of Contents",
   "title_sidebar": "Contents",
   "toc_cell": false,
   "toc_position": {},
   "toc_section_display": true,
   "toc_window_display": false
  },
  "varInspector": {
   "cols": {
    "lenName": 16,
    "lenType": 16,
    "lenVar": 40
   },
   "kernels_config": {
    "python": {
     "delete_cmd_postfix": "",
     "delete_cmd_prefix": "del ",
     "library": "var_list.py",
     "varRefreshCmd": "print(var_dic_list())"
    },
    "r": {
     "delete_cmd_postfix": ") ",
     "delete_cmd_prefix": "rm(",
     "library": "var_list.r",
     "varRefreshCmd": "cat(var_dic_list()) "
    }
   },
   "types_to_exclude": [
    "module",
    "function",
    "builtin_function_or_method",
    "instance",
    "_Feature"
   ],
   "window_display": false
  },
  "vscode": {
   "interpreter": {
    "hash": "3ad924ab0e6f750209d62c6e0be45c7d7a480ad612e54686796527e723bb9d1f"
   }
  },
  "widgets": {
   "application/vnd.jupyter.widget-state+json": {
    "state": {
     "0abdc5e97e124196b64630a5df46b047": {
      "model_module": "@jupyter-widgets/base",
      "model_module_version": "1.2.0",
      "model_name": "LayoutModel",
      "state": {}
     },
     "12d1e03392324dccba7f77cef1fb870b": {
      "model_module": "@jupyter-widgets/base",
      "model_module_version": "1.2.0",
      "model_name": "LayoutModel",
      "state": {}
     },
     "300699373ea74e23a0ccb9b62ab3229e": {
      "model_module": "@jupyter-widgets/controls",
      "model_module_version": "1.5.0",
      "model_name": "IntSliderModel",
      "state": {
       "description": "Max Number of Case:",
       "layout": "IPY_MODEL_12d1e03392324dccba7f77cef1fb870b",
       "max": 5000,
       "min": 100,
       "style": "IPY_MODEL_82f36ae813aa4cf28b117a92497b39b4",
       "value": 1000
      }
     },
     "306f6861c4a24dc8b52f30f44bd374fc": {
      "model_module": "@jupyter-widgets/controls",
      "model_module_version": "1.5.0",
      "model_name": "VBoxModel",
      "state": {
       "_dom_classes": [
        "widget-interact"
       ],
       "children": [
        "IPY_MODEL_b041393ae7ae453daa045bde9ace3e42",
        "IPY_MODEL_9d761a72da02431e91fb8f7895ef5903"
       ],
       "layout": "IPY_MODEL_f9a813961e504acc80a67380ff406fa6"
      }
     },
     "30a5236c31ee41af883cd55e61cf2cb5": {
      "model_module": "@jupyter-widgets/base",
      "model_module_version": "1.2.0",
      "model_name": "LayoutModel",
      "state": {}
     },
     "3701bb89d3f44739a22990b8839e2e13": {
      "model_module": "@jupyter-widgets/controls",
      "model_module_version": "1.5.0",
      "model_name": "VBoxModel",
      "state": {
       "_dom_classes": [
        "widget-interact"
       ],
       "children": [
        "IPY_MODEL_a2b3d78ad40f40e0a704d87fa6a31182",
        "IPY_MODEL_f1d033e580064236b15bdfa670ba3644"
       ],
       "layout": "IPY_MODEL_98ee9fb618ca474a990cf045d0becdf7"
      }
     },
     "3efebe66dc144987b945aae82cb37926": {
      "model_module": "@jupyter-widgets/controls",
      "model_module_version": "1.5.0",
      "model_name": "VBoxModel",
      "state": {
       "_dom_classes": [
        "widget-interact"
       ],
       "layout": "IPY_MODEL_0abdc5e97e124196b64630a5df46b047"
      }
     },
     "4f03bf934a754d6f9452859d67be28d0": {
      "model_module": "@jupyter-widgets/base",
      "model_module_version": "1.2.0",
      "model_name": "LayoutModel",
      "state": {
       "display": "flex",
       "height": "80px",
       "width": "50%"
      }
     },
     "60e909533e9a4219b63c14e79c53be61": {
      "model_module": "@jupyter-widgets/base",
      "model_module_version": "1.2.0",
      "model_name": "LayoutModel",
      "state": {}
     },
     "6169a24d5d79405aaee3feb36afc825e": {
      "model_module": "@jupyter-widgets/base",
      "model_module_version": "1.2.0",
      "model_name": "LayoutModel",
      "state": {}
     },
     "624e122d37ea4462bd0aa3ac6fa9fab3": {
      "model_module": "@jupyter-widgets/base",
      "model_module_version": "1.2.0",
      "model_name": "LayoutModel",
      "state": {}
     },
     "69a7d684fcee4a97b11391b461854a89": {
      "model_module": "@jupyter-widgets/base",
      "model_module_version": "1.2.0",
      "model_name": "LayoutModel",
      "state": {
       "display": "flex",
       "height": "80px",
       "width": "50%"
      }
     },
     "6d4f0f95d0f0478484d75ae23309bc55": {
      "model_module": "@jupyter-widgets/output",
      "model_module_version": "1.0.0",
      "model_name": "OutputModel",
      "state": {
       "layout": "IPY_MODEL_624e122d37ea4462bd0aa3ac6fa9fab3",
       "outputs": [
        {
         "ename": "UnboundLocalError",
         "evalue": "local variable 'df' referenced before assignment",
         "output_type": "error",
         "traceback": [
          "\u001b[1;31m---------------------------------------------------------------------------\u001b[0m",
          "\u001b[1;31mUnboundLocalError\u001b[0m                         Traceback (most recent call last)",
          "File \u001b[1;32m~\\anaconda3\\envs\\Capstone2\\lib\\site-packages\\ipywidgets\\widgets\\interaction.py:257\u001b[0m, in \u001b[0;36minteractive.update\u001b[1;34m(self, *args)\u001b[0m\n\u001b[0;32m    255\u001b[0m     value \u001b[38;5;241m=\u001b[39m widget\u001b[38;5;241m.\u001b[39mget_interact_value()\n\u001b[0;32m    256\u001b[0m     \u001b[38;5;28mself\u001b[39m\u001b[38;5;241m.\u001b[39mkwargs[widget\u001b[38;5;241m.\u001b[39m_kwarg] \u001b[38;5;241m=\u001b[39m value\n\u001b[1;32m--> 257\u001b[0m \u001b[38;5;28mself\u001b[39m\u001b[38;5;241m.\u001b[39mresult \u001b[38;5;241m=\u001b[39m \u001b[38;5;28mself\u001b[39m\u001b[38;5;241m.\u001b[39mf(\u001b[38;5;241m*\u001b[39m\u001b[38;5;241m*\u001b[39m\u001b[38;5;28mself\u001b[39m\u001b[38;5;241m.\u001b[39mkwargs)\n\u001b[0;32m    258\u001b[0m show_inline_matplotlib_plots()\n\u001b[0;32m    259\u001b[0m \u001b[38;5;28;01mif\u001b[39;00m \u001b[38;5;28mself\u001b[39m\u001b[38;5;241m.\u001b[39mauto_display \u001b[38;5;129;01mand\u001b[39;00m \u001b[38;5;28mself\u001b[39m\u001b[38;5;241m.\u001b[39mresult \u001b[38;5;129;01mis\u001b[39;00m \u001b[38;5;129;01mnot\u001b[39;00m \u001b[38;5;28;01mNone\u001b[39;00m:\n",
          "Input \u001b[1;32mIn [42]\u001b[0m, in \u001b[0;36mupdate_df_length\u001b[1;34m(limit)\u001b[0m\n\u001b[0;32m      1\u001b[0m \u001b[38;5;28;01mdef\u001b[39;00m \u001b[38;5;21mupdate_df_length\u001b[39m(limit):\n\u001b[1;32m----> 4\u001b[0m     df \u001b[38;5;241m=\u001b[39m \u001b[43mdf\u001b[49m\u001b[38;5;241m.\u001b[39miloc[\u001b[38;5;241m0\u001b[39m:limit, :]\n",
          "\u001b[1;31mUnboundLocalError\u001b[0m: local variable 'df' referenced before assignment"
         ]
        }
       ]
      }
     },
     "74ad67caf138480ab628c16c7018efd3": {
      "model_module": "@jupyter-widgets/controls",
      "model_module_version": "1.5.0",
      "model_name": "DescriptionStyleModel",
      "state": {
       "description_width": ""
      }
     },
     "767c5e8b0f2645d98a61c81191f87bfa": {
      "model_module": "@jupyter-widgets/controls",
      "model_module_version": "1.5.0",
      "model_name": "SliderStyleModel",
      "state": {
       "description_width": "initial"
      }
     },
     "7b73dd78eadb4117874d97bb42d12c4e": {
      "model_module": "@jupyter-widgets/base",
      "model_module_version": "1.2.0",
      "model_name": "LayoutModel",
      "state": {}
     },
     "82e2c68a9c8140699dc9a946bf048d94": {
      "model_module": "@jupyter-widgets/base",
      "model_module_version": "1.2.0",
      "model_name": "LayoutModel",
      "state": {}
     },
     "82f36ae813aa4cf28b117a92497b39b4": {
      "model_module": "@jupyter-widgets/controls",
      "model_module_version": "1.5.0",
      "model_name": "SliderStyleModel",
      "state": {
       "description_width": "initial"
      }
     },
     "8854ad6bcffd4a97b420c883a0246a4d": {
      "model_module": "@jupyter-widgets/output",
      "model_module_version": "1.0.0",
      "model_name": "OutputModel",
      "state": {
       "layout": "IPY_MODEL_82e2c68a9c8140699dc9a946bf048d94",
       "outputs": [
        {
         "ename": "FileNotFoundError",
         "evalue": "[Errno 2] No such file or directory: 'SF_crimes.csv'",
         "output_type": "error",
         "traceback": [
          "\u001b[1;31m---------------------------------------------------------------------------\u001b[0m",
          "\u001b[1;31mFileNotFoundError\u001b[0m                         Traceback (most recent call last)",
          "File \u001b[1;32m~\\anaconda3\\envs\\Capstone2\\lib\\site-packages\\ipywidgets\\widgets\\interaction.py:257\u001b[0m, in \u001b[0;36minteractive.update\u001b[1;34m(self, *args)\u001b[0m\n\u001b[0;32m    255\u001b[0m     value \u001b[38;5;241m=\u001b[39m widget\u001b[38;5;241m.\u001b[39mget_interact_value()\n\u001b[0;32m    256\u001b[0m     \u001b[38;5;28mself\u001b[39m\u001b[38;5;241m.\u001b[39mkwargs[widget\u001b[38;5;241m.\u001b[39m_kwarg] \u001b[38;5;241m=\u001b[39m value\n\u001b[1;32m--> 257\u001b[0m \u001b[38;5;28mself\u001b[39m\u001b[38;5;241m.\u001b[39mresult \u001b[38;5;241m=\u001b[39m \u001b[38;5;28mself\u001b[39m\u001b[38;5;241m.\u001b[39mf(\u001b[38;5;241m*\u001b[39m\u001b[38;5;241m*\u001b[39m\u001b[38;5;28mself\u001b[39m\u001b[38;5;241m.\u001b[39mkwargs)\n\u001b[0;32m    258\u001b[0m show_inline_matplotlib_plots()\n\u001b[0;32m    259\u001b[0m \u001b[38;5;28;01mif\u001b[39;00m \u001b[38;5;28mself\u001b[39m\u001b[38;5;241m.\u001b[39mauto_display \u001b[38;5;129;01mand\u001b[39;00m \u001b[38;5;28mself\u001b[39m\u001b[38;5;241m.\u001b[39mresult \u001b[38;5;129;01mis\u001b[39;00m \u001b[38;5;129;01mnot\u001b[39;00m \u001b[38;5;28;01mNone\u001b[39;00m:\n",
          "Input \u001b[1;32mIn [35]\u001b[0m, in \u001b[0;36mupdate_df_length\u001b[1;34m(limit)\u001b[0m\n\u001b[0;32m      1\u001b[0m \u001b[38;5;28;01mdef\u001b[39;00m \u001b[38;5;21mupdate_df_length\u001b[39m(limit):\n\u001b[1;32m----> 3\u001b[0m     df \u001b[38;5;241m=\u001b[39m \u001b[43mpd\u001b[49m\u001b[38;5;241;43m.\u001b[39;49m\u001b[43mread_csv\u001b[49m\u001b[43m(\u001b[49m\u001b[38;5;124;43m'\u001b[39;49m\u001b[38;5;124;43mSF_crimes.csv\u001b[39;49m\u001b[38;5;124;43m'\u001b[39;49m\u001b[43m)\u001b[49m\n\u001b[0;32m      4\u001b[0m     df \u001b[38;5;241m=\u001b[39m df\u001b[38;5;241m.\u001b[39miloc[\u001b[38;5;241m0\u001b[39m:limit, :]\n",
          "File \u001b[1;32m~\\anaconda3\\envs\\Capstone2\\lib\\site-packages\\pandas\\util\\_decorators.py:311\u001b[0m, in \u001b[0;36mdeprecate_nonkeyword_arguments.<locals>.decorate.<locals>.wrapper\u001b[1;34m(*args, **kwargs)\u001b[0m\n\u001b[0;32m    305\u001b[0m \u001b[38;5;28;01mif\u001b[39;00m \u001b[38;5;28mlen\u001b[39m(args) \u001b[38;5;241m>\u001b[39m num_allow_args:\n\u001b[0;32m    306\u001b[0m     warnings\u001b[38;5;241m.\u001b[39mwarn(\n\u001b[0;32m    307\u001b[0m         msg\u001b[38;5;241m.\u001b[39mformat(arguments\u001b[38;5;241m=\u001b[39marguments),\n\u001b[0;32m    308\u001b[0m         \u001b[38;5;167;01mFutureWarning\u001b[39;00m,\n\u001b[0;32m    309\u001b[0m         stacklevel\u001b[38;5;241m=\u001b[39mstacklevel,\n\u001b[0;32m    310\u001b[0m     )\n\u001b[1;32m--> 311\u001b[0m \u001b[38;5;28;01mreturn\u001b[39;00m func(\u001b[38;5;241m*\u001b[39margs, \u001b[38;5;241m*\u001b[39m\u001b[38;5;241m*\u001b[39mkwargs)\n",
          "File \u001b[1;32m~\\anaconda3\\envs\\Capstone2\\lib\\site-packages\\pandas\\io\\parsers\\readers.py:678\u001b[0m, in \u001b[0;36mread_csv\u001b[1;34m(filepath_or_buffer, sep, delimiter, header, names, index_col, usecols, squeeze, prefix, mangle_dupe_cols, dtype, engine, converters, true_values, false_values, skipinitialspace, skiprows, skipfooter, nrows, na_values, keep_default_na, na_filter, verbose, skip_blank_lines, parse_dates, infer_datetime_format, keep_date_col, date_parser, dayfirst, cache_dates, iterator, chunksize, compression, thousands, decimal, lineterminator, quotechar, quoting, doublequote, escapechar, comment, encoding, encoding_errors, dialect, error_bad_lines, warn_bad_lines, on_bad_lines, delim_whitespace, low_memory, memory_map, float_precision, storage_options)\u001b[0m\n\u001b[0;32m    663\u001b[0m kwds_defaults \u001b[38;5;241m=\u001b[39m _refine_defaults_read(\n\u001b[0;32m    664\u001b[0m     dialect,\n\u001b[0;32m    665\u001b[0m     delimiter,\n\u001b[1;32m   (...)\u001b[0m\n\u001b[0;32m    674\u001b[0m     defaults\u001b[38;5;241m=\u001b[39m{\u001b[38;5;124m\"\u001b[39m\u001b[38;5;124mdelimiter\u001b[39m\u001b[38;5;124m\"\u001b[39m: \u001b[38;5;124m\"\u001b[39m\u001b[38;5;124m,\u001b[39m\u001b[38;5;124m\"\u001b[39m},\n\u001b[0;32m    675\u001b[0m )\n\u001b[0;32m    676\u001b[0m kwds\u001b[38;5;241m.\u001b[39mupdate(kwds_defaults)\n\u001b[1;32m--> 678\u001b[0m \u001b[38;5;28;01mreturn\u001b[39;00m \u001b[43m_read\u001b[49m\u001b[43m(\u001b[49m\u001b[43mfilepath_or_buffer\u001b[49m\u001b[43m,\u001b[49m\u001b[43m \u001b[49m\u001b[43mkwds\u001b[49m\u001b[43m)\u001b[49m\n",
          "File \u001b[1;32m~\\anaconda3\\envs\\Capstone2\\lib\\site-packages\\pandas\\io\\parsers\\readers.py:575\u001b[0m, in \u001b[0;36m_read\u001b[1;34m(filepath_or_buffer, kwds)\u001b[0m\n\u001b[0;32m    572\u001b[0m _validate_names(kwds\u001b[38;5;241m.\u001b[39mget(\u001b[38;5;124m\"\u001b[39m\u001b[38;5;124mnames\u001b[39m\u001b[38;5;124m\"\u001b[39m, \u001b[38;5;28;01mNone\u001b[39;00m))\n\u001b[0;32m    574\u001b[0m \u001b[38;5;66;03m# Create the parser.\u001b[39;00m\n\u001b[1;32m--> 575\u001b[0m parser \u001b[38;5;241m=\u001b[39m TextFileReader(filepath_or_buffer, \u001b[38;5;241m*\u001b[39m\u001b[38;5;241m*\u001b[39mkwds)\n\u001b[0;32m    577\u001b[0m \u001b[38;5;28;01mif\u001b[39;00m chunksize \u001b[38;5;129;01mor\u001b[39;00m iterator:\n\u001b[0;32m    578\u001b[0m     \u001b[38;5;28;01mreturn\u001b[39;00m parser\n",
          "File \u001b[1;32m~\\anaconda3\\envs\\Capstone2\\lib\\site-packages\\pandas\\io\\parsers\\readers.py:932\u001b[0m, in \u001b[0;36mTextFileReader.__init__\u001b[1;34m(self, f, engine, **kwds)\u001b[0m\n\u001b[0;32m    929\u001b[0m     \u001b[38;5;28mself\u001b[39m\u001b[38;5;241m.\u001b[39moptions[\u001b[38;5;124m\"\u001b[39m\u001b[38;5;124mhas_index_names\u001b[39m\u001b[38;5;124m\"\u001b[39m] \u001b[38;5;241m=\u001b[39m kwds[\u001b[38;5;124m\"\u001b[39m\u001b[38;5;124mhas_index_names\u001b[39m\u001b[38;5;124m\"\u001b[39m]\n\u001b[0;32m    931\u001b[0m \u001b[38;5;28mself\u001b[39m\u001b[38;5;241m.\u001b[39mhandles: IOHandles \u001b[38;5;241m|\u001b[39m \u001b[38;5;28;01mNone\u001b[39;00m \u001b[38;5;241m=\u001b[39m \u001b[38;5;28;01mNone\u001b[39;00m\n\u001b[1;32m--> 932\u001b[0m \u001b[38;5;28mself\u001b[39m\u001b[38;5;241m.\u001b[39m_engine \u001b[38;5;241m=\u001b[39m \u001b[38;5;28;43mself\u001b[39;49m\u001b[38;5;241;43m.\u001b[39;49m\u001b[43m_make_engine\u001b[49m\u001b[43m(\u001b[49m\u001b[43mf\u001b[49m\u001b[43m,\u001b[49m\u001b[43m \u001b[49m\u001b[38;5;28;43mself\u001b[39;49m\u001b[38;5;241;43m.\u001b[39;49m\u001b[43mengine\u001b[49m\u001b[43m)\u001b[49m\n",
          "File \u001b[1;32m~\\anaconda3\\envs\\Capstone2\\lib\\site-packages\\pandas\\io\\parsers\\readers.py:1216\u001b[0m, in \u001b[0;36mTextFileReader._make_engine\u001b[1;34m(self, f, engine)\u001b[0m\n\u001b[0;32m   1212\u001b[0m     mode \u001b[38;5;241m=\u001b[39m \u001b[38;5;124m\"\u001b[39m\u001b[38;5;124mrb\u001b[39m\u001b[38;5;124m\"\u001b[39m\n\u001b[0;32m   1213\u001b[0m \u001b[38;5;66;03m# error: No overload variant of \"get_handle\" matches argument types\u001b[39;00m\n\u001b[0;32m   1214\u001b[0m \u001b[38;5;66;03m# \"Union[str, PathLike[str], ReadCsvBuffer[bytes], ReadCsvBuffer[str]]\"\u001b[39;00m\n\u001b[0;32m   1215\u001b[0m \u001b[38;5;66;03m# , \"str\", \"bool\", \"Any\", \"Any\", \"Any\", \"Any\", \"Any\"\u001b[39;00m\n\u001b[1;32m-> 1216\u001b[0m \u001b[38;5;28mself\u001b[39m\u001b[38;5;241m.\u001b[39mhandles \u001b[38;5;241m=\u001b[39m \u001b[43mget_handle\u001b[49m\u001b[43m(\u001b[49m\u001b[43m  \u001b[49m\u001b[38;5;66;43;03m# type: ignore[call-overload]\u001b[39;49;00m\n\u001b[0;32m   1217\u001b[0m \u001b[43m    \u001b[49m\u001b[43mf\u001b[49m\u001b[43m,\u001b[49m\n\u001b[0;32m   1218\u001b[0m \u001b[43m    \u001b[49m\u001b[43mmode\u001b[49m\u001b[43m,\u001b[49m\n\u001b[0;32m   1219\u001b[0m \u001b[43m    \u001b[49m\u001b[43mencoding\u001b[49m\u001b[38;5;241;43m=\u001b[39;49m\u001b[38;5;28;43mself\u001b[39;49m\u001b[38;5;241;43m.\u001b[39;49m\u001b[43moptions\u001b[49m\u001b[38;5;241;43m.\u001b[39;49m\u001b[43mget\u001b[49m\u001b[43m(\u001b[49m\u001b[38;5;124;43m\"\u001b[39;49m\u001b[38;5;124;43mencoding\u001b[39;49m\u001b[38;5;124;43m\"\u001b[39;49m\u001b[43m,\u001b[49m\u001b[43m \u001b[49m\u001b[38;5;28;43;01mNone\u001b[39;49;00m\u001b[43m)\u001b[49m\u001b[43m,\u001b[49m\n\u001b[0;32m   1220\u001b[0m \u001b[43m    \u001b[49m\u001b[43mcompression\u001b[49m\u001b[38;5;241;43m=\u001b[39;49m\u001b[38;5;28;43mself\u001b[39;49m\u001b[38;5;241;43m.\u001b[39;49m\u001b[43moptions\u001b[49m\u001b[38;5;241;43m.\u001b[39;49m\u001b[43mget\u001b[49m\u001b[43m(\u001b[49m\u001b[38;5;124;43m\"\u001b[39;49m\u001b[38;5;124;43mcompression\u001b[39;49m\u001b[38;5;124;43m\"\u001b[39;49m\u001b[43m,\u001b[49m\u001b[43m \u001b[49m\u001b[38;5;28;43;01mNone\u001b[39;49;00m\u001b[43m)\u001b[49m\u001b[43m,\u001b[49m\n\u001b[0;32m   1221\u001b[0m \u001b[43m    \u001b[49m\u001b[43mmemory_map\u001b[49m\u001b[38;5;241;43m=\u001b[39;49m\u001b[38;5;28;43mself\u001b[39;49m\u001b[38;5;241;43m.\u001b[39;49m\u001b[43moptions\u001b[49m\u001b[38;5;241;43m.\u001b[39;49m\u001b[43mget\u001b[49m\u001b[43m(\u001b[49m\u001b[38;5;124;43m\"\u001b[39;49m\u001b[38;5;124;43mmemory_map\u001b[39;49m\u001b[38;5;124;43m\"\u001b[39;49m\u001b[43m,\u001b[49m\u001b[43m \u001b[49m\u001b[38;5;28;43;01mFalse\u001b[39;49;00m\u001b[43m)\u001b[49m\u001b[43m,\u001b[49m\n\u001b[0;32m   1222\u001b[0m \u001b[43m    \u001b[49m\u001b[43mis_text\u001b[49m\u001b[38;5;241;43m=\u001b[39;49m\u001b[43mis_text\u001b[49m\u001b[43m,\u001b[49m\n\u001b[0;32m   1223\u001b[0m \u001b[43m    \u001b[49m\u001b[43merrors\u001b[49m\u001b[38;5;241;43m=\u001b[39;49m\u001b[38;5;28;43mself\u001b[39;49m\u001b[38;5;241;43m.\u001b[39;49m\u001b[43moptions\u001b[49m\u001b[38;5;241;43m.\u001b[39;49m\u001b[43mget\u001b[49m\u001b[43m(\u001b[49m\u001b[38;5;124;43m\"\u001b[39;49m\u001b[38;5;124;43mencoding_errors\u001b[39;49m\u001b[38;5;124;43m\"\u001b[39;49m\u001b[43m,\u001b[49m\u001b[43m \u001b[49m\u001b[38;5;124;43m\"\u001b[39;49m\u001b[38;5;124;43mstrict\u001b[39;49m\u001b[38;5;124;43m\"\u001b[39;49m\u001b[43m)\u001b[49m\u001b[43m,\u001b[49m\n\u001b[0;32m   1224\u001b[0m \u001b[43m    \u001b[49m\u001b[43mstorage_options\u001b[49m\u001b[38;5;241;43m=\u001b[39;49m\u001b[38;5;28;43mself\u001b[39;49m\u001b[38;5;241;43m.\u001b[39;49m\u001b[43moptions\u001b[49m\u001b[38;5;241;43m.\u001b[39;49m\u001b[43mget\u001b[49m\u001b[43m(\u001b[49m\u001b[38;5;124;43m\"\u001b[39;49m\u001b[38;5;124;43mstorage_options\u001b[39;49m\u001b[38;5;124;43m\"\u001b[39;49m\u001b[43m,\u001b[49m\u001b[43m \u001b[49m\u001b[38;5;28;43;01mNone\u001b[39;49;00m\u001b[43m)\u001b[49m\u001b[43m,\u001b[49m\n\u001b[0;32m   1225\u001b[0m \u001b[43m\u001b[49m\u001b[43m)\u001b[49m\n\u001b[0;32m   1226\u001b[0m \u001b[38;5;28;01massert\u001b[39;00m \u001b[38;5;28mself\u001b[39m\u001b[38;5;241m.\u001b[39mhandles \u001b[38;5;129;01mis\u001b[39;00m \u001b[38;5;129;01mnot\u001b[39;00m \u001b[38;5;28;01mNone\u001b[39;00m\n\u001b[0;32m   1227\u001b[0m f \u001b[38;5;241m=\u001b[39m \u001b[38;5;28mself\u001b[39m\u001b[38;5;241m.\u001b[39mhandles\u001b[38;5;241m.\u001b[39mhandle\n",
          "File \u001b[1;32m~\\anaconda3\\envs\\Capstone2\\lib\\site-packages\\pandas\\io\\common.py:786\u001b[0m, in \u001b[0;36mget_handle\u001b[1;34m(path_or_buf, mode, encoding, compression, memory_map, is_text, errors, storage_options)\u001b[0m\n\u001b[0;32m    781\u001b[0m \u001b[38;5;28;01melif\u001b[39;00m \u001b[38;5;28misinstance\u001b[39m(handle, \u001b[38;5;28mstr\u001b[39m):\n\u001b[0;32m    782\u001b[0m     \u001b[38;5;66;03m# Check whether the filename is to be opened in binary mode.\u001b[39;00m\n\u001b[0;32m    783\u001b[0m     \u001b[38;5;66;03m# Binary mode does not support 'encoding' and 'newline'.\u001b[39;00m\n\u001b[0;32m    784\u001b[0m     \u001b[38;5;28;01mif\u001b[39;00m ioargs\u001b[38;5;241m.\u001b[39mencoding \u001b[38;5;129;01mand\u001b[39;00m \u001b[38;5;124m\"\u001b[39m\u001b[38;5;124mb\u001b[39m\u001b[38;5;124m\"\u001b[39m \u001b[38;5;129;01mnot\u001b[39;00m \u001b[38;5;129;01min\u001b[39;00m ioargs\u001b[38;5;241m.\u001b[39mmode:\n\u001b[0;32m    785\u001b[0m         \u001b[38;5;66;03m# Encoding\u001b[39;00m\n\u001b[1;32m--> 786\u001b[0m         handle \u001b[38;5;241m=\u001b[39m \u001b[38;5;28;43mopen\u001b[39;49m\u001b[43m(\u001b[49m\n\u001b[0;32m    787\u001b[0m \u001b[43m            \u001b[49m\u001b[43mhandle\u001b[49m\u001b[43m,\u001b[49m\n\u001b[0;32m    788\u001b[0m \u001b[43m            \u001b[49m\u001b[43mioargs\u001b[49m\u001b[38;5;241;43m.\u001b[39;49m\u001b[43mmode\u001b[49m\u001b[43m,\u001b[49m\n\u001b[0;32m    789\u001b[0m \u001b[43m            \u001b[49m\u001b[43mencoding\u001b[49m\u001b[38;5;241;43m=\u001b[39;49m\u001b[43mioargs\u001b[49m\u001b[38;5;241;43m.\u001b[39;49m\u001b[43mencoding\u001b[49m\u001b[43m,\u001b[49m\n\u001b[0;32m    790\u001b[0m \u001b[43m            \u001b[49m\u001b[43merrors\u001b[49m\u001b[38;5;241;43m=\u001b[39;49m\u001b[43merrors\u001b[49m\u001b[43m,\u001b[49m\n\u001b[0;32m    791\u001b[0m \u001b[43m            \u001b[49m\u001b[43mnewline\u001b[49m\u001b[38;5;241;43m=\u001b[39;49m\u001b[38;5;124;43m\"\u001b[39;49m\u001b[38;5;124;43m\"\u001b[39;49m\u001b[43m,\u001b[49m\n\u001b[0;32m    792\u001b[0m \u001b[43m        \u001b[49m\u001b[43m)\u001b[49m\n\u001b[0;32m    793\u001b[0m     \u001b[38;5;28;01melse\u001b[39;00m:\n\u001b[0;32m    794\u001b[0m         \u001b[38;5;66;03m# Binary mode\u001b[39;00m\n\u001b[0;32m    795\u001b[0m         handle \u001b[38;5;241m=\u001b[39m \u001b[38;5;28mopen\u001b[39m(handle, ioargs\u001b[38;5;241m.\u001b[39mmode)\n",
          "\u001b[1;31mFileNotFoundError\u001b[0m: [Errno 2] No such file or directory: 'SF_crimes.csv'"
         ]
        }
       ]
      }
     },
     "98ee9fb618ca474a990cf045d0becdf7": {
      "model_module": "@jupyter-widgets/base",
      "model_module_version": "1.2.0",
      "model_name": "LayoutModel",
      "state": {}
     },
     "9adba0cd23ae4ab691bb75fbd8bae231": {
      "model_module": "@jupyter-widgets/controls",
      "model_module_version": "1.5.0",
      "model_name": "SliderStyleModel",
      "state": {
       "description_width": "initial"
      }
     },
     "9d761a72da02431e91fb8f7895ef5903": {
      "model_module": "@jupyter-widgets/output",
      "model_module_version": "1.0.0",
      "model_name": "OutputModel",
      "state": {
       "layout": "IPY_MODEL_60e909533e9a4219b63c14e79c53be61",
       "outputs": [
        {
         "ename": "UnboundLocalError",
         "evalue": "local variable 'df' referenced before assignment",
         "output_type": "error",
         "traceback": [
          "\u001b[1;31m---------------------------------------------------------------------------\u001b[0m",
          "\u001b[1;31mUnboundLocalError\u001b[0m                         Traceback (most recent call last)",
          "File \u001b[1;32m~\\anaconda3\\envs\\Capstone2\\lib\\site-packages\\ipywidgets\\widgets\\interaction.py:257\u001b[0m, in \u001b[0;36minteractive.update\u001b[1;34m(self, *args)\u001b[0m\n\u001b[0;32m    255\u001b[0m     value \u001b[38;5;241m=\u001b[39m widget\u001b[38;5;241m.\u001b[39mget_interact_value()\n\u001b[0;32m    256\u001b[0m     \u001b[38;5;28mself\u001b[39m\u001b[38;5;241m.\u001b[39mkwargs[widget\u001b[38;5;241m.\u001b[39m_kwarg] \u001b[38;5;241m=\u001b[39m value\n\u001b[1;32m--> 257\u001b[0m \u001b[38;5;28mself\u001b[39m\u001b[38;5;241m.\u001b[39mresult \u001b[38;5;241m=\u001b[39m \u001b[38;5;28mself\u001b[39m\u001b[38;5;241m.\u001b[39mf(\u001b[38;5;241m*\u001b[39m\u001b[38;5;241m*\u001b[39m\u001b[38;5;28mself\u001b[39m\u001b[38;5;241m.\u001b[39mkwargs)\n\u001b[0;32m    258\u001b[0m show_inline_matplotlib_plots()\n\u001b[0;32m    259\u001b[0m \u001b[38;5;28;01mif\u001b[39;00m \u001b[38;5;28mself\u001b[39m\u001b[38;5;241m.\u001b[39mauto_display \u001b[38;5;129;01mand\u001b[39;00m \u001b[38;5;28mself\u001b[39m\u001b[38;5;241m.\u001b[39mresult \u001b[38;5;129;01mis\u001b[39;00m \u001b[38;5;129;01mnot\u001b[39;00m \u001b[38;5;28;01mNone\u001b[39;00m:\n",
          "Input \u001b[1;32mIn [38]\u001b[0m, in \u001b[0;36mupdate_df_length\u001b[1;34m(limit)\u001b[0m\n\u001b[0;32m      1\u001b[0m \u001b[38;5;28;01mdef\u001b[39;00m \u001b[38;5;21mupdate_df_length\u001b[39m(limit):\n\u001b[1;32m----> 4\u001b[0m     df \u001b[38;5;241m=\u001b[39m \u001b[43mdf\u001b[49m\u001b[38;5;241m.\u001b[39miloc[\u001b[38;5;241m0\u001b[39m:limit, :]\n",
          "\u001b[1;31mUnboundLocalError\u001b[0m: local variable 'df' referenced before assignment"
         ]
        }
       ]
      }
     },
     "a2b3d78ad40f40e0a704d87fa6a31182": {
      "model_module": "@jupyter-widgets/controls",
      "model_module_version": "1.5.0",
      "model_name": "IntSliderModel",
      "state": {
       "description": "Toxic Comments:",
       "layout": "IPY_MODEL_e257d770877d4e3a96ba751073b0fe4c",
       "max": 5000,
       "min": 100,
       "style": "IPY_MODEL_767c5e8b0f2645d98a61c81191f87bfa",
       "value": 1000
      }
     },
     "a2fd98eaa64b476cacf206ec1b7c1571": {
      "model_module": "@jupyter-widgets/controls",
      "model_module_version": "1.5.0",
      "model_name": "VBoxModel",
      "state": {
       "_dom_classes": [
        "widget-interact"
       ],
       "children": [
        "IPY_MODEL_300699373ea74e23a0ccb9b62ab3229e",
        "IPY_MODEL_6d4f0f95d0f0478484d75ae23309bc55"
       ],
       "layout": "IPY_MODEL_7b73dd78eadb4117874d97bb42d12c4e"
      }
     },
     "a5d317b9a2c14e008c63ebccc7c837e8": {
      "model_module": "@jupyter-widgets/base",
      "model_module_version": "1.2.0",
      "model_name": "LayoutModel",
      "state": {
       "display": "flex",
       "height": "80px",
       "width": "50%"
      }
     },
     "a8abf67f1efc4e91b2ca656ec8168edd": {
      "model_module": "@jupyter-widgets/controls",
      "model_module_version": "1.5.0",
      "model_name": "IntSliderModel",
      "state": {
       "description": "Max Number of Case:",
       "layout": "IPY_MODEL_c917dbdd76b14903b632fd12d54f4257",
       "max": 5000,
       "min": 100,
       "style": "IPY_MODEL_9adba0cd23ae4ab691bb75fbd8bae231",
       "value": 1210
      }
     },
     "b041393ae7ae453daa045bde9ace3e42": {
      "model_module": "@jupyter-widgets/controls",
      "model_module_version": "1.5.0",
      "model_name": "IntSliderModel",
      "state": {
       "description": "Max Number of Case:",
       "layout": "IPY_MODEL_30a5236c31ee41af883cd55e61cf2cb5",
       "max": 5000,
       "min": 100,
       "style": "IPY_MODEL_c170b3d523d444e4a58941e6eebe055e",
       "value": 1000
      }
     },
     "b604f18470bf4a7fb5762b35d4e16ea2": {
      "model_module": "@jupyter-widgets/base",
      "model_module_version": "1.2.0",
      "model_name": "LayoutModel",
      "state": {}
     },
     "b8d4b5ab72d64ebf98a70156d83eafe1": {
      "model_module": "@jupyter-widgets/controls",
      "model_module_version": "1.5.0",
      "model_name": "DescriptionStyleModel",
      "state": {
       "description_width": ""
      }
     },
     "c170b3d523d444e4a58941e6eebe055e": {
      "model_module": "@jupyter-widgets/controls",
      "model_module_version": "1.5.0",
      "model_name": "SliderStyleModel",
      "state": {
       "description_width": "initial"
      }
     },
     "c291178547b8492fa46a583e65b1aea0": {
      "model_module": "@jupyter-widgets/controls",
      "model_module_version": "1.5.0",
      "model_name": "SelectMultipleModel",
      "state": {
       "_options_labels": [
        "0",
        "1",
        "2",
        "3",
        "4",
        "5"
       ],
       "description": "District",
       "index": [],
       "layout": "IPY_MODEL_69a7d684fcee4a97b11391b461854a89",
       "rows": 5,
       "style": "IPY_MODEL_74ad67caf138480ab628c16c7018efd3"
      }
     },
     "c917dbdd76b14903b632fd12d54f4257": {
      "model_module": "@jupyter-widgets/base",
      "model_module_version": "1.2.0",
      "model_name": "LayoutModel",
      "state": {}
     },
     "c97190c2425545e6b9b6167e9b1964ff": {
      "model_module": "@jupyter-widgets/base",
      "model_module_version": "1.2.0",
      "model_name": "LayoutModel",
      "state": {
       "display": "flex",
       "height": "80px",
       "width": "50%"
      }
     },
     "cffda62e0c2d4889b4e7b01d90274693": {
      "model_module": "@jupyter-widgets/controls",
      "model_module_version": "1.5.0",
      "model_name": "VBoxModel",
      "state": {
       "_dom_classes": [
        "widget-interact"
       ],
       "children": [
        "IPY_MODEL_a8abf67f1efc4e91b2ca656ec8168edd",
        "IPY_MODEL_8854ad6bcffd4a97b420c883a0246a4d"
       ],
       "layout": "IPY_MODEL_6169a24d5d79405aaee3feb36afc825e"
      }
     },
     "d6da8df19c574c09bd59d4a426492ad4": {
      "model_module": "@jupyter-widgets/controls",
      "model_module_version": "1.5.0",
      "model_name": "DescriptionStyleModel",
      "state": {
       "description_width": ""
      }
     },
     "e257d770877d4e3a96ba751073b0fe4c": {
      "model_module": "@jupyter-widgets/base",
      "model_module_version": "1.2.0",
      "model_name": "LayoutModel",
      "state": {}
     },
     "ee1fbb97693048e69d7ad699a1273c25": {
      "model_module": "@jupyter-widgets/controls",
      "model_module_version": "1.5.0",
      "model_name": "SelectMultipleModel",
      "state": {
       "_options_labels": [
        "0",
        "1",
        "2",
        "3",
        "4",
        "5"
       ],
       "description": "District",
       "index": [],
       "layout": "IPY_MODEL_a5d317b9a2c14e008c63ebccc7c837e8",
       "rows": 5,
       "style": "IPY_MODEL_d6da8df19c574c09bd59d4a426492ad4"
      }
     },
     "f1d033e580064236b15bdfa670ba3644": {
      "model_module": "@jupyter-widgets/output",
      "model_module_version": "1.0.0",
      "model_name": "OutputModel",
      "state": {
       "layout": "IPY_MODEL_b604f18470bf4a7fb5762b35d4e16ea2",
       "outputs": [
        {
         "ename": "UnboundLocalError",
         "evalue": "local variable 'df' referenced before assignment",
         "output_type": "error",
         "traceback": [
          "\u001b[1;31m---------------------------------------------------------------------------\u001b[0m",
          "\u001b[1;31mUnboundLocalError\u001b[0m                         Traceback (most recent call last)",
          "File \u001b[1;32m~\\anaconda3\\envs\\Capstone2\\lib\\site-packages\\ipywidgets\\widgets\\interaction.py:257\u001b[0m, in \u001b[0;36minteractive.update\u001b[1;34m(self, *args)\u001b[0m\n\u001b[0;32m    255\u001b[0m     value \u001b[38;5;241m=\u001b[39m widget\u001b[38;5;241m.\u001b[39mget_interact_value()\n\u001b[0;32m    256\u001b[0m     \u001b[38;5;28mself\u001b[39m\u001b[38;5;241m.\u001b[39mkwargs[widget\u001b[38;5;241m.\u001b[39m_kwarg] \u001b[38;5;241m=\u001b[39m value\n\u001b[1;32m--> 257\u001b[0m \u001b[38;5;28mself\u001b[39m\u001b[38;5;241m.\u001b[39mresult \u001b[38;5;241m=\u001b[39m \u001b[38;5;28mself\u001b[39m\u001b[38;5;241m.\u001b[39mf(\u001b[38;5;241m*\u001b[39m\u001b[38;5;241m*\u001b[39m\u001b[38;5;28mself\u001b[39m\u001b[38;5;241m.\u001b[39mkwargs)\n\u001b[0;32m    258\u001b[0m show_inline_matplotlib_plots()\n\u001b[0;32m    259\u001b[0m \u001b[38;5;28;01mif\u001b[39;00m \u001b[38;5;28mself\u001b[39m\u001b[38;5;241m.\u001b[39mauto_display \u001b[38;5;129;01mand\u001b[39;00m \u001b[38;5;28mself\u001b[39m\u001b[38;5;241m.\u001b[39mresult \u001b[38;5;129;01mis\u001b[39;00m \u001b[38;5;129;01mnot\u001b[39;00m \u001b[38;5;28;01mNone\u001b[39;00m:\n",
          "Input \u001b[1;32mIn [44]\u001b[0m, in \u001b[0;36mupdate_df_length\u001b[1;34m(limit)\u001b[0m\n\u001b[0;32m      1\u001b[0m \u001b[38;5;28;01mdef\u001b[39;00m \u001b[38;5;21mupdate_df_length\u001b[39m(limit):\n\u001b[1;32m----> 4\u001b[0m     df \u001b[38;5;241m=\u001b[39m \u001b[43mdf\u001b[49m\u001b[38;5;241m.\u001b[39miloc[\u001b[38;5;241m0\u001b[39m:limit, :]\n",
          "\u001b[1;31mUnboundLocalError\u001b[0m: local variable 'df' referenced before assignment"
         ]
        }
       ]
      }
     },
     "f9a813961e504acc80a67380ff406fa6": {
      "model_module": "@jupyter-widgets/base",
      "model_module_version": "1.2.0",
      "model_name": "LayoutModel",
      "state": {}
     },
     "fc3b854c2ef7445c895fbecd59d229f9": {
      "model_module": "@jupyter-widgets/controls",
      "model_module_version": "1.5.0",
      "model_name": "SelectMultipleModel",
      "state": {
       "_options_labels": [
        "0",
        "1",
        "2",
        "3",
        "4",
        "5"
       ],
       "description": "Toxic Score",
       "index": [
        0
       ],
       "layout": "IPY_MODEL_c97190c2425545e6b9b6167e9b1964ff",
       "rows": 5,
       "style": "IPY_MODEL_b8d4b5ab72d64ebf98a70156d83eafe1"
      }
     }
    },
    "version_major": 2,
    "version_minor": 0
   }
  }
 },
 "nbformat": 4,
 "nbformat_minor": 4
}
