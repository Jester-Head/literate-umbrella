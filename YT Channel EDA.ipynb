{
 "cells": [
  {
   "cell_type": "code",
   "execution_count": 1,
   "id": "19c114d4-f1b8-4965-8e68-a523222ac474",
   "metadata": {
    "ExecuteTime": {
     "end_time": "2022-10-12T03:33:15.181966Z",
     "start_time": "2022-10-12T03:33:15.128955Z"
    }
   },
   "outputs": [
    {
     "ename": "ModuleNotFoundError",
     "evalue": "No module named 'selenium'",
     "output_type": "error",
     "traceback": [
      "\u001b[1;31m---------------------------------------------------------------------------\u001b[0m",
      "\u001b[1;31mModuleNotFoundError\u001b[0m                       Traceback (most recent call last)",
      "Input \u001b[1;32mIn [1]\u001b[0m, in \u001b[0;36m<cell line: 3>\u001b[1;34m()\u001b[0m\n\u001b[0;32m      1\u001b[0m \u001b[38;5;28;01mimport\u001b[39;00m \u001b[38;5;21;01mpandas\u001b[39;00m \u001b[38;5;28;01mas\u001b[39;00m \u001b[38;5;21;01mpd\u001b[39;00m\n\u001b[0;32m      2\u001b[0m \u001b[38;5;28;01mimport\u001b[39;00m \u001b[38;5;21;01mre\u001b[39;00m\u001b[38;5;241m,\u001b[39m \u001b[38;5;21;01mjson\u001b[39;00m\u001b[38;5;241m,\u001b[39m \u001b[38;5;21;01mtime\u001b[39;00m\n\u001b[1;32m----> 3\u001b[0m \u001b[38;5;28;01mfrom\u001b[39;00m \u001b[38;5;21;01mselenium\u001b[39;00m \u001b[38;5;28;01mimport\u001b[39;00m webdriver\n\u001b[0;32m      4\u001b[0m \u001b[38;5;28;01mfrom\u001b[39;00m \u001b[38;5;21;01mselenium\u001b[39;00m\u001b[38;5;21;01m.\u001b[39;00m\u001b[38;5;21;01mwebdriver\u001b[39;00m\u001b[38;5;21;01m.\u001b[39;00m\u001b[38;5;21;01mchrome\u001b[39;00m\u001b[38;5;21;01m.\u001b[39;00m\u001b[38;5;21;01mservice\u001b[39;00m \u001b[38;5;28;01mimport\u001b[39;00m Service\n\u001b[0;32m      5\u001b[0m \u001b[38;5;28;01mfrom\u001b[39;00m \u001b[38;5;21;01mwebdriver_manager\u001b[39;00m\u001b[38;5;21;01m.\u001b[39;00m\u001b[38;5;21;01mchrome\u001b[39;00m \u001b[38;5;28;01mimport\u001b[39;00m ChromeDriverManager\n",
      "\u001b[1;31mModuleNotFoundError\u001b[0m: No module named 'selenium'"
     ]
    }
   ],
   "source": [
    "import pandas as pd\n",
    "import re, json, time\n",
    "from selenium import webdriver\n",
    "from selenium.webdriver.chrome.service import Service\n",
    "from webdriver_manager.chrome import ChromeDriverManager\n",
    "from parsel import Selector"
   ]
  },
  {
   "cell_type": "code",
   "execution_count": null,
   "id": "a8a8d370-84e1-44b0-bc5a-79cd7243d5ca",
   "metadata": {
    "ExecuteTime": {
     "end_time": "2022-10-12T03:33:15.181966Z",
     "start_time": "2022-10-12T03:33:15.128955Z"
    }
   },
   "outputs": [],
   "source": [
    "def scroll_page(url):\n",
    "    service = Service(executable_path=\"C:/chromedriver_win32/chromedriver.exe\")\n",
    "\n",
    "    options = webdriver.ChromeOptions()\n",
    "    options.headless = True\n",
    "    options.add_argument(\"--lang=en\")\n",
    "    options.add_argument(\"user-agent=Mozilla/5.0 (Windows NT 10.0; Win64; x64) AppleWebKit/537.36 (KHTML, like Gecko) Chrome/104.0.0.0 Safari/537.36\")\n",
    "    options.add_argument(\"--no-sandbox\")\n",
    "    options.add_argument(\"--disable-dev-shm-usage\")\n",
    "\n",
    "    driver = webdriver.Chrome(service=service, options=options)\n",
    "    driver.get(url)\n",
    "\n",
    "    old_height = driver.execute_script(\"\"\"\n",
    "        function getHeight() {\n",
    "            return document.querySelector('ytd-app').scrollHeight;\n",
    "        }\n",
    "        return getHeight();\n",
    "    \"\"\")\n",
    "\n",
    "    while True:\n",
    "        driver.execute_script(\"window.scrollTo(0, document.querySelector('ytd-app').scrollHeight)\")\n",
    "\n",
    "        time.sleep(2)\n",
    "\n",
    "        new_height = driver.execute_script(\"\"\"\n",
    "            function getHeight() {\n",
    "                return document.querySelector('ytd-app').scrollHeight;\n",
    "            }\n",
    "            return getHeight();\n",
    "        \"\"\")\n",
    "\n",
    "        if new_height == old_height:\n",
    "            break\n",
    "\n",
    "        old_height = new_height\n",
    "\n",
    "    selector = Selector(driver.page_source)\n",
    "    driver.quit()\n",
    "\n",
    "    return selector\n",
    "\n",
    "\n",
    "def scrape_all_data(selector):\n",
    "    youtube_video_page = []\n",
    "\n",
    "    all_script_tags = selector.css(\"script\").getall()\n",
    "\n",
    "    title = selector.css(\".title .ytd-video-primary-info-renderer::text\").get()\n",
    "\n",
    "    # https://regex101.com/r/gHeLwZ/1\n",
    "    views = int(re.search(r\"(.*)\\s\", selector.css(\".view-count::text\").get()).group().replace(\",\", \"\"))\n",
    "\n",
    "    # https://regex101.com/r/9OGwJp/1\n",
    "    likes = int(re.search(r\"(.*)\\s\", selector.css(\"#top-level-buttons-computed > ytd-toggle-button-renderer:first-child #text::attr(aria-label)\").get()).group().replace(\",\", \"\"))\n",
    "\n",
    "    date = selector.css(\"#info-strings yt-formatted-string::text\").get()\n",
    "\n",
    "    duration = selector.css(\".ytp-time-duration::text\").get()\n",
    "\n",
    "    # https://regex101.com/r/0JNma3/1\n",
    "    keywords = \"\".join(re.findall(r'\"keywords\":\\[(.*)\\],\"channelId\":\".*\"', str(all_script_tags))).replace('\\\"', '').split(\",\")\n",
    "\n",
    "    # https://regex101.com/r/9VhH1s/1\n",
    "    thumbnail = re.findall(r'\\[{\"url\":\"(\\S+)\",\"width\":\\d*,\"height\":\\d*},', str(all_script_tags))[0].split('\",')[0]\n",
    "\n",
    "    channel = {\n",
    "        # https://regex101.com/r/xFUzq5/1\n",
    "        \"id\": \"\".join(re.findall(r'\"channelId\":\"(.*)\",\"isOwnerViewing\"', str(all_script_tags))),\n",
    "        \"name\": selector.css(\"#channel-name a::text\").get(),\n",
    "        \"link\": f'https://www.youtube.com{selector.css(\"#channel-name a::attr(href)\").get()}',\n",
    "        \"subscribers\": selector.css(\"#owner-sub-count::text\").get(),\n",
    "        \"thumbnail\": selector.css(\"#img::attr(src)\").get(),\n",
    "    }\n",
    "\n",
    "    description = selector.css(\".ytd-expandable-video-description-body-renderer span:nth-child(1)::text\").get()\n",
    "\n",
    "    hashtags = [\n",
    "        {\n",
    "            \"name\": hash_tag.css(\"::text\").get(),\n",
    "            \"link\": f'https://www.youtube.com{hash_tag.css(\"::attr(href)\").get()}'\n",
    "        }\n",
    "        for hash_tag in selector.css(\".ytd-expandable-video-description-body-renderer a\")\n",
    "        if hash_tag.css(\"::text\").get()[0] == '#'\n",
    "    ]\n",
    "\n",
    "    # https://regex101.com/r/onRk9j/1\n",
    "    category = \"\".join(re.findall(r'\"category\":\"(.*)\",\"publishDate\"', str(all_script_tags)))\n",
    "\n",
    "    comments_amount = int(selector.css(\"#count .count-text span:nth-child(1)::text\").get().replace(\",\", \"\"))\n",
    "\n",
    "    comments = []\n",
    "\n",
    "    for comment in selector.css(\"#contents > ytd-comment-thread-renderer\"):\n",
    "        comments.append({\n",
    "            \"author\": comment.css(\"#author-text span::text\").get().strip(),\n",
    "            \"link\": f'https://www.youtube.com{comment.css(\"#author-text::attr(href)\").get()}',\n",
    "            \"date\": comment.css(\".published-time-text a::text\").get(),\n",
    "            \"likes\": comment.css(\"#vote-count-middle::text\").get().strip(),\n",
    "            \"comment\": comment.css(\"#content-text::text\").get(),\n",
    "            \"avatar\": comment.css(\"#author-thumbnail #img::attr(src)\").get(),\n",
    "        })\n",
    "\n",
    "    suggested_videos = []\n",
    "\n",
    "    for video in selector.css(\"ytd-compact-video-renderer\"):\n",
    "\n",
    "        suggested_videos.append({\n",
    "            \"title\": video.css(\"#video-title::text\").get().strip(),\n",
    "            \"link\": f'https://www.youtube.com{video.css(\"#thumbnail::attr(href)\").get()}',\n",
    "            \"channel_name\": video.css(\"#channel-name #text::text\").get(),\n",
    "            \"date\": video.css(\"#metadata-line span:nth-child(2)::text\").get(),\n",
    "            \"views\": video.css(\"#metadata-line span:nth-child(1)::text\").get(),\n",
    "            \"duration\": video.css(\"#overlays #text::text\").get().strip(),\n",
    "            \"thumbnail\": video.css(\"#thumbnail img::attr(src)\").get(),\n",
    "        })\n",
    "\n",
    "    youtube_video_page.append({\n",
    "        \"title\": title,\n",
    "        \"views\": views,\n",
    "        \"likes\": likes,\n",
    "        \"date\": date,\n",
    "        \"duration\": duration,\n",
    "        \"channel\": channel,\n",
    "        \"keywords\": keywords,\n",
    "        \"thumbnail\": thumbnail,\n",
    "        \"description\": description,\n",
    "        \"hashtags\": hashtags,\n",
    "        \"category\": category,\n",
    "        \"suggested_videos\": suggested_videos,\n",
    "        \"comments_amount\": comments_amount,\n",
    "        \"comments\": comments,\n",
    "    })\n",
    "\n",
    "    return comments\n",
    "    "
   ]
  },
  {
   "cell_type": "code",
   "execution_count": null,
   "id": "93fc4867",
   "metadata": {
    "ExecuteTime": {
     "end_time": "2022-10-12T03:34:20.188222Z",
     "start_time": "2022-10-12T03:33:40.580069Z"
    }
   },
   "outputs": [],
   "source": [
    "url = \"https://www.youtube.com/watch?v=fbh3OAw3VVQ\"\n",
    "result = scroll_page(url)\n",
    "comments = scrape_all_data(result)\n",
    "\n"
   ]
  },
  {
   "cell_type": "code",
   "execution_count": null,
   "id": "f4da287e",
   "metadata": {
    "ExecuteTime": {
     "end_time": "2022-10-12T03:54:17.634420Z",
     "start_time": "2022-10-12T03:54:17.612457Z"
    }
   },
   "outputs": [],
   "source": [
    "df = pd.DataFrame(comments)\n",
    "df.info()"
   ]
  },
  {
   "cell_type": "code",
   "execution_count": null,
   "id": "3e781efa",
   "metadata": {
    "ExecuteTime": {
     "end_time": "2022-10-12T03:54:39.552139Z",
     "start_time": "2022-10-12T03:54:39.531103Z"
    }
   },
   "outputs": [],
   "source": [
    "df.drop_duplicates(inplace=True)"
   ]
  },
  {
   "cell_type": "code",
   "execution_count": null,
   "id": "9fb1f99f",
   "metadata": {
    "ExecuteTime": {
     "end_time": "2022-10-12T03:54:27.282827Z",
     "start_time": "2022-10-12T03:54:27.261824Z"
    }
   },
   "outputs": [],
   "source": [
    "df[\"avatar\"] = df[\"avatar\"].fillna(\"Default\")"
   ]
  },
  {
   "cell_type": "code",
   "execution_count": null,
   "id": "dae09376",
   "metadata": {
    "ExecuteTime": {
     "end_time": "2022-10-12T03:55:47.352580Z",
     "start_time": "2022-10-12T03:55:47.329537Z"
    }
   },
   "outputs": [],
   "source": [
    "df.dropna(inplace=True)\n",
    "df.info()"
   ]
  },
  {
   "cell_type": "code",
   "execution_count": null,
   "id": "83b37746",
   "metadata": {},
   "outputs": [],
   "source": []
  }
 ],
 "metadata": {
  "kernelspec": {
   "display_name": "Python 3 (ipykernel)",
   "language": "python",
   "name": "python3"
  },
  "language_info": {
   "codemirror_mode": {
    "name": "ipython",
    "version": 3
   },
   "file_extension": ".py",
   "mimetype": "text/x-python",
   "name": "python",
   "nbconvert_exporter": "python",
   "pygments_lexer": "ipython3",
   "version": "3.9.13"
  },
  "toc": {
   "base_numbering": 1,
   "nav_menu": {},
   "number_sections": true,
   "sideBar": true,
   "skip_h1_title": false,
   "title_cell": "Table of Contents",
   "title_sidebar": "Contents",
   "toc_cell": false,
   "toc_position": {},
   "toc_section_display": true,
   "toc_window_display": false
  },
  "varInspector": {
   "cols": {
    "lenName": 16,
    "lenType": 16,
    "lenVar": 40
   },
   "kernels_config": {
    "python": {
     "delete_cmd_postfix": "",
     "delete_cmd_prefix": "del ",
     "library": "var_list.py",
     "varRefreshCmd": "print(var_dic_list())"
    },
    "r": {
     "delete_cmd_postfix": ") ",
     "delete_cmd_prefix": "rm(",
     "library": "var_list.r",
     "varRefreshCmd": "cat(var_dic_list()) "
    }
   },
   "position": {
    "height": "179.85px",
    "left": "1158.2px",
    "right": "20px",
    "top": "120px",
    "width": "341px"
   },
   "types_to_exclude": [
    "module",
    "function",
    "builtin_function_or_method",
    "instance",
    "_Feature"
   ],
   "window_display": false
  }
 },
 "nbformat": 4,
 "nbformat_minor": 5
}
