{
 "cells": [
  {
   "cell_type": "markdown",
   "id": "3bdcae6f",
   "metadata": {},
   "source": [
    "# Installing Packages"
   ]
  },
  {
   "cell_type": "code",
   "execution_count": 1,
   "id": "61059dfe-61e1-4306-8e79-29cb1cc5f9b9",
   "metadata": {},
   "outputs": [
    {
     "name": "stdout",
     "output_type": "stream",
     "text": [
      "Collecting voila\n",
      "  Downloading voila-0.3.6-py3-none-any.whl (1.7 MB)\n",
      "     ---------------------------------------- 1.7/1.7 MB 18.1 MB/s eta 0:00:00\n",
      "Requirement already satisfied: jupyterlab-server<3,>=2.3.0 in c:\\users\\sarah\\anaconda3\\envs\\ytanalysis\\lib\\site-packages (from voila) (2.15.2)\n",
      "Requirement already satisfied: nbclient<0.6,>=0.4.0 in c:\\users\\sarah\\anaconda3\\envs\\ytanalysis\\lib\\site-packages (from voila) (0.5.13)\n",
      "Requirement already satisfied: jupyter-core>=4.11.0 in c:\\users\\sarah\\anaconda3\\envs\\ytanalysis\\lib\\site-packages (from voila) (4.11.1)\n",
      "Collecting websockets>=9.0\n",
      "  Downloading websockets-10.3-cp39-cp39-win_amd64.whl (98 kB)\n",
      "     ---------------------------------------- 98.6/98.6 kB ? eta 0:00:00\n",
      "Collecting nbconvert<7,>=6.4.5\n",
      "  Downloading nbconvert-6.5.4-py3-none-any.whl (563 kB)\n",
      "     ---------------------------------------- 563.8/563.8 kB ? eta 0:00:00\n",
      "Requirement already satisfied: jupyter-server<2.0.0,>=1.18 in c:\\users\\sarah\\anaconda3\\envs\\ytanalysis\\lib\\site-packages (from voila) (1.18.1)\n",
      "Requirement already satisfied: jupyter-client<8,>=6.1.3 in c:\\users\\sarah\\anaconda3\\envs\\ytanalysis\\lib\\site-packages (from voila) (7.3.5)\n",
      "Requirement already satisfied: traitlets<6,>=5.0.3 in c:\\users\\sarah\\anaconda3\\envs\\ytanalysis\\lib\\site-packages (from voila) (5.1.1)\n",
      "Requirement already satisfied: pyzmq>=23.0 in c:\\users\\sarah\\anaconda3\\envs\\ytanalysis\\lib\\site-packages (from jupyter-client<8,>=6.1.3->voila) (23.2.0)\n",
      "Requirement already satisfied: entrypoints in c:\\users\\sarah\\anaconda3\\envs\\ytanalysis\\lib\\site-packages (from jupyter-client<8,>=6.1.3->voila) (0.4)\n",
      "Requirement already satisfied: tornado>=6.2 in c:\\users\\sarah\\anaconda3\\envs\\ytanalysis\\lib\\site-packages (from jupyter-client<8,>=6.1.3->voila) (6.2)\n",
      "Requirement already satisfied: nest-asyncio>=1.5.4 in c:\\users\\sarah\\anaconda3\\envs\\ytanalysis\\lib\\site-packages (from jupyter-client<8,>=6.1.3->voila) (1.5.5)\n",
      "Requirement already satisfied: python-dateutil>=2.8.2 in c:\\users\\sarah\\anaconda3\\envs\\ytanalysis\\lib\\site-packages (from jupyter-client<8,>=6.1.3->voila) (2.8.2)\n",
      "Requirement already satisfied: pywin32>=1.0 in c:\\users\\sarah\\anaconda3\\envs\\ytanalysis\\lib\\site-packages (from jupyter-core>=4.11.0->voila) (302)\n",
      "Requirement already satisfied: argon2-cffi in c:\\users\\sarah\\anaconda3\\envs\\ytanalysis\\lib\\site-packages (from jupyter-server<2.0.0,>=1.18->voila) (21.3.0)\n",
      "Requirement already satisfied: prometheus-client in c:\\users\\sarah\\anaconda3\\envs\\ytanalysis\\lib\\site-packages (from jupyter-server<2.0.0,>=1.18->voila) (0.14.1)\n",
      "Requirement already satisfied: Send2Trash in c:\\users\\sarah\\anaconda3\\envs\\ytanalysis\\lib\\site-packages (from jupyter-server<2.0.0,>=1.18->voila) (1.8.0)\n",
      "Requirement already satisfied: jinja2 in c:\\users\\sarah\\anaconda3\\envs\\ytanalysis\\lib\\site-packages (from jupyter-server<2.0.0,>=1.18->voila) (3.0.3)\n",
      "Requirement already satisfied: pywinpty in c:\\users\\sarah\\anaconda3\\envs\\ytanalysis\\lib\\site-packages (from jupyter-server<2.0.0,>=1.18->voila) (2.0.2)\n",
      "Requirement already satisfied: anyio<4,>=3.1.0 in c:\\users\\sarah\\anaconda3\\envs\\ytanalysis\\lib\\site-packages (from jupyter-server<2.0.0,>=1.18->voila) (3.5.0)\n",
      "Requirement already satisfied: nbformat>=5.2.0 in c:\\users\\sarah\\anaconda3\\envs\\ytanalysis\\lib\\site-packages (from jupyter-server<2.0.0,>=1.18->voila) (5.5.0)\n",
      "Requirement already satisfied: terminado>=0.8.3 in c:\\users\\sarah\\anaconda3\\envs\\ytanalysis\\lib\\site-packages (from jupyter-server<2.0.0,>=1.18->voila) (0.13.1)\n",
      "Requirement already satisfied: websocket-client in c:\\users\\sarah\\anaconda3\\envs\\ytanalysis\\lib\\site-packages (from jupyter-server<2.0.0,>=1.18->voila) (0.58.0)\n",
      "Requirement already satisfied: packaging in c:\\users\\sarah\\anaconda3\\envs\\ytanalysis\\lib\\site-packages (from jupyter-server<2.0.0,>=1.18->voila) (21.3)\n",
      "Requirement already satisfied: babel in c:\\users\\sarah\\anaconda3\\envs\\ytanalysis\\lib\\site-packages (from jupyterlab-server<3,>=2.3.0->voila) (2.9.1)\n",
      "Requirement already satisfied: requests in c:\\users\\sarah\\anaconda3\\envs\\ytanalysis\\lib\\site-packages (from jupyterlab-server<3,>=2.3.0->voila) (2.28.1)\n",
      "Requirement already satisfied: importlib-metadata>=3.6 in c:\\users\\sarah\\anaconda3\\envs\\ytanalysis\\lib\\site-packages (from jupyterlab-server<3,>=2.3.0->voila) (4.11.3)\n",
      "Requirement already satisfied: json5 in c:\\users\\sarah\\anaconda3\\envs\\ytanalysis\\lib\\site-packages (from jupyterlab-server<3,>=2.3.0->voila) (0.9.6)\n",
      "Requirement already satisfied: jsonschema>=3.0.1 in c:\\users\\sarah\\anaconda3\\envs\\ytanalysis\\lib\\site-packages (from jupyterlab-server<3,>=2.3.0->voila) (4.16.0)\n",
      "Requirement already satisfied: pygments>=2.4.1 in c:\\users\\sarah\\anaconda3\\envs\\ytanalysis\\lib\\site-packages (from nbconvert<7,>=6.4.5->voila) (2.11.2)\n",
      "Collecting tinycss2\n",
      "  Downloading tinycss2-1.1.1-py3-none-any.whl (21 kB)\n",
      "Requirement already satisfied: jupyterlab-pygments in c:\\users\\sarah\\anaconda3\\envs\\ytanalysis\\lib\\site-packages (from nbconvert<7,>=6.4.5->voila) (0.1.2)\n",
      "Requirement already satisfied: defusedxml in c:\\users\\sarah\\anaconda3\\envs\\ytanalysis\\lib\\site-packages (from nbconvert<7,>=6.4.5->voila) (0.7.1)\n",
      "Requirement already satisfied: mistune<2,>=0.8.1 in c:\\users\\sarah\\anaconda3\\envs\\ytanalysis\\lib\\site-packages (from nbconvert<7,>=6.4.5->voila) (0.8.4)\n",
      "Requirement already satisfied: MarkupSafe>=2.0 in c:\\users\\sarah\\anaconda3\\envs\\ytanalysis\\lib\\site-packages (from nbconvert<7,>=6.4.5->voila) (2.1.1)\n",
      "Collecting lxml\n",
      "  Downloading lxml-4.9.1-cp39-cp39-win_amd64.whl (3.6 MB)\n",
      "     ---------------------------------------- 3.6/3.6 MB 4.0 MB/s eta 0:00:00\n",
      "Requirement already satisfied: beautifulsoup4 in c:\\users\\sarah\\anaconda3\\envs\\ytanalysis\\lib\\site-packages (from nbconvert<7,>=6.4.5->voila) (4.11.1)\n",
      "Requirement already satisfied: pandocfilters>=1.4.1 in c:\\users\\sarah\\anaconda3\\envs\\ytanalysis\\lib\\site-packages (from nbconvert<7,>=6.4.5->voila) (1.5.0)\n",
      "Requirement already satisfied: bleach in c:\\users\\sarah\\anaconda3\\envs\\ytanalysis\\lib\\site-packages (from nbconvert<7,>=6.4.5->voila) (4.1.0)\n",
      "Requirement already satisfied: sniffio>=1.1 in c:\\users\\sarah\\anaconda3\\envs\\ytanalysis\\lib\\site-packages (from anyio<4,>=3.1.0->jupyter-server<2.0.0,>=1.18->voila) (1.2.0)\n",
      "Requirement already satisfied: idna>=2.8 in c:\\users\\sarah\\anaconda3\\envs\\ytanalysis\\lib\\site-packages (from anyio<4,>=3.1.0->jupyter-server<2.0.0,>=1.18->voila) (3.3)\n",
      "Requirement already satisfied: zipp>=0.5 in c:\\users\\sarah\\anaconda3\\envs\\ytanalysis\\lib\\site-packages (from importlib-metadata>=3.6->jupyterlab-server<3,>=2.3.0->voila) (3.8.0)\n",
      "Requirement already satisfied: attrs>=17.4.0 in c:\\users\\sarah\\anaconda3\\envs\\ytanalysis\\lib\\site-packages (from jsonschema>=3.0.1->jupyterlab-server<3,>=2.3.0->voila) (21.4.0)\n",
      "Requirement already satisfied: pyrsistent!=0.17.0,!=0.17.1,!=0.17.2,>=0.14.0 in c:\\users\\sarah\\anaconda3\\envs\\ytanalysis\\lib\\site-packages (from jsonschema>=3.0.1->jupyterlab-server<3,>=2.3.0->voila) (0.18.0)\n",
      "Requirement already satisfied: fastjsonschema in c:\\users\\sarah\\anaconda3\\envs\\ytanalysis\\lib\\site-packages (from nbformat>=5.2.0->jupyter-server<2.0.0,>=1.18->voila) (2.16.2)\n",
      "Requirement already satisfied: six>=1.5 in c:\\users\\sarah\\anaconda3\\envs\\ytanalysis\\lib\\site-packages (from python-dateutil>=2.8.2->jupyter-client<8,>=6.1.3->voila) (1.16.0)\n",
      "Requirement already satisfied: argon2-cffi-bindings in c:\\users\\sarah\\anaconda3\\envs\\ytanalysis\\lib\\site-packages (from argon2-cffi->jupyter-server<2.0.0,>=1.18->voila) (21.2.0)\n",
      "Requirement already satisfied: pytz>=2015.7 in c:\\users\\sarah\\anaconda3\\envs\\ytanalysis\\lib\\site-packages (from babel->jupyterlab-server<3,>=2.3.0->voila) (2022.1)\n",
      "Requirement already satisfied: soupsieve>1.2 in c:\\users\\sarah\\anaconda3\\envs\\ytanalysis\\lib\\site-packages (from beautifulsoup4->nbconvert<7,>=6.4.5->voila) (2.3.1)\n",
      "Requirement already satisfied: webencodings in c:\\users\\sarah\\anaconda3\\envs\\ytanalysis\\lib\\site-packages (from bleach->nbconvert<7,>=6.4.5->voila) (0.5.1)\n",
      "Requirement already satisfied: pyparsing!=3.0.5,>=2.0.2 in c:\\users\\sarah\\anaconda3\\envs\\ytanalysis\\lib\\site-packages (from packaging->jupyter-server<2.0.0,>=1.18->voila) (3.0.9)\n",
      "Requirement already satisfied: charset-normalizer<3,>=2 in c:\\users\\sarah\\anaconda3\\envs\\ytanalysis\\lib\\site-packages (from requests->jupyterlab-server<3,>=2.3.0->voila) (2.0.4)\n",
      "Requirement already satisfied: certifi>=2017.4.17 in c:\\users\\sarah\\anaconda3\\envs\\ytanalysis\\lib\\site-packages (from requests->jupyterlab-server<3,>=2.3.0->voila) (2022.9.24)\n",
      "Requirement already satisfied: urllib3<1.27,>=1.21.1 in c:\\users\\sarah\\anaconda3\\envs\\ytanalysis\\lib\\site-packages (from requests->jupyterlab-server<3,>=2.3.0->voila) (1.26.11)\n",
      "Requirement already satisfied: cffi>=1.0.1 in c:\\users\\sarah\\anaconda3\\envs\\ytanalysis\\lib\\site-packages (from argon2-cffi-bindings->argon2-cffi->jupyter-server<2.0.0,>=1.18->voila) (1.15.1)\n",
      "Requirement already satisfied: pycparser in c:\\users\\sarah\\anaconda3\\envs\\ytanalysis\\lib\\site-packages (from cffi>=1.0.1->argon2-cffi-bindings->argon2-cffi->jupyter-server<2.0.0,>=1.18->voila) (2.21)\n",
      "Installing collected packages: websockets, tinycss2, lxml, nbconvert, voila\n",
      "  Attempting uninstall: nbconvert\n",
      "    Found existing installation: nbconvert 6.4.4\n",
      "    Uninstalling nbconvert-6.4.4:\n",
      "      Successfully uninstalled nbconvert-6.4.4\n",
      "Successfully installed lxml-4.9.1 nbconvert-6.5.4 tinycss2-1.1.1 voila-0.3.6 websockets-10.3\n",
      "Note: you may need to restart the kernel to use updated packages.\n"
     ]
    }
   ],
   "source": [
    "pip install voila"
   ]
  },
  {
   "cell_type": "code",
   "execution_count": 11,
   "id": "d6ba79e6",
   "metadata": {
    "ExecuteTime": {
     "end_time": "2022-10-11T00:29:44.945681Z",
     "start_time": "2022-10-11T00:29:02.149378Z"
    }
   },
   "outputs": [
    {
     "name": "stdout",
     "output_type": "stream",
     "text": [
      "Requirement already satisfied: scikit-learn in c:\\users\\sarah\\anaconda3\\envs\\ytanalysis\\lib\\site-packages (1.1.2)\n",
      "Requirement already satisfied: joblib>=1.0.0 in c:\\users\\sarah\\anaconda3\\envs\\ytanalysis\\lib\\site-packages (from scikit-learn) (1.2.0)\n",
      "Requirement already satisfied: threadpoolctl>=2.0.0 in c:\\users\\sarah\\anaconda3\\envs\\ytanalysis\\lib\\site-packages (from scikit-learn) (3.1.0)\n",
      "Requirement already satisfied: numpy>=1.17.3 in c:\\users\\sarah\\anaconda3\\envs\\ytanalysis\\lib\\site-packages (from scikit-learn) (1.23.4)\n",
      "Requirement already satisfied: scipy>=1.3.2 in c:\\users\\sarah\\anaconda3\\envs\\ytanalysis\\lib\\site-packages (from scikit-learn) (1.9.2)\n",
      "Note: you may need to restart the kernel to use updated packages.\n"
     ]
    }
   ],
   "source": [
    "pip install -U scikit-learn"
   ]
  },
  {
   "cell_type": "code",
   "execution_count": null,
   "id": "1da6cc3f",
   "metadata": {
    "ExecuteTime": {
     "end_time": "2022-10-11T00:29:49.670710Z",
     "start_time": "2022-10-11T00:29:44.949682Z"
    }
   },
   "outputs": [],
   "source": [
    "pip install -U nltk"
   ]
  },
  {
   "cell_type": "code",
   "execution_count": null,
   "id": "e8a14f19",
   "metadata": {
    "ExecuteTime": {
     "end_time": "2022-10-11T00:29:54.197712Z",
     "start_time": "2022-10-11T00:29:49.673714Z"
    }
   },
   "outputs": [],
   "source": [
    "pip install -U ipywidgets"
   ]
  },
  {
   "cell_type": "code",
   "execution_count": null,
   "id": "8cd78969",
   "metadata": {
    "ExecuteTime": {
     "end_time": "2022-10-11T00:29:58.357710Z",
     "start_time": "2022-10-11T00:29:54.203713Z"
    }
   },
   "outputs": [],
   "source": [
    "pip install -U seaborn"
   ]
  },
  {
   "cell_type": "code",
   "execution_count": 15,
   "id": "523398dc",
   "metadata": {
    "ExecuteTime": {
     "end_time": "2022-10-11T00:30:19.453821Z",
     "start_time": "2022-10-11T00:29:58.360713Z"
    }
   },
   "outputs": [
    {
     "name": "stdout",
     "output_type": "stream",
     "text": [
      "Requirement already satisfied: spacy in c:\\users\\sarah\\anaconda3\\envs\\ytanalysis\\lib\\site-packages (3.4.1)\n",
      "Requirement already satisfied: srsly<3.0.0,>=2.4.3 in c:\\users\\sarah\\anaconda3\\envs\\ytanalysis\\lib\\site-packages (from spacy) (2.4.4)\n",
      "Requirement already satisfied: pathy>=0.3.5 in c:\\users\\sarah\\anaconda3\\envs\\ytanalysis\\lib\\site-packages (from spacy) (0.6.2)\n",
      "Requirement already satisfied: wasabi<1.1.0,>=0.9.1 in c:\\users\\sarah\\anaconda3\\envs\\ytanalysis\\lib\\site-packages (from spacy) (0.10.1)\n",
      "Requirement already satisfied: spacy-loggers<2.0.0,>=1.0.0 in c:\\users\\sarah\\anaconda3\\envs\\ytanalysis\\lib\\site-packages (from spacy) (1.0.3)\n",
      "Requirement already satisfied: catalogue<2.1.0,>=2.0.6 in c:\\users\\sarah\\anaconda3\\envs\\ytanalysis\\lib\\site-packages (from spacy) (2.0.8)\n",
      "Requirement already satisfied: pydantic!=1.8,!=1.8.1,<1.10.0,>=1.7.4 in c:\\users\\sarah\\anaconda3\\envs\\ytanalysis\\lib\\site-packages (from spacy) (1.9.2)\n",
      "Requirement already satisfied: setuptools in c:\\users\\sarah\\anaconda3\\envs\\ytanalysis\\lib\\site-packages (from spacy) (63.4.1)\n",
      "Requirement already satisfied: cymem<2.1.0,>=2.0.2 in c:\\users\\sarah\\anaconda3\\envs\\ytanalysis\\lib\\site-packages (from spacy) (2.0.7)\n",
      "Requirement already satisfied: numpy>=1.15.0 in c:\\users\\sarah\\anaconda3\\envs\\ytanalysis\\lib\\site-packages (from spacy) (1.23.4)\n",
      "Requirement already satisfied: preshed<3.1.0,>=3.0.2 in c:\\users\\sarah\\anaconda3\\envs\\ytanalysis\\lib\\site-packages (from spacy) (3.0.8)\n",
      "Requirement already satisfied: murmurhash<1.1.0,>=0.28.0 in c:\\users\\sarah\\anaconda3\\envs\\ytanalysis\\lib\\site-packages (from spacy) (1.0.9)\n",
      "Requirement already satisfied: langcodes<4.0.0,>=3.2.0 in c:\\users\\sarah\\anaconda3\\envs\\ytanalysis\\lib\\site-packages (from spacy) (3.3.0)\n",
      "Requirement already satisfied: packaging>=20.0 in c:\\users\\sarah\\anaconda3\\envs\\ytanalysis\\lib\\site-packages (from spacy) (21.3)\n",
      "Requirement already satisfied: thinc<8.2.0,>=8.1.0 in c:\\users\\sarah\\anaconda3\\envs\\ytanalysis\\lib\\site-packages (from spacy) (8.1.4)\n",
      "Requirement already satisfied: spacy-legacy<3.1.0,>=3.0.9 in c:\\users\\sarah\\anaconda3\\envs\\ytanalysis\\lib\\site-packages (from spacy) (3.0.10)\n",
      "Requirement already satisfied: jinja2 in c:\\users\\sarah\\anaconda3\\envs\\ytanalysis\\lib\\site-packages (from spacy) (3.0.3)\n",
      "Requirement already satisfied: requests<3.0.0,>=2.13.0 in c:\\users\\sarah\\anaconda3\\envs\\ytanalysis\\lib\\site-packages (from spacy) (2.28.1)\n",
      "Requirement already satisfied: typer<0.5.0,>=0.3.0 in c:\\users\\sarah\\anaconda3\\envs\\ytanalysis\\lib\\site-packages (from spacy) (0.4.2)\n",
      "Requirement already satisfied: tqdm<5.0.0,>=4.38.0 in c:\\users\\sarah\\anaconda3\\envs\\ytanalysis\\lib\\site-packages (from spacy) (4.64.1)\n",
      "Requirement already satisfied: pyparsing!=3.0.5,>=2.0.2 in c:\\users\\sarah\\anaconda3\\envs\\ytanalysis\\lib\\site-packages (from packaging>=20.0->spacy) (3.0.9)\n",
      "Requirement already satisfied: smart-open<6.0.0,>=5.2.1 in c:\\users\\sarah\\anaconda3\\envs\\ytanalysis\\lib\\site-packages (from pathy>=0.3.5->spacy) (5.2.1)\n",
      "Requirement already satisfied: typing-extensions>=3.7.4.3 in c:\\users\\sarah\\anaconda3\\envs\\ytanalysis\\lib\\site-packages (from pydantic!=1.8,!=1.8.1,<1.10.0,>=1.7.4->spacy) (4.3.0)\n",
      "Requirement already satisfied: charset-normalizer<3,>=2 in c:\\users\\sarah\\anaconda3\\envs\\ytanalysis\\lib\\site-packages (from requests<3.0.0,>=2.13.0->spacy) (2.0.4)\n",
      "Requirement already satisfied: idna<4,>=2.5 in c:\\users\\sarah\\anaconda3\\envs\\ytanalysis\\lib\\site-packages (from requests<3.0.0,>=2.13.0->spacy) (3.3)\n",
      "Requirement already satisfied: certifi>=2017.4.17 in c:\\users\\sarah\\anaconda3\\envs\\ytanalysis\\lib\\site-packages (from requests<3.0.0,>=2.13.0->spacy) (2022.9.24)\n",
      "Requirement already satisfied: urllib3<1.27,>=1.21.1 in c:\\users\\sarah\\anaconda3\\envs\\ytanalysis\\lib\\site-packages (from requests<3.0.0,>=2.13.0->spacy) (1.26.11)\n",
      "Requirement already satisfied: blis<0.8.0,>=0.7.8 in c:\\users\\sarah\\anaconda3\\envs\\ytanalysis\\lib\\site-packages (from thinc<8.2.0,>=8.1.0->spacy) (0.7.8)\n",
      "Requirement already satisfied: confection<1.0.0,>=0.0.1 in c:\\users\\sarah\\anaconda3\\envs\\ytanalysis\\lib\\site-packages (from thinc<8.2.0,>=8.1.0->spacy) (0.0.3)\n",
      "Requirement already satisfied: colorama in c:\\users\\sarah\\anaconda3\\envs\\ytanalysis\\lib\\site-packages (from tqdm<5.0.0,>=4.38.0->spacy) (0.4.5)\n",
      "Requirement already satisfied: click<9.0.0,>=7.1.1 in c:\\users\\sarah\\anaconda3\\envs\\ytanalysis\\lib\\site-packages (from typer<0.5.0,>=0.3.0->spacy) (8.1.3)\n",
      "Requirement already satisfied: MarkupSafe>=2.0 in c:\\users\\sarah\\anaconda3\\envs\\ytanalysis\\lib\\site-packages (from jinja2->spacy) (2.1.1)\n",
      "Note: you may need to restart the kernel to use updated packages.\n"
     ]
    }
   ],
   "source": [
    "pip install -U spacy"
   ]
  },
  {
   "cell_type": "code",
   "execution_count": null,
   "id": "ee422c8d",
   "metadata": {
    "ExecuteTime": {
     "end_time": "2022-10-11T00:30:23.921822Z",
     "start_time": "2022-10-11T00:30:19.458825Z"
    }
   },
   "outputs": [],
   "source": [
    "pip install -U wordcloud"
   ]
  },
  {
   "cell_type": "code",
   "execution_count": 14,
   "id": "f2741a7a-4ea4-4d6b-acb4-e2a7d5cc0995",
   "metadata": {
    "ExecuteTime": {
     "end_time": "2022-10-11T00:30:32.735820Z",
     "start_time": "2022-10-11T00:30:23.925824Z"
    }
   },
   "outputs": [],
   "source": [
    "# Might not need later"
   ]
  },
  {
   "cell_type": "code",
   "execution_count": 13,
   "id": "79f0e169-8303-479a-8e8b-6a45795a6d7a",
   "metadata": {
    "ExecuteTime": {
     "end_time": "2022-10-11T00:30:32.735820Z",
     "start_time": "2022-10-11T00:30:23.925824Z"
    }
   },
   "outputs": [
    {
     "name": "stdout",
     "output_type": "stream",
     "text": [
      "Requirement already satisfied: youtube-comment-downloader in c:\\users\\sarah\\anaconda3\\envs\\ytanalysis\\lib\\site-packages (0.1.67)Note: you may need to restart the kernel to use updated packages.\n",
      "\n",
      "Requirement already satisfied: requests in c:\\users\\sarah\\anaconda3\\envs\\ytanalysis\\lib\\site-packages (from youtube-comment-downloader) (2.28.1)\n",
      "Requirement already satisfied: dateparser in c:\\users\\sarah\\anaconda3\\envs\\ytanalysis\\lib\\site-packages (from youtube-comment-downloader) (1.1.1)\n",
      "Requirement already satisfied: tzlocal in c:\\users\\sarah\\anaconda3\\envs\\ytanalysis\\lib\\site-packages (from dateparser->youtube-comment-downloader) (4.2)\n",
      "Requirement already satisfied: python-dateutil in c:\\users\\sarah\\anaconda3\\envs\\ytanalysis\\lib\\site-packages (from dateparser->youtube-comment-downloader) (2.8.2)\n",
      "Requirement already satisfied: regex!=2019.02.19,!=2021.8.27,<2022.3.15 in c:\\users\\sarah\\anaconda3\\envs\\ytanalysis\\lib\\site-packages (from dateparser->youtube-comment-downloader) (2022.3.2)\n",
      "Requirement already satisfied: pytz in c:\\users\\sarah\\anaconda3\\envs\\ytanalysis\\lib\\site-packages (from dateparser->youtube-comment-downloader) (2022.1)\n",
      "Requirement already satisfied: certifi>=2017.4.17 in c:\\users\\sarah\\anaconda3\\envs\\ytanalysis\\lib\\site-packages (from requests->youtube-comment-downloader) (2022.9.24)\n",
      "Requirement already satisfied: idna<4,>=2.5 in c:\\users\\sarah\\anaconda3\\envs\\ytanalysis\\lib\\site-packages (from requests->youtube-comment-downloader) (3.3)\n",
      "Requirement already satisfied: urllib3<1.27,>=1.21.1 in c:\\users\\sarah\\anaconda3\\envs\\ytanalysis\\lib\\site-packages (from requests->youtube-comment-downloader) (1.26.11)\n",
      "Requirement already satisfied: charset-normalizer<3,>=2 in c:\\users\\sarah\\anaconda3\\envs\\ytanalysis\\lib\\site-packages (from requests->youtube-comment-downloader) (2.0.4)\n",
      "Requirement already satisfied: six>=1.5 in c:\\users\\sarah\\anaconda3\\envs\\ytanalysis\\lib\\site-packages (from python-dateutil->dateparser->youtube-comment-downloader) (1.16.0)\n",
      "Requirement already satisfied: pytz-deprecation-shim in c:\\users\\sarah\\anaconda3\\envs\\ytanalysis\\lib\\site-packages (from tzlocal->dateparser->youtube-comment-downloader) (0.1.0.post0)\n",
      "Requirement already satisfied: tzdata in c:\\users\\sarah\\anaconda3\\envs\\ytanalysis\\lib\\site-packages (from tzlocal->dateparser->youtube-comment-downloader) (2022.5)\n"
     ]
    }
   ],
   "source": [
    "pip install -U youtube-comment-downloader"
   ]
  },
  {
   "cell_type": "code",
   "execution_count": null,
   "id": "8fdb1ac5",
   "metadata": {
    "ExecuteTime": {
     "end_time": "2022-10-11T00:30:35.866862Z",
     "start_time": "2022-10-11T00:30:32.738823Z"
    }
   },
   "outputs": [],
   "source": [
    "pip install -U numpy"
   ]
  },
  {
   "cell_type": "code",
   "execution_count": null,
   "id": "a160a13b",
   "metadata": {
    "ExecuteTime": {
     "end_time": "2022-10-11T00:33:58.548483Z",
     "start_time": "2022-10-11T00:33:41.737387Z"
    }
   },
   "outputs": [],
   "source": [
    "pip install -U numba"
   ]
  },
  {
   "cell_type": "markdown",
   "id": "a3224bc7",
   "metadata": {},
   "source": [
    "If the installation is successful, the cell below will not produce an error."
   ]
  },
  {
   "cell_type": "code",
   "execution_count": null,
   "id": "59171fda",
   "metadata": {
    "ExecuteTime": {
     "end_time": "2022-10-11T00:34:17.679285Z",
     "start_time": "2022-10-11T00:34:07.809185Z"
    }
   },
   "outputs": [],
   "source": [
    "# Importing Tools\n",
    "import warnings\n",
    "import pandas as pd\n",
    "from numba import jit, cuda\n",
    "import re\n",
    "from youtube_comment_downloader import *\n",
    "import pickle\n",
    "import numpy as np\n",
    "from collections import Counter\n",
    "\n",
    "# Visualization packages\n",
    "import matplotlib.pyplot as plt\n",
    "import seaborn as sns\n",
    "from wordcloud import WordCloud\n",
    "from ipywidgets import *\n",
    "from nltk import sent_tokenize, word_tokenize\n",
    "from nltk.stem import WordNetLemmatizer\n",
    "from wordcloud import STOPWORDS\n",
    "%matplotlib inline\n",
    "\n",
    " \n",
    "\n",
    "# Machine learning packages\n",
    "import nltk\n",
    "from nltk.sentiment.vader import SentimentIntensityAnalyzer\n",
    "from sklearn.feature_extraction.text import TfidfVectorizer\n",
    "from sklearn.linear_model import LogisticRegression\n",
    "from nltk.stem import PorterStemmer\n",
    "import spacy\n",
    "\n",
    "dl = nltk.download('vader_lexicon')\n",
    "nltk.download('punkt')\n",
    "nltk.download('wordnet')\n",
    "nltk.download('stopwords')\n",
    "\n",
    "\n",
    "print('***** Success *****')"
   ]
  },
  {
   "cell_type": "code",
   "execution_count": null,
   "id": "9f7549f0",
   "metadata": {},
   "outputs": [],
   "source": []
  }
 ],
 "metadata": {
  "kernelspec": {
   "display_name": "Python 3 (ipykernel)",
   "language": "python",
   "name": "python3"
  },
  "language_info": {
   "codemirror_mode": {
    "name": "ipython",
    "version": 3
   },
   "file_extension": ".py",
   "mimetype": "text/x-python",
   "name": "python",
   "nbconvert_exporter": "python",
   "pygments_lexer": "ipython3",
   "version": "3.9.13"
  },
  "toc": {
   "base_numbering": 1,
   "nav_menu": {},
   "number_sections": true,
   "sideBar": true,
   "skip_h1_title": false,
   "title_cell": "Table of Contents",
   "title_sidebar": "Contents",
   "toc_cell": false,
   "toc_position": {},
   "toc_section_display": true,
   "toc_window_display": false
  },
  "varInspector": {
   "cols": {
    "lenName": 16,
    "lenType": 16,
    "lenVar": 40
   },
   "kernels_config": {
    "python": {
     "delete_cmd_postfix": "",
     "delete_cmd_prefix": "del ",
     "library": "var_list.py",
     "varRefreshCmd": "print(var_dic_list())"
    },
    "r": {
     "delete_cmd_postfix": ") ",
     "delete_cmd_prefix": "rm(",
     "library": "var_list.r",
     "varRefreshCmd": "cat(var_dic_list()) "
    }
   },
   "types_to_exclude": [
    "module",
    "function",
    "builtin_function_or_method",
    "instance",
    "_Feature"
   ],
   "window_display": false
  },
  "vscode": {
   "interpreter": {
    "hash": "41580ad955a486e98d8fd5c235d14a3bbc54a23f106b098eee5b5783447a7c39"
   }
  }
 },
 "nbformat": 4,
 "nbformat_minor": 5
}
