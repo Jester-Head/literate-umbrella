{
 "cells": [
  {
   "cell_type": "markdown",
   "id": "3bdcae6f",
   "metadata": {},
   "source": [
    "# Installing Packages"
   ]
  },
  {
   "cell_type": "code",
   "execution_count": 1,
   "id": "d6ba79e6",
   "metadata": {},
   "outputs": [
    {
     "name": "stdout",
     "output_type": "stream",
     "text": [
      "Requirement already satisfied: scikit-learn in c:\\users\\sarah\\anaconda3\\envs\\test\\lib\\site-packages (1.1.2)\n",
      "Requirement already satisfied: joblib>=1.0.0 in c:\\users\\sarah\\appdata\\roaming\\python\\python39\\site-packages (from scikit-learn) (1.2.0)\n",
      "Requirement already satisfied: numpy>=1.17.3 in c:\\users\\sarah\\anaconda3\\envs\\test\\lib\\site-packages (from scikit-learn) (1.23.3)\n",
      "Requirement already satisfied: threadpoolctl>=2.0.0 in c:\\users\\sarah\\anaconda3\\envs\\test\\lib\\site-packages (from scikit-learn) (3.1.0)\n",
      "Requirement already satisfied: scipy>=1.3.2 in c:\\users\\sarah\\anaconda3\\envs\\test\\lib\\site-packages (from scikit-learn) (1.9.1)\n",
      "Note: you may need to restart the kernel to use updated packages.\n"
     ]
    }
   ],
   "source": [
    "pip install -U scikit-learn"
   ]
  },
  {
   "cell_type": "code",
   "execution_count": 2,
   "id": "1da6cc3f",
   "metadata": {},
   "outputs": [
    {
     "name": "stdout",
     "output_type": "stream",
     "text": [
      "Requirement already satisfied: nltk in c:\\users\\sarah\\appdata\\roaming\\python\\python39\\site-packages (3.7)\n",
      "Requirement already satisfied: tqdm in c:\\users\\sarah\\appdata\\roaming\\python\\python39\\site-packages (from nltk) (4.64.1)\n",
      "Requirement already satisfied: joblib in c:\\users\\sarah\\appdata\\roaming\\python\\python39\\site-packages (from nltk) (1.2.0)\n",
      "Requirement already satisfied: click in c:\\users\\sarah\\appdata\\roaming\\python\\python39\\site-packages (from nltk) (8.1.3)\n",
      "Requirement already satisfied: regex>=2021.8.3 in c:\\users\\sarah\\anaconda3\\envs\\test\\lib\\site-packages (from nltk) (2022.3.2)\n",
      "Requirement already satisfied: colorama in c:\\users\\sarah\\anaconda3\\envs\\test\\lib\\site-packages (from click->nltk) (0.4.5)\n",
      "Note: you may need to restart the kernel to use updated packages.\n"
     ]
    }
   ],
   "source": [
    "pip install -U nltk"
   ]
  },
  {
   "cell_type": "code",
   "execution_count": 3,
   "id": "e8a14f19",
   "metadata": {},
   "outputs": [
    {
     "name": "stdout",
     "output_type": "stream",
     "text": [
      "Requirement already satisfied: ipywidgets in c:\\users\\sarah\\anaconda3\\envs\\test\\lib\\site-packages (8.0.2)Note: you may need to restart the kernel to use updated packages.\n",
      "\n",
      "Requirement already satisfied: widgetsnbextension~=4.0 in c:\\users\\sarah\\anaconda3\\envs\\test\\lib\\site-packages (from ipywidgets) (4.0.3)\n",
      "Requirement already satisfied: jupyterlab-widgets~=3.0 in c:\\users\\sarah\\anaconda3\\envs\\test\\lib\\site-packages (from ipywidgets) (3.0.3)\n",
      "Requirement already satisfied: ipykernel>=4.5.1 in c:\\users\\sarah\\anaconda3\\envs\\test\\lib\\site-packages (from ipywidgets) (6.15.2)\n",
      "Requirement already satisfied: traitlets>=4.3.1 in c:\\users\\sarah\\anaconda3\\envs\\test\\lib\\site-packages (from ipywidgets) (5.1.1)\n",
      "Requirement already satisfied: ipython>=6.1.0 in c:\\users\\sarah\\anaconda3\\envs\\test\\lib\\site-packages (from ipywidgets) (8.4.0)\n",
      "Requirement already satisfied: matplotlib-inline>=0.1 in c:\\users\\sarah\\anaconda3\\envs\\test\\lib\\site-packages (from ipykernel>=4.5.1->ipywidgets) (0.1.6)\n",
      "Requirement already satisfied: tornado>=6.1 in c:\\users\\sarah\\anaconda3\\envs\\test\\lib\\site-packages (from ipykernel>=4.5.1->ipywidgets) (6.2)\n",
      "Requirement already satisfied: nest-asyncio in c:\\users\\sarah\\anaconda3\\envs\\test\\lib\\site-packages (from ipykernel>=4.5.1->ipywidgets) (1.5.5)\n",
      "Requirement already satisfied: psutil in c:\\users\\sarah\\anaconda3\\envs\\test\\lib\\site-packages (from ipykernel>=4.5.1->ipywidgets) (5.9.0)\n",
      "Requirement already satisfied: packaging in c:\\users\\sarah\\anaconda3\\envs\\test\\lib\\site-packages (from ipykernel>=4.5.1->ipywidgets) (21.3)\n",
      "Requirement already satisfied: jupyter-client>=6.1.12 in c:\\users\\sarah\\anaconda3\\envs\\test\\lib\\site-packages (from ipykernel>=4.5.1->ipywidgets) (7.3.5)\n",
      "Requirement already satisfied: pyzmq>=17 in c:\\users\\sarah\\anaconda3\\envs\\test\\lib\\site-packages (from ipykernel>=4.5.1->ipywidgets) (23.2.0)\n",
      "Requirement already satisfied: debugpy>=1.0 in c:\\users\\sarah\\anaconda3\\envs\\test\\lib\\site-packages (from ipykernel>=4.5.1->ipywidgets) (1.5.1)\n",
      "Requirement already satisfied: colorama in c:\\users\\sarah\\anaconda3\\envs\\test\\lib\\site-packages (from ipython>=6.1.0->ipywidgets) (0.4.5)\n",
      "Requirement already satisfied: setuptools>=18.5 in c:\\users\\sarah\\anaconda3\\envs\\test\\lib\\site-packages (from ipython>=6.1.0->ipywidgets) (63.4.1)\n",
      "Requirement already satisfied: backcall in c:\\users\\sarah\\anaconda3\\envs\\test\\lib\\site-packages (from ipython>=6.1.0->ipywidgets) (0.2.0)\n",
      "Requirement already satisfied: jedi>=0.16 in c:\\users\\sarah\\anaconda3\\envs\\test\\lib\\site-packages (from ipython>=6.1.0->ipywidgets) (0.18.1)\n",
      "Requirement already satisfied: pickleshare in c:\\users\\sarah\\anaconda3\\envs\\test\\lib\\site-packages (from ipython>=6.1.0->ipywidgets) (0.7.5)\n",
      "Requirement already satisfied: stack-data in c:\\users\\sarah\\anaconda3\\envs\\test\\lib\\site-packages (from ipython>=6.1.0->ipywidgets) (0.2.0)\n",
      "Requirement already satisfied: pygments>=2.4.0 in c:\\users\\sarah\\anaconda3\\envs\\test\\lib\\site-packages (from ipython>=6.1.0->ipywidgets) (2.11.2)\n",
      "Requirement already satisfied: prompt-toolkit!=3.0.0,!=3.0.1,<3.1.0,>=2.0.0 in c:\\users\\sarah\\anaconda3\\envs\\test\\lib\\site-packages (from ipython>=6.1.0->ipywidgets) (3.0.20)\n",
      "Requirement already satisfied: decorator in c:\\users\\sarah\\anaconda3\\envs\\test\\lib\\site-packages (from ipython>=6.1.0->ipywidgets) (5.1.1)\n",
      "Requirement already satisfied: parso<0.9.0,>=0.8.0 in c:\\users\\sarah\\anaconda3\\envs\\test\\lib\\site-packages (from jedi>=0.16->ipython>=6.1.0->ipywidgets) (0.8.3)\n",
      "Requirement already satisfied: entrypoints in c:\\users\\sarah\\anaconda3\\envs\\test\\lib\\site-packages (from jupyter-client>=6.1.12->ipykernel>=4.5.1->ipywidgets) (0.4)\n",
      "Requirement already satisfied: jupyter-core>=4.9.2 in c:\\users\\sarah\\anaconda3\\envs\\test\\lib\\site-packages (from jupyter-client>=6.1.12->ipykernel>=4.5.1->ipywidgets) (4.11.1)\n",
      "Requirement already satisfied: python-dateutil>=2.8.2 in c:\\users\\sarah\\anaconda3\\envs\\test\\lib\\site-packages (from jupyter-client>=6.1.12->ipykernel>=4.5.1->ipywidgets) (2.8.2)\n",
      "Requirement already satisfied: wcwidth in c:\\users\\sarah\\anaconda3\\envs\\test\\lib\\site-packages (from prompt-toolkit!=3.0.0,!=3.0.1,<3.1.0,>=2.0.0->ipython>=6.1.0->ipywidgets) (0.2.5)\n",
      "Requirement already satisfied: pyparsing!=3.0.5,>=2.0.2 in c:\\users\\sarah\\anaconda3\\envs\\test\\lib\\site-packages (from packaging->ipykernel>=4.5.1->ipywidgets) (3.0.9)\n",
      "Requirement already satisfied: pure-eval in c:\\users\\sarah\\anaconda3\\envs\\test\\lib\\site-packages (from stack-data->ipython>=6.1.0->ipywidgets) (0.2.2)\n",
      "Requirement already satisfied: asttokens in c:\\users\\sarah\\anaconda3\\envs\\test\\lib\\site-packages (from stack-data->ipython>=6.1.0->ipywidgets) (2.0.5)\n",
      "Requirement already satisfied: executing in c:\\users\\sarah\\anaconda3\\envs\\test\\lib\\site-packages (from stack-data->ipython>=6.1.0->ipywidgets) (0.8.3)\n",
      "Requirement already satisfied: pywin32>=1.0 in c:\\users\\sarah\\anaconda3\\envs\\test\\lib\\site-packages (from jupyter-core>=4.9.2->jupyter-client>=6.1.12->ipykernel>=4.5.1->ipywidgets) (302)\n",
      "Requirement already satisfied: six>=1.5 in c:\\users\\sarah\\anaconda3\\envs\\test\\lib\\site-packages (from python-dateutil>=2.8.2->jupyter-client>=6.1.12->ipykernel>=4.5.1->ipywidgets) (1.16.0)\n"
     ]
    }
   ],
   "source": [
    "pip install -U ipywidgets"
   ]
  },
  {
   "cell_type": "code",
   "execution_count": 4,
   "id": "8cd78969",
   "metadata": {},
   "outputs": [
    {
     "name": "stdout",
     "output_type": "stream",
     "text": [
      "Requirement already satisfied: seaborn in c:\\users\\sarah\\anaconda3\\envs\\test\\lib\\site-packages (0.12.0)\n",
      "Requirement already satisfied: matplotlib>=3.1 in c:\\users\\sarah\\anaconda3\\envs\\test\\lib\\site-packages (from seaborn) (3.6.0)\n",
      "Requirement already satisfied: pandas>=0.25 in c:\\users\\sarah\\anaconda3\\envs\\test\\lib\\site-packages (from seaborn) (1.5.0)\n",
      "Requirement already satisfied: numpy>=1.17 in c:\\users\\sarah\\anaconda3\\envs\\test\\lib\\site-packages (from seaborn) (1.23.3)\n",
      "Requirement already satisfied: python-dateutil>=2.7 in c:\\users\\sarah\\anaconda3\\envs\\test\\lib\\site-packages (from matplotlib>=3.1->seaborn) (2.8.2)\n",
      "Requirement already satisfied: pillow>=6.2.0 in c:\\users\\sarah\\anaconda3\\envs\\test\\lib\\site-packages (from matplotlib>=3.1->seaborn) (9.2.0)\n",
      "Requirement already satisfied: packaging>=20.0 in c:\\users\\sarah\\anaconda3\\envs\\test\\lib\\site-packages (from matplotlib>=3.1->seaborn) (21.3)\n",
      "Requirement already satisfied: contourpy>=1.0.1 in c:\\users\\sarah\\anaconda3\\envs\\test\\lib\\site-packages (from matplotlib>=3.1->seaborn) (1.0.5)\n",
      "Requirement already satisfied: kiwisolver>=1.0.1 in c:\\users\\sarah\\anaconda3\\envs\\test\\lib\\site-packages (from matplotlib>=3.1->seaborn) (1.4.4)\n",
      "Requirement already satisfied: cycler>=0.10 in c:\\users\\sarah\\anaconda3\\envs\\test\\lib\\site-packages (from matplotlib>=3.1->seaborn) (0.11.0)\n",
      "Requirement already satisfied: pyparsing>=2.2.1 in c:\\users\\sarah\\anaconda3\\envs\\test\\lib\\site-packages (from matplotlib>=3.1->seaborn) (3.0.9)\n",
      "Requirement already satisfied: fonttools>=4.22.0 in c:\\users\\sarah\\anaconda3\\envs\\test\\lib\\site-packages (from matplotlib>=3.1->seaborn) (4.37.4)\n",
      "Requirement already satisfied: pytz>=2020.1 in c:\\users\\sarah\\anaconda3\\envs\\test\\lib\\site-packages (from pandas>=0.25->seaborn) (2022.4)\n",
      "Requirement already satisfied: six>=1.5 in c:\\users\\sarah\\anaconda3\\envs\\test\\lib\\site-packages (from python-dateutil>=2.7->matplotlib>=3.1->seaborn) (1.16.0)\n",
      "Note: you may need to restart the kernel to use updated packages.\n"
     ]
    }
   ],
   "source": [
    "pip install -U seaborn"
   ]
  },
  {
   "cell_type": "code",
   "execution_count": 5,
   "id": "523398dc",
   "metadata": {},
   "outputs": [
    {
     "name": "stdout",
     "output_type": "stream",
     "text": [
      "Requirement already satisfied: spacy in c:\\users\\sarah\\anaconda3\\envs\\test\\lib\\site-packages (3.4.1)\n",
      "Requirement already satisfied: requests<3.0.0,>=2.13.0 in c:\\users\\sarah\\anaconda3\\envs\\test\\lib\\site-packages (from spacy) (2.28.1)\n",
      "Requirement already satisfied: setuptools in c:\\users\\sarah\\anaconda3\\envs\\test\\lib\\site-packages (from spacy) (63.4.1)\n",
      "Requirement already satisfied: preshed<3.1.0,>=3.0.2 in c:\\users\\sarah\\anaconda3\\envs\\test\\lib\\site-packages (from spacy) (3.0.7)\n",
      "Requirement already satisfied: pydantic!=1.8,!=1.8.1,<1.10.0,>=1.7.4 in c:\\users\\sarah\\anaconda3\\envs\\test\\lib\\site-packages (from spacy) (1.9.2)\n",
      "Requirement already satisfied: murmurhash<1.1.0,>=0.28.0 in c:\\users\\sarah\\anaconda3\\envs\\test\\lib\\site-packages (from spacy) (1.0.8)\n",
      "Requirement already satisfied: numpy>=1.15.0 in c:\\users\\sarah\\anaconda3\\envs\\test\\lib\\site-packages (from spacy) (1.23.3)\n",
      "Requirement already satisfied: tqdm<5.0.0,>=4.38.0 in c:\\users\\sarah\\appdata\\roaming\\python\\python39\\site-packages (from spacy) (4.64.1)\n",
      "Requirement already satisfied: catalogue<2.1.0,>=2.0.6 in c:\\users\\sarah\\anaconda3\\envs\\test\\lib\\site-packages (from spacy) (2.0.8)\n",
      "Requirement already satisfied: typer<0.5.0,>=0.3.0 in c:\\users\\sarah\\anaconda3\\envs\\test\\lib\\site-packages (from spacy) (0.4.2)\n",
      "Requirement already satisfied: pathy>=0.3.5 in c:\\users\\sarah\\anaconda3\\envs\\test\\lib\\site-packages (from spacy) (0.6.2)\n",
      "Requirement already satisfied: packaging>=20.0 in c:\\users\\sarah\\anaconda3\\envs\\test\\lib\\site-packages (from spacy) (21.3)\n",
      "Requirement already satisfied: srsly<3.0.0,>=2.4.3 in c:\\users\\sarah\\anaconda3\\envs\\test\\lib\\site-packages (from spacy) (2.4.4)\n",
      "Requirement already satisfied: langcodes<4.0.0,>=3.2.0 in c:\\users\\sarah\\anaconda3\\envs\\test\\lib\\site-packages (from spacy) (3.3.0)\n",
      "Requirement already satisfied: cymem<2.1.0,>=2.0.2 in c:\\users\\sarah\\anaconda3\\envs\\test\\lib\\site-packages (from spacy) (2.0.6)\n",
      "Requirement already satisfied: thinc<8.2.0,>=8.1.0 in c:\\users\\sarah\\anaconda3\\envs\\test\\lib\\site-packages (from spacy) (8.1.2)\n",
      "Requirement already satisfied: spacy-loggers<2.0.0,>=1.0.0 in c:\\users\\sarah\\anaconda3\\envs\\test\\lib\\site-packages (from spacy) (1.0.3)\n",
      "Requirement already satisfied: jinja2 in c:\\users\\sarah\\anaconda3\\envs\\test\\lib\\site-packages (from spacy) (3.0.3)\n",
      "Requirement already satisfied: wasabi<1.1.0,>=0.9.1 in c:\\users\\sarah\\anaconda3\\envs\\test\\lib\\site-packages (from spacy) (0.10.1)\n",
      "Requirement already satisfied: spacy-legacy<3.1.0,>=3.0.9 in c:\\users\\sarah\\anaconda3\\envs\\test\\lib\\site-packages (from spacy) (3.0.10)\n",
      "Requirement already satisfied: pyparsing!=3.0.5,>=2.0.2 in c:\\users\\sarah\\anaconda3\\envs\\test\\lib\\site-packages (from packaging>=20.0->spacy) (3.0.9)\n",
      "Requirement already satisfied: smart-open<6.0.0,>=5.2.1 in c:\\users\\sarah\\anaconda3\\envs\\test\\lib\\site-packages (from pathy>=0.3.5->spacy) (5.2.1)\n",
      "Requirement already satisfied: typing-extensions>=3.7.4.3 in c:\\users\\sarah\\anaconda3\\envs\\test\\lib\\site-packages (from pydantic!=1.8,!=1.8.1,<1.10.0,>=1.7.4->spacy) (4.3.0)\n",
      "Requirement already satisfied: idna<4,>=2.5 in c:\\users\\sarah\\anaconda3\\envs\\test\\lib\\site-packages (from requests<3.0.0,>=2.13.0->spacy) (3.4)\n",
      "Requirement already satisfied: certifi>=2017.4.17 in c:\\users\\sarah\\anaconda3\\envs\\test\\lib\\site-packages (from requests<3.0.0,>=2.13.0->spacy) (2022.9.14)\n",
      "Requirement already satisfied: charset-normalizer<3,>=2 in c:\\users\\sarah\\anaconda3\\envs\\test\\lib\\site-packages (from requests<3.0.0,>=2.13.0->spacy) (2.1.1)\n",
      "Requirement already satisfied: urllib3<1.27,>=1.21.1 in c:\\users\\sarah\\anaconda3\\envs\\test\\lib\\site-packages (from requests<3.0.0,>=2.13.0->spacy) (1.26.12)\n",
      "Requirement already satisfied: blis<0.8.0,>=0.7.8 in c:\\users\\sarah\\anaconda3\\envs\\test\\lib\\site-packages (from thinc<8.2.0,>=8.1.0->spacy) (0.7.8)\n",
      "Requirement already satisfied: confection<1.0.0,>=0.0.1 in c:\\users\\sarah\\anaconda3\\envs\\test\\lib\\site-packages (from thinc<8.2.0,>=8.1.0->spacy) (0.0.2)\n",
      "Requirement already satisfied: colorama in c:\\users\\sarah\\anaconda3\\envs\\test\\lib\\site-packages (from tqdm<5.0.0,>=4.38.0->spacy) (0.4.5)\n",
      "Requirement already satisfied: click<9.0.0,>=7.1.1 in c:\\users\\sarah\\appdata\\roaming\\python\\python39\\site-packages (from typer<0.5.0,>=0.3.0->spacy) (8.1.3)\n",
      "Requirement already satisfied: MarkupSafe>=2.0 in c:\\users\\sarah\\anaconda3\\envs\\test\\lib\\site-packages (from jinja2->spacy) (2.1.1)\n",
      "Note: you may need to restart the kernel to use updated packages.\n"
     ]
    }
   ],
   "source": [
    "pip install -U spacy"
   ]
  },
  {
   "cell_type": "code",
   "execution_count": 6,
   "id": "ee422c8d",
   "metadata": {},
   "outputs": [
    {
     "name": "stdout",
     "output_type": "stream",
     "text": [
      "Requirement already satisfied: wordcloud in c:\\users\\sarah\\anaconda3\\envs\\test\\lib\\site-packages (1.8.2.2)\n",
      "Requirement already satisfied: pillow in c:\\users\\sarah\\anaconda3\\envs\\test\\lib\\site-packages (from wordcloud) (9.2.0)\n",
      "Requirement already satisfied: matplotlib in c:\\users\\sarah\\anaconda3\\envs\\test\\lib\\site-packages (from wordcloud) (3.6.0)\n",
      "Requirement already satisfied: numpy>=1.6.1 in c:\\users\\sarah\\anaconda3\\envs\\test\\lib\\site-packages (from wordcloud) (1.23.3)\n",
      "Requirement already satisfied: cycler>=0.10 in c:\\users\\sarah\\anaconda3\\envs\\test\\lib\\site-packages (from matplotlib->wordcloud) (0.11.0)\n",
      "Requirement already satisfied: pyparsing>=2.2.1 in c:\\users\\sarah\\anaconda3\\envs\\test\\lib\\site-packages (from matplotlib->wordcloud) (3.0.9)\n",
      "Requirement already satisfied: contourpy>=1.0.1 in c:\\users\\sarah\\anaconda3\\envs\\test\\lib\\site-packages (from matplotlib->wordcloud) (1.0.5)\n",
      "Requirement already satisfied: kiwisolver>=1.0.1 in c:\\users\\sarah\\anaconda3\\envs\\test\\lib\\site-packages (from matplotlib->wordcloud) (1.4.4)\n",
      "Requirement already satisfied: python-dateutil>=2.7 in c:\\users\\sarah\\anaconda3\\envs\\test\\lib\\site-packages (from matplotlib->wordcloud) (2.8.2)\n",
      "Requirement already satisfied: packaging>=20.0 in c:\\users\\sarah\\anaconda3\\envs\\test\\lib\\site-packages (from matplotlib->wordcloud) (21.3)\n",
      "Requirement already satisfied: fonttools>=4.22.0 in c:\\users\\sarah\\anaconda3\\envs\\test\\lib\\site-packages (from matplotlib->wordcloud) (4.37.4)\n",
      "Requirement already satisfied: six>=1.5 in c:\\users\\sarah\\anaconda3\\envs\\test\\lib\\site-packages (from python-dateutil>=2.7->matplotlib->wordcloud) (1.16.0)\n",
      "Note: you may need to restart the kernel to use updated packages.\n"
     ]
    }
   ],
   "source": [
    "pip install -U wordcloud"
   ]
  },
  {
   "cell_type": "code",
   "execution_count": 7,
   "id": "cf47d4fe",
   "metadata": {},
   "outputs": [
    {
     "name": "stdout",
     "output_type": "stream",
     "text": [
      "Requirement already satisfied: youtube-comment-downloader in c:\\users\\sarah\\anaconda3\\envs\\test\\lib\\site-packages (0.1.67)\n",
      "Requirement already satisfied: requests in c:\\users\\sarah\\anaconda3\\envs\\test\\lib\\site-packages (from youtube-comment-downloader) (2.28.1)\n",
      "Requirement already satisfied: dateparser in c:\\users\\sarah\\anaconda3\\envs\\test\\lib\\site-packages (from youtube-comment-downloader) (1.1.1)\n",
      "Requirement already satisfied: regex!=2019.02.19,!=2021.8.27,<2022.3.15 in c:\\users\\sarah\\anaconda3\\envs\\test\\lib\\site-packages (from dateparser->youtube-comment-downloader) (2022.3.2)\n",
      "Requirement already satisfied: pytz in c:\\users\\sarah\\anaconda3\\envs\\test\\lib\\site-packages (from dateparser->youtube-comment-downloader) (2022.4)\n",
      "Requirement already satisfied: python-dateutil in c:\\users\\sarah\\anaconda3\\envs\\test\\lib\\site-packages (from dateparser->youtube-comment-downloader) (2.8.2)\n",
      "Requirement already satisfied: tzlocal in c:\\users\\sarah\\anaconda3\\envs\\test\\lib\\site-packages (from dateparser->youtube-comment-downloader) (4.2)\n",
      "Requirement already satisfied: certifi>=2017.4.17 in c:\\users\\sarah\\anaconda3\\envs\\test\\lib\\site-packages (from requests->youtube-comment-downloader) (2022.9.14)\n",
      "Requirement already satisfied: charset-normalizer<3,>=2 in c:\\users\\sarah\\anaconda3\\envs\\test\\lib\\site-packages (from requests->youtube-comment-downloader) (2.1.1)\n",
      "Requirement already satisfied: urllib3<1.27,>=1.21.1 in c:\\users\\sarah\\anaconda3\\envs\\test\\lib\\site-packages (from requests->youtube-comment-downloader) (1.26.12)\n",
      "Requirement already satisfied: idna<4,>=2.5 in c:\\users\\sarah\\anaconda3\\envs\\test\\lib\\site-packages (from requests->youtube-comment-downloader) (3.4)\n",
      "Requirement already satisfied: six>=1.5 in c:\\users\\sarah\\anaconda3\\envs\\test\\lib\\site-packages (from python-dateutil->dateparser->youtube-comment-downloader) (1.16.0)\n",
      "Requirement already satisfied: tzdata in c:\\users\\sarah\\anaconda3\\envs\\test\\lib\\site-packages (from tzlocal->dateparser->youtube-comment-downloader) (2022.4)\n",
      "Requirement already satisfied: pytz-deprecation-shim in c:\\users\\sarah\\anaconda3\\envs\\test\\lib\\site-packages (from tzlocal->dateparser->youtube-comment-downloader) (0.1.0.post0)\n",
      "Note: you may need to restart the kernel to use updated packages.\n"
     ]
    }
   ],
   "source": [
    "pip install -U youtube-comment-downloader"
   ]
  },
  {
   "cell_type": "code",
   "execution_count": 8,
   "id": "8fdb1ac5",
   "metadata": {},
   "outputs": [
    {
     "name": "stdout",
     "output_type": "stream",
     "text": [
      "Requirement already satisfied: numpy in c:\\users\\sarah\\anaconda3\\envs\\test\\lib\\site-packages (1.23.3)\n",
      "Note: you may need to restart the kernel to use updated packages.\n"
     ]
    }
   ],
   "source": [
    "pip install -U numpy"
   ]
  },
  {
   "cell_type": "markdown",
   "id": "a3224bc7",
   "metadata": {},
   "source": [
    "If the installation is successful, the cell below will not produce an error."
   ]
  },
  {
   "cell_type": "code",
   "execution_count": 3,
   "id": "59171fda",
   "metadata": {},
   "outputs": [
    {
     "name": "stdout",
     "output_type": "stream",
     "text": [
      "***** Success *****\n"
     ]
    },
    {
     "name": "stderr",
     "output_type": "stream",
     "text": [
      "[nltk_data] Downloading package vader_lexicon to\n",
      "[nltk_data]     C:\\Users\\sarah\\AppData\\Roaming\\nltk_data...\n",
      "[nltk_data]   Package vader_lexicon is already up-to-date!\n",
      "[nltk_data] Downloading package punkt to\n",
      "[nltk_data]     C:\\Users\\sarah\\AppData\\Roaming\\nltk_data...\n",
      "[nltk_data]   Package punkt is already up-to-date!\n",
      "[nltk_data] Downloading package wordnet to\n",
      "[nltk_data]     C:\\Users\\sarah\\AppData\\Roaming\\nltk_data...\n",
      "[nltk_data]   Package wordnet is already up-to-date!\n",
      "[nltk_data] Downloading package stopwords to\n",
      "[nltk_data]     C:\\Users\\sarah\\AppData\\Roaming\\nltk_data...\n",
      "[nltk_data]   Package stopwords is already up-to-date!\n"
     ]
    }
   ],
   "source": [
    "# Importing Tools\n",
    "import warnings\n",
    "import pandas as pd\n",
    "from numba import jit, cuda\n",
    "import re\n",
    "from youtube_comment_downloader import *\n",
    "import pickle\n",
    "import numpy as np\n",
    "from collections import Counter\n",
    "\n",
    "# Visualization packages\n",
    "import matplotlib.pyplot as plt\n",
    "import seaborn as sns\n",
    "from wordcloud import WordCloud\n",
    "from ipywidgets import *\n",
    "from nltk import sent_tokenize, word_tokenize\n",
    "from nltk.stem import WordNetLemmatizer\n",
    "from wordcloud import STOPWORDS\n",
    "%matplotlib inline\n",
    "\n",
    " \n",
    "\n",
    "# Machine learning packages\n",
    "import nltk\n",
    "from nltk.sentiment.vader import SentimentIntensityAnalyzer\n",
    "from sklearn.feature_extraction.text import TfidfVectorizer\n",
    "from sklearn.linear_model import LogisticRegression\n",
    "from nltk.stem import PorterStemmer\n",
    "import spacy\n",
    "\n",
    "dl = nltk.download('vader_lexicon')\n",
    "nltk.download('punkt')\n",
    "nltk.download('wordnet')\n",
    "nltk.download('stopwords')\n",
    "\n",
    "\n",
    "print('***** Success *****')"
   ]
  },
  {
   "cell_type": "code",
   "execution_count": null,
   "id": "9f7549f0",
   "metadata": {},
   "outputs": [],
   "source": []
  }
 ],
 "metadata": {
  "kernelspec": {
   "display_name": "Python 3.10.6 ('ToxicCommentEnv')",
   "language": "python",
   "name": "python3"
  },
  "language_info": {
   "codemirror_mode": {
    "name": "ipython",
    "version": 3
   },
   "file_extension": ".py",
   "mimetype": "text/x-python",
   "name": "python",
   "nbconvert_exporter": "python",
   "pygments_lexer": "ipython3",
   "version": "3.10.6"
  },
  "vscode": {
   "interpreter": {
    "hash": "41580ad955a486e98d8fd5c235d14a3bbc54a23f106b098eee5b5783447a7c39"
   }
  }
 },
 "nbformat": 4,
 "nbformat_minor": 5
}
