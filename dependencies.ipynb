{
 "cells": [
  {
   "cell_type": "markdown",
   "id": "3bdcae6f",
   "metadata": {},
   "source": [
    "# Installing Packages"
   ]
  },
  {
   "cell_type": "code",
   "execution_count": null,
   "id": "2a73618e-a934-4c49-b323-ec4066c0c0fb",
   "metadata": {},
   "outputs": [],
   "source": [
    "pip install -U imblearn"
   ]
  },
  {
   "cell_type": "code",
   "execution_count": null,
   "id": "61059dfe-61e1-4306-8e79-29cb1cc5f9b9",
   "metadata": {},
   "outputs": [],
   "source": [
    "pip install -U voila"
   ]
  },
  {
   "cell_type": "code",
   "execution_count": null,
   "id": "bd29a321-e8c0-4270-b31f-ac91590ddff9",
   "metadata": {},
   "outputs": [],
   "source": [
    "pip install -U selenium"
   ]
  },
  {
   "cell_type": "code",
   "execution_count": null,
   "id": "329cd522-3704-4829-b365-681ce4b6bacf",
   "metadata": {},
   "outputs": [],
   "source": [
    "pip install -U plotly"
   ]
  },
  {
   "cell_type": "code",
   "execution_count": null,
   "id": "d6ba79e6",
   "metadata": {
    "ExecuteTime": {
     "end_time": "2022-10-11T00:29:44.945681Z",
     "start_time": "2022-10-11T00:29:02.149378Z"
    }
   },
   "outputs": [],
   "source": [
    "pip install -U scikit-learn"
   ]
  },
  {
   "cell_type": "code",
   "execution_count": null,
   "id": "1da6cc3f",
   "metadata": {
    "ExecuteTime": {
     "end_time": "2022-10-11T00:29:49.670710Z",
     "start_time": "2022-10-11T00:29:44.949682Z"
    }
   },
   "outputs": [],
   "source": [
    "pip install -U nltk"
   ]
  },
  {
   "cell_type": "code",
   "execution_count": null,
   "id": "e8a14f19",
   "metadata": {
    "ExecuteTime": {
     "end_time": "2022-10-11T00:29:54.197712Z",
     "start_time": "2022-10-11T00:29:49.673714Z"
    }
   },
   "outputs": [],
   "source": [
    "pip install -U ipywidgets"
   ]
  },
  {
   "cell_type": "code",
   "execution_count": null,
   "id": "8cd78969",
   "metadata": {
    "ExecuteTime": {
     "end_time": "2022-10-11T00:29:58.357710Z",
     "start_time": "2022-10-11T00:29:54.203713Z"
    }
   },
   "outputs": [],
   "source": [
    "pip install -U seaborn"
   ]
  },
  {
   "cell_type": "code",
   "execution_count": null,
   "id": "523398dc",
   "metadata": {
    "ExecuteTime": {
     "end_time": "2022-10-11T00:30:19.453821Z",
     "start_time": "2022-10-11T00:29:58.360713Z"
    }
   },
   "outputs": [],
   "source": [
    "pip install -U spacy"
   ]
  },
  {
   "cell_type": "code",
   "execution_count": null,
   "id": "ee422c8d",
   "metadata": {
    "ExecuteTime": {
     "end_time": "2022-10-11T00:30:23.921822Z",
     "start_time": "2022-10-11T00:30:19.458825Z"
    }
   },
   "outputs": [],
   "source": [
    "pip install -U wordcloud"
   ]
  },
  {
   "cell_type": "code",
   "execution_count": null,
   "id": "f2741a7a-4ea4-4d6b-acb4-e2a7d5cc0995",
   "metadata": {
    "ExecuteTime": {
     "end_time": "2022-10-11T00:30:32.735820Z",
     "start_time": "2022-10-11T00:30:23.925824Z"
    }
   },
   "outputs": [],
   "source": [
    "# Might not need later"
   ]
  },
  {
   "cell_type": "code",
   "execution_count": null,
   "id": "79f0e169-8303-479a-8e8b-6a45795a6d7a",
   "metadata": {
    "ExecuteTime": {
     "end_time": "2022-10-11T00:30:32.735820Z",
     "start_time": "2022-10-11T00:30:23.925824Z"
    }
   },
   "outputs": [],
   "source": [
    "pip install -U youtube-comment-downloader"
   ]
  },
  {
   "cell_type": "code",
   "execution_count": null,
   "id": "8fdb1ac5",
   "metadata": {
    "ExecuteTime": {
     "end_time": "2022-10-11T00:30:35.866862Z",
     "start_time": "2022-10-11T00:30:32.738823Z"
    }
   },
   "outputs": [],
   "source": [
    "pip install -U numpy"
   ]
  },
  {
   "cell_type": "code",
   "execution_count": null,
   "id": "a160a13b",
   "metadata": {
    "ExecuteTime": {
     "end_time": "2022-10-11T00:33:58.548483Z",
     "start_time": "2022-10-11T00:33:41.737387Z"
    }
   },
   "outputs": [],
   "source": [
    "pip install -U numba"
   ]
  },
  {
   "cell_type": "markdown",
   "id": "a3224bc7",
   "metadata": {},
   "source": [
    "If the installation is successful, the cell below will not produce an error."
   ]
  },
  {
   "cell_type": "code",
   "execution_count": null,
   "id": "59171fda",
   "metadata": {
    "ExecuteTime": {
     "end_time": "2022-10-11T00:34:17.679285Z",
     "start_time": "2022-10-11T00:34:07.809185Z"
    }
   },
   "outputs": [],
   "source": [
    "# Importing Tools\n",
    "import warnings\n",
    "import pandas as pd\n",
    "from numba import jit, cuda\n",
    "import re\n",
    "from youtube_comment_downloader import *\n",
    "import pickle\n",
    "import numpy as np\n",
    "from collections import Counter\n",
    "\n",
    "# Visualization packages\n",
    "import matplotlib.pyplot as plt\n",
    "import seaborn as sns\n",
    "from wordcloud import WordCloud\n",
    "from ipywidgets import *\n",
    "from nltk import sent_tokenize, word_tokenize\n",
    "from nltk.stem import WordNetLemmatizer\n",
    "from wordcloud import STOPWORDS\n",
    "%matplotlib inline\n",
    "\n",
    " \n",
    "\n",
    "# Machine learning packages\n",
    "import nltk\n",
    "from nltk.sentiment.vader import SentimentIntensityAnalyzer\n",
    "from sklearn.feature_extraction.text import TfidfVectorizer\n",
    "from sklearn.linear_model import LogisticRegression\n",
    "from nltk.stem import PorterStemmer\n",
    "import spacy\n",
    "\n",
    "dl = nltk.download('vader_lexicon')\n",
    "nltk.download('punkt')\n",
    "nltk.download('wordnet')\n",
    "nltk.download('stopwords')\n",
    "\n",
    "\n",
    "print('***** Success *****')"
   ]
  },
  {
   "cell_type": "code",
   "execution_count": null,
   "id": "9f7549f0",
   "metadata": {},
   "outputs": [],
   "source": []
  }
 ],
 "metadata": {
  "kernelspec": {
   "display_name": "Python 3 (ipykernel)",
   "language": "python",
   "name": "python3"
  },
  "language_info": {
   "codemirror_mode": {
    "name": "ipython",
    "version": 3
   },
   "file_extension": ".py",
   "mimetype": "text/x-python",
   "name": "python",
   "nbconvert_exporter": "python",
   "pygments_lexer": "ipython3",
   "version": "3.9.13"
  },
  "toc": {
   "base_numbering": 1,
   "nav_menu": {},
   "number_sections": true,
   "sideBar": true,
   "skip_h1_title": false,
   "title_cell": "Table of Contents",
   "title_sidebar": "Contents",
   "toc_cell": false,
   "toc_position": {},
   "toc_section_display": true,
   "toc_window_display": false
  },
  "varInspector": {
   "cols": {
    "lenName": 16,
    "lenType": 16,
    "lenVar": 40
   },
   "kernels_config": {
    "python": {
     "delete_cmd_postfix": "",
     "delete_cmd_prefix": "del ",
     "library": "var_list.py",
     "varRefreshCmd": "print(var_dic_list())"
    },
    "r": {
     "delete_cmd_postfix": ") ",
     "delete_cmd_prefix": "rm(",
     "library": "var_list.r",
     "varRefreshCmd": "cat(var_dic_list()) "
    }
   },
   "types_to_exclude": [
    "module",
    "function",
    "builtin_function_or_method",
    "instance",
    "_Feature"
   ],
   "window_display": false
  },
  "vscode": {
   "interpreter": {
    "hash": "41580ad955a486e98d8fd5c235d14a3bbc54a23f106b098eee5b5783447a7c39"
   }
  }
 },
 "nbformat": 4,
 "nbformat_minor": 5
}
