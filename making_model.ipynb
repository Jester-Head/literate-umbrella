{
 "cells": [
  {
   "cell_type": "markdown",
   "metadata": {},
   "source": [
    "# Toxic Comment Classification\n",
    "You may be familiar with the saying, \"sticks and stones may break my bones (but words can never hurt me).\" With the evolution of social networking, that saying has become obsolete.\n",
    "\n",
    "For many, the internet is the primary mode of connecting with others and an outlet for people to express themselves. Platforms such as YouTube enables creative individuals to turn their ability to entertain others into a career. Unfortunately, this makes them a prime target for people who enjoy verbally abusing others. Being bombarded with toxic comments can be detrimental to one's health, and mitigating online harassment is a massive undertaking. For an individual to moderate comments manually isn't feasible. This project aims to find a machine-learning model capable of discovering toxic comments that will assist content creators in improving their communities."
   ]
  },
  {
   "cell_type": "markdown",
   "metadata": {},
   "source": [
    "# Importing Tools"
   ]
  },
  {
   "cell_type": "code",
   "execution_count": 4,
   "metadata": {},
   "outputs": [],
   "source": [
    "import pandas as pd\n",
    "import re\n",
    "import imblearn\n",
    "from imblearn.over_sampling import SMOTE\n",
    "from sklearn.preprocessing import Normalizer\n",
    "import warnings\n",
    "import pickle\n",
    "import re\n",
    "import nltk\n",
    "from sklearn.feature_extraction.text import TfidfVectorizer\n",
    "from sklearn.linear_model import LogisticRegression\n",
    "from sklearn.metrics import confusion_matrix, accuracy_score, precision_score, recall_score,\\\n",
    "f1_score, roc_auc_score, roc_curve, precision_recall_curve,classification_report,label_ranking_average_precision_score\n",
    "from sklearn.model_selection import train_test_split\n",
    "from sklearn import preprocessing\n",
    "from imblearn.over_sampling import RandomOverSampler\n",
    "from numba import jit, cuda\n",
    "import imblearn\n",
    "from nltk.sentiment import SentimentIntensityAnalyzer\n",
    "import seaborn as sns\n",
    "\n",
    "%matplotlib inline\n",
    "import matplotlib.pyplot as plt"
   ]
  },
  {
   "cell_type": "markdown",
   "metadata": {},
   "source": [
    "# Loading Data and Cleaning\n"
   ]
  },
  {
   "cell_type": "code",
   "execution_count": 19,
   "metadata": {},
   "outputs": [],
   "source": [
    "df = pd.read_csv(\"input/updated_train_data.csv\")"
   ]
  },
  {
   "cell_type": "code",
   "execution_count": 6,
   "metadata": {},
   "outputs": [],
   "source": [
    "# function to clean the text performin some simple regex pattern matching\n",
    "def apply_regex(corpus):\n",
    "    # removes numbers and words concatenated with numbers\n",
    "    corpus = corpus.apply(lambda x: re.sub(\"\\S*\\d\\S*\",\" \", x)) \n",
    "    # removes emails and mentions (words with @)\n",
    "    corpus = corpus.apply(lambda x: re.sub(\"\\S*@\\S*\\s?\",\" \", x))  \n",
    "    # removes hashtags (words with #)\n",
    "    corpus = corpus.apply(lambda x: re.sub(\"\\S*#\\S*\\s?\",\" \", x)) \n",
    "    # removes URLs\n",
    "    corpus = corpus.apply(lambda x: re.sub(r'http\\S+', ' ', x))\n",
    "    # keeps numbers and letters\n",
    "    corpus = corpus.apply(lambda x: re.sub(r'[^a-zA-Z0-9 ]', ' ',x))  \n",
    "    # replaces the ASCII '�' symbol with '8'\n",
    "    corpus = corpus.apply(lambda x: x.replace(u'\\ufffd', '8'))  \n",
    "    # removes multiple spaces\n",
    "    corpus = corpus.apply(lambda x: re.sub(' +', ' ', x))  \n",
    "    # removes newline chars\n",
    "    corpus = corpus.apply(lambda x: x.replace('\\n',' '))               \n",
    "    corpus = corpus.apply(lambda x: x.replace('\\r',' '))\n",
    "    return corpus"
   ]
  },
  {
   "cell_type": "code",
   "execution_count": 21,
   "metadata": {},
   "outputs": [
    {
     "data": {
      "text/html": [
       "<div>\n",
       "<style scoped>\n",
       "    .dataframe tbody tr th:only-of-type {\n",
       "        vertical-align: middle;\n",
       "    }\n",
       "\n",
       "    .dataframe tbody tr th {\n",
       "        vertical-align: top;\n",
       "    }\n",
       "\n",
       "    .dataframe thead th {\n",
       "        text-align: right;\n",
       "    }\n",
       "</style>\n",
       "<table border=\"1\" class=\"dataframe\">\n",
       "  <thead>\n",
       "    <tr style=\"text-align: right;\">\n",
       "      <th></th>\n",
       "      <th>id</th>\n",
       "      <th>comment_text</th>\n",
       "      <th>toxic</th>\n",
       "      <th>severe_toxic</th>\n",
       "      <th>obscene</th>\n",
       "      <th>threat</th>\n",
       "      <th>insult</th>\n",
       "      <th>identity_hate</th>\n",
       "      <th>neg</th>\n",
       "      <th>neu</th>\n",
       "      <th>pos</th>\n",
       "      <th>compound</th>\n",
       "      <th>sentiment</th>\n",
       "    </tr>\n",
       "  </thead>\n",
       "  <tbody>\n",
       "    <tr>\n",
       "      <th>0</th>\n",
       "      <td>0000997932d777bf</td>\n",
       "      <td>Explanation Why the edits made under my userna...</td>\n",
       "      <td>0</td>\n",
       "      <td>0</td>\n",
       "      <td>0</td>\n",
       "      <td>0</td>\n",
       "      <td>0</td>\n",
       "      <td>0</td>\n",
       "      <td>0.000</td>\n",
       "      <td>0.897</td>\n",
       "      <td>0.103</td>\n",
       "      <td>0.5574</td>\n",
       "      <td>positive</td>\n",
       "    </tr>\n",
       "    <tr>\n",
       "      <th>1</th>\n",
       "      <td>000103f0d9cfb60f</td>\n",
       "      <td>D aww He matches this background colour I m se...</td>\n",
       "      <td>0</td>\n",
       "      <td>0</td>\n",
       "      <td>0</td>\n",
       "      <td>0</td>\n",
       "      <td>0</td>\n",
       "      <td>0</td>\n",
       "      <td>0.099</td>\n",
       "      <td>0.743</td>\n",
       "      <td>0.158</td>\n",
       "      <td>0.2942</td>\n",
       "      <td>positive</td>\n",
       "    </tr>\n",
       "    <tr>\n",
       "      <th>2</th>\n",
       "      <td>000113f07ec002fd</td>\n",
       "      <td>Hey man I m really not trying to edit war It s...</td>\n",
       "      <td>0</td>\n",
       "      <td>0</td>\n",
       "      <td>0</td>\n",
       "      <td>0</td>\n",
       "      <td>0</td>\n",
       "      <td>0</td>\n",
       "      <td>0.083</td>\n",
       "      <td>0.849</td>\n",
       "      <td>0.068</td>\n",
       "      <td>-0.1779</td>\n",
       "      <td>negative</td>\n",
       "    </tr>\n",
       "    <tr>\n",
       "      <th>3</th>\n",
       "      <td>0001b41b1c6bb37e</td>\n",
       "      <td>More I can t make any real suggestions on imp...</td>\n",
       "      <td>0</td>\n",
       "      <td>0</td>\n",
       "      <td>0</td>\n",
       "      <td>0</td>\n",
       "      <td>0</td>\n",
       "      <td>0</td>\n",
       "      <td>0.022</td>\n",
       "      <td>0.916</td>\n",
       "      <td>0.062</td>\n",
       "      <td>0.5106</td>\n",
       "      <td>positive</td>\n",
       "    </tr>\n",
       "    <tr>\n",
       "      <th>4</th>\n",
       "      <td>0001d958c54c6e35</td>\n",
       "      <td>You sir are my hero Any chance you remember wh...</td>\n",
       "      <td>0</td>\n",
       "      <td>0</td>\n",
       "      <td>0</td>\n",
       "      <td>0</td>\n",
       "      <td>0</td>\n",
       "      <td>0</td>\n",
       "      <td>0.000</td>\n",
       "      <td>0.663</td>\n",
       "      <td>0.337</td>\n",
       "      <td>0.6808</td>\n",
       "      <td>positive</td>\n",
       "    </tr>\n",
       "  </tbody>\n",
       "</table>\n",
       "</div>"
      ],
      "text/plain": [
       "                 id                                       comment_text  toxic  \\\n",
       "0  0000997932d777bf  Explanation Why the edits made under my userna...      0   \n",
       "1  000103f0d9cfb60f  D aww He matches this background colour I m se...      0   \n",
       "2  000113f07ec002fd  Hey man I m really not trying to edit war It s...      0   \n",
       "3  0001b41b1c6bb37e   More I can t make any real suggestions on imp...      0   \n",
       "4  0001d958c54c6e35  You sir are my hero Any chance you remember wh...      0   \n",
       "\n",
       "   severe_toxic  obscene  threat  insult  identity_hate    neg    neu    pos  \\\n",
       "0             0        0       0       0              0  0.000  0.897  0.103   \n",
       "1             0        0       0       0              0  0.099  0.743  0.158   \n",
       "2             0        0       0       0              0  0.083  0.849  0.068   \n",
       "3             0        0       0       0              0  0.022  0.916  0.062   \n",
       "4             0        0       0       0              0  0.000  0.663  0.337   \n",
       "\n",
       "   compound sentiment  \n",
       "0    0.5574  positive  \n",
       "1    0.2942  positive  \n",
       "2   -0.1779  negative  \n",
       "3    0.5106  positive  \n",
       "4    0.6808  positive  "
      ]
     },
     "execution_count": 21,
     "metadata": {},
     "output_type": "execute_result"
    }
   ],
   "source": [
    "# apply the function and clean the data\n",
    "feature = \"comment_text\"\n",
    "df[feature] = apply_regex(df[feature])\n",
    "df.head()"
   ]
  },
  {
   "cell_type": "markdown",
   "metadata": {
    "tags": []
   },
   "source": [
    "# Sentiment Analysis"
   ]
  },
  {
   "cell_type": "markdown",
   "metadata": {},
   "source": [
    "The purpose of this section is to demonstrate the data modification process of the original set. It doesn't need to be executed."
   ]
  },
  {
   "cell_type": "code",
   "execution_count": 8,
   "metadata": {},
   "outputs": [],
   "source": [
    "#Importing orignal comment data\n",
    "# comm = pd.read_csv('./input/traindata/traindata.csv',encoding='utf8',error_bad_lines=False,index_col=False)"
   ]
  },
  {
   "cell_type": "code",
   "execution_count": 9,
   "metadata": {},
   "outputs": [],
   "source": [
    "sid = SentimentIntensityAnalyzer()"
   ]
  },
  {
   "cell_type": "code",
   "execution_count": 10,
   "metadata": {},
   "outputs": [],
   "source": [
    "def get_pol(df):\n",
    "    df['neg'] = df['comment_text'].apply(lambda comment_text:sid.polarity_scores(str(comment_text))['neg'])\n",
    "    df['neu'] = df['comment_text'].apply(lambda comment_text:sid.polarity_scores(str(comment_text))['neu'])\n",
    "    df['pos'] = df['comment_text'].apply(lambda comment_text:sid.polarity_scores(str(comment_text))['pos'])\n",
    "    df['compound'] = df['comment_text'].apply(lambda comment_text:sid.polarity_scores(str(comment_text))['compound'])\n",
    "    return df"
   ]
  },
  {
   "cell_type": "code",
   "execution_count": 11,
   "metadata": {},
   "outputs": [],
   "source": [
    "from numba import jit, cuda\n",
    "import numpy as np\n",
    "    \n",
    "# function optimized to run on gpu \n",
    "@jit(target_backend='cuda')    \n",
    "def sentiment_score(df):\n",
    "\tfor i,score in enumerate(df['compound']):\n",
    "\t\tif float(score) > 0:\n",
    "\t\t\tdf['sentiment'][i] = 'positive'\n",
    "\t\telif float(score) == 0.0:\n",
    "\t\t\tdf['sentiment'][i] = 'neutral'\n",
    "\t\telse:\n",
    "\t\t\tdf['sentiment'][i] ='negative'\n",
    "\treturn df"
   ]
  },
  {
   "cell_type": "code",
   "execution_count": 12,
   "metadata": {},
   "outputs": [],
   "source": [
    "# df = get_pol(comm)\n",
    "# df = sentiment_score(df)"
   ]
  },
  {
   "cell_type": "code",
   "execution_count": 42,
   "metadata": {},
   "outputs": [],
   "source": [
    "# filename = './input/traindata/updated_train_data.csv'  \n",
    "# df.to_csv(file_name, encoding='utf-8', index=False)"
   ]
  },
  {
   "cell_type": "markdown",
   "metadata": {
    "tags": []
   },
   "source": [
    "# Deriving Features"
   ]
  },
  {
   "cell_type": "markdown",
   "metadata": {},
   "source": [
    "## Toxicity Rating Scale\n",
    "The original data set assigned categories to toxic comments. To rate the toxicity of a statement, I've added the labels. For example, a comment considered severely toxic, obscene, threatening, insulting, and containing hate speech scores five on the rating scale.\n",
    "\n",
    "**Note**: If a comment falls into any toxic category, the column labeled 'toxic' will also be marked as true (1). So I ignored that column when finding the total score."
   ]
  },
  {
   "cell_type": "code",
   "execution_count": 37,
   "metadata": {},
   "outputs": [
    {
     "data": {
      "text/html": [
       "<div>\n",
       "<style scoped>\n",
       "    .dataframe tbody tr th:only-of-type {\n",
       "        vertical-align: middle;\n",
       "    }\n",
       "\n",
       "    .dataframe tbody tr th {\n",
       "        vertical-align: top;\n",
       "    }\n",
       "\n",
       "    .dataframe thead th {\n",
       "        text-align: right;\n",
       "    }\n",
       "</style>\n",
       "<table border=\"1\" class=\"dataframe\">\n",
       "  <thead>\n",
       "    <tr style=\"text-align: right;\">\n",
       "      <th></th>\n",
       "      <th>id</th>\n",
       "      <th>comment_text</th>\n",
       "      <th>toxic</th>\n",
       "      <th>severe_toxic</th>\n",
       "      <th>obscene</th>\n",
       "      <th>threat</th>\n",
       "      <th>insult</th>\n",
       "      <th>identity_hate</th>\n",
       "      <th>neg</th>\n",
       "      <th>neu</th>\n",
       "      <th>pos</th>\n",
       "      <th>compound</th>\n",
       "      <th>sentiment</th>\n",
       "      <th>score</th>\n",
       "    </tr>\n",
       "  </thead>\n",
       "  <tbody>\n",
       "    <tr>\n",
       "      <th>104616</th>\n",
       "      <td>2faba7b1b218dc8d</td>\n",
       "      <td>Unreliable source This does not meet WP RS An...</td>\n",
       "      <td>0.0</td>\n",
       "      <td>0.0</td>\n",
       "      <td>0.0</td>\n",
       "      <td>0.0</td>\n",
       "      <td>0.0</td>\n",
       "      <td>0.0</td>\n",
       "      <td>0.000</td>\n",
       "      <td>0.938</td>\n",
       "      <td>0.062</td>\n",
       "      <td>0.5106</td>\n",
       "      <td>positive</td>\n",
       "      <td>0</td>\n",
       "    </tr>\n",
       "    <tr>\n",
       "      <th>154956</th>\n",
       "      <td>b6c772fdc59f5853</td>\n",
       "      <td>UTC Ok I ve finished doing a considerable wri...</td>\n",
       "      <td>0.0</td>\n",
       "      <td>0.0</td>\n",
       "      <td>0.0</td>\n",
       "      <td>0.0</td>\n",
       "      <td>0.0</td>\n",
       "      <td>0.0</td>\n",
       "      <td>0.000</td>\n",
       "      <td>0.913</td>\n",
       "      <td>0.087</td>\n",
       "      <td>0.2960</td>\n",
       "      <td>positive</td>\n",
       "      <td>0</td>\n",
       "    </tr>\n",
       "    <tr>\n",
       "      <th>65269</th>\n",
       "      <td>aea5db1a96facdbe</td>\n",
       "      <td>THAT s not impersonating Malik Shabazz THIS is...</td>\n",
       "      <td>0.0</td>\n",
       "      <td>0.0</td>\n",
       "      <td>0.0</td>\n",
       "      <td>0.0</td>\n",
       "      <td>0.0</td>\n",
       "      <td>0.0</td>\n",
       "      <td>0.000</td>\n",
       "      <td>1.000</td>\n",
       "      <td>0.000</td>\n",
       "      <td>0.0000</td>\n",
       "      <td>neutral</td>\n",
       "      <td>0</td>\n",
       "    </tr>\n",
       "    <tr>\n",
       "      <th>130005</th>\n",
       "      <td>b77d92eb7c02ed8a</td>\n",
       "      <td>IAN THOMSON was warned about bringing that ex...</td>\n",
       "      <td>0.0</td>\n",
       "      <td>0.0</td>\n",
       "      <td>0.0</td>\n",
       "      <td>0.0</td>\n",
       "      <td>0.0</td>\n",
       "      <td>0.0</td>\n",
       "      <td>0.046</td>\n",
       "      <td>0.954</td>\n",
       "      <td>0.000</td>\n",
       "      <td>-0.1406</td>\n",
       "      <td>negative</td>\n",
       "      <td>0</td>\n",
       "    </tr>\n",
       "    <tr>\n",
       "      <th>152334</th>\n",
       "      <td>8bbac0b34f1790af</td>\n",
       "      <td>Ethnic identities In years or so most of the ...</td>\n",
       "      <td>0.0</td>\n",
       "      <td>0.0</td>\n",
       "      <td>0.0</td>\n",
       "      <td>0.0</td>\n",
       "      <td>0.0</td>\n",
       "      <td>0.0</td>\n",
       "      <td>0.133</td>\n",
       "      <td>0.790</td>\n",
       "      <td>0.077</td>\n",
       "      <td>-0.6885</td>\n",
       "      <td>negative</td>\n",
       "      <td>0</td>\n",
       "    </tr>\n",
       "  </tbody>\n",
       "</table>\n",
       "</div>"
      ],
      "text/plain": [
       "                      id                                       comment_text  \\\n",
       "104616  2faba7b1b218dc8d   Unreliable source This does not meet WP RS An...   \n",
       "154956  b6c772fdc59f5853   UTC Ok I ve finished doing a considerable wri...   \n",
       "65269   aea5db1a96facdbe  THAT s not impersonating Malik Shabazz THIS is...   \n",
       "130005  b77d92eb7c02ed8a   IAN THOMSON was warned about bringing that ex...   \n",
       "152334  8bbac0b34f1790af   Ethnic identities In years or so most of the ...   \n",
       "\n",
       "        toxic  severe_toxic  obscene  threat  insult  identity_hate    neg  \\\n",
       "104616    0.0           0.0      0.0     0.0     0.0            0.0  0.000   \n",
       "154956    0.0           0.0      0.0     0.0     0.0            0.0  0.000   \n",
       "65269     0.0           0.0      0.0     0.0     0.0            0.0  0.000   \n",
       "130005    0.0           0.0      0.0     0.0     0.0            0.0  0.046   \n",
       "152334    0.0           0.0      0.0     0.0     0.0            0.0  0.133   \n",
       "\n",
       "          neu    pos  compound sentiment  score  \n",
       "104616  0.938  0.062    0.5106  positive      0  \n",
       "154956  0.913  0.087    0.2960  positive      0  \n",
       "65269   1.000  0.000    0.0000   neutral      0  \n",
       "130005  0.954  0.000   -0.1406  negative      0  \n",
       "152334  0.790  0.077   -0.6885  negative      0  "
      ]
     },
     "execution_count": 37,
     "metadata": {},
     "output_type": "execute_result"
    }
   ],
   "source": [
    "col_list = ['severe_toxic','obscene','threat','insult','identity_hate']\n",
    "df['score'] = df[col_list].astype(int).sum(axis=1)\n",
    "df.sample(5)"
   ]
  },
  {
   "cell_type": "markdown",
   "metadata": {},
   "source": [
    "# EDA"
   ]
  },
  {
   "cell_type": "code",
   "execution_count": 40,
   "metadata": {},
   "outputs": [],
   "source": [
    "def toxic_score_dist(df):\n",
    "        order= range(6)\n",
    "        ax1 = sns.countplot(x = df[\"score\"],order=order)\n",
    "        plt.title('Distribution of Toxic Comments')\n",
    "        plt.xlabel('Toxicity Rating')\n",
    "        plt.ylabel('Count')\n",
    "        for container in ax1.containers:\n",
    "            plt.bar_label(container)\n",
    "        plt.show()"
   ]
  },
  {
   "cell_type": "code",
   "execution_count": 41,
   "metadata": {},
   "outputs": [
    {
     "data": {
      "image/png": "[encoded data removed]",
      "text/plain": [
       "<Figure size 640x480 with 1 Axes>"
      ]
     },
     "metadata": {},
     "output_type": "display_data"
    }
   ],
   "source": [
    "toxic_score_dist(df)"
   ]
  },
  {
   "cell_type": "code",
   "execution_count": 13,
   "metadata": {},
   "outputs": [],
   "source": [
    "def sentiment_dist(df):\n",
    "        order = ['negative','neutral','positive']\n",
    "        sns.countplot(x = df[\"sentiment\"],order = order)\n",
    "        plt.title('Distribution Sentiment')\n",
    "        plt.xlabel('Sentiment')\n",
    "        plt.ylabel('Count')\n",
    "        plt.show()"
   ]
  },
  {
   "cell_type": "code",
   "execution_count": 14,
   "metadata": {},
   "outputs": [
    {
     "data": {
      "image/png": "[encoded data removed]",
      "text/plain": [
       "<Figure size 640x480 with 1 Axes>"
      ]
     },
     "metadata": {},
     "output_type": "display_data"
    }
   ],
   "source": [
    "sentiment_dist(df)"
   ]
  },
  {
   "cell_type": "markdown",
   "metadata": {},
   "source": [
    "# Modeling"
   ]
  },
  {
   "cell_type": "markdown",
   "metadata": {},
   "source": [
    "## Combining Text Columns\n",
    "\n",
    "I combined the columns before encoding to evaluate both the sentiment and comment text.\n",
    "\n",
    "**Note**: I know now combining columns was not the correct way to do this. See lessons learned at the bottom. "
   ]
  },
  {
   "cell_type": "code",
   "execution_count": 15,
   "metadata": {},
   "outputs": [],
   "source": [
    "X = pd.DataFrame(df['sentiment'] +' '+ df['comment_text'])\n",
    "X = pd.DataFrame(df['comment_text'])\n",
    "X.columns = ['text']"
   ]
  },
  {
   "cell_type": "markdown",
   "metadata": {},
   "source": [
    "## Splitting and Encoding"
   ]
  },
  {
   "cell_type": "code",
   "execution_count": 16,
   "metadata": {},
   "outputs": [],
   "source": [
    "y = df[['score']]\n",
    "X_train,X_test,y_train,y_test = train_test_split(X['text'],y,random_state = 42)"
   ]
  },
  {
   "cell_type": "code",
   "execution_count": 17,
   "metadata": {},
   "outputs": [],
   "source": [
    "# encodin text into vectors\n",
    "tfid = TfidfVectorizer(lowercase=False,max_features=500)\n",
    "\n",
    "train_vectors_tfidf = tfid.fit_transform(X_train).toarray()\n",
    "test_vectors_tfidf = tfid.transform(X_test).toarray()"
   ]
  },
  {
   "cell_type": "markdown",
   "metadata": {},
   "source": [
    "## Normalizing"
   ]
  },
  {
   "cell_type": "code",
   "execution_count": 18,
   "metadata": {},
   "outputs": [],
   "source": [
    "oversample = RandomOverSampler(sampling_strategy='minority')\n",
    "train_vectors_tfidf, y_train_tfidf = oversample.fit_resample(train_vectors_tfidf, y_train.values.ravel())\n",
    "test_vectors_tfidf, y_test_tfidf = oversample.fit_resample(test_vectors_tfidf, y_test)"
   ]
  },
  {
   "cell_type": "code",
   "execution_count": 19,
   "metadata": {},
   "outputs": [],
   "source": [
    "norm_TFIDF = Normalizer(copy=False)\n",
    "norm_train_tfidf = norm_TFIDF.fit_transform(train_vectors_tfidf)\n",
    "norm_test_tfidf = norm_TFIDF.transform(test_vectors_tfidf)"
   ]
  },
  {
   "cell_type": "markdown",
   "metadata": {},
   "source": [
    "## Logistic Regression Model"
   ]
  },
  {
   "cell_type": "code",
   "execution_count": 20,
   "metadata": {},
   "outputs": [],
   "source": [
    "model = LogisticRegression(random_state=42, multi_class='multinomial',class_weight='balanced', n_jobs=6, max_iter=300)\n",
    "model.fit(norm_train_tfidf, y_train_tfidf);\n"
   ]
  },
  {
   "cell_type": "markdown",
   "metadata": {},
   "source": [
    "## Evaluating the Model"
   ]
  },
  {
   "cell_type": "code",
   "execution_count": 21,
   "metadata": {},
   "outputs": [],
   "source": [
    "prediction = model.predict(norm_test_tfidf)"
   ]
  },
  {
   "cell_type": "code",
   "execution_count": 22,
   "metadata": {},
   "outputs": [
    {
     "name": "stdout",
     "output_type": "stream",
     "text": [
      "[1 0 0 ... 4 4 4]\n"
     ]
    }
   ],
   "source": [
    "print(prediction)"
   ]
  },
  {
   "cell_type": "code",
   "execution_count": 23,
   "metadata": {},
   "outputs": [],
   "source": [
    "pprob = model.predict_proba(norm_test_tfidf) "
   ]
  },
  {
   "cell_type": "code",
   "execution_count": 24,
   "metadata": {},
   "outputs": [
    {
     "data": {
      "text/html": [
       "<div>\n",
       "<style scoped>\n",
       "    .dataframe tbody tr th:only-of-type {\n",
       "        vertical-align: middle;\n",
       "    }\n",
       "\n",
       "    .dataframe tbody tr th {\n",
       "        vertical-align: top;\n",
       "    }\n",
       "\n",
       "    .dataframe thead th {\n",
       "        text-align: right;\n",
       "    }\n",
       "</style>\n",
       "<table border=\"1\" class=\"dataframe\">\n",
       "  <thead>\n",
       "    <tr style=\"text-align: right;\">\n",
       "      <th></th>\n",
       "      <th>0</th>\n",
       "      <th>1</th>\n",
       "      <th>2</th>\n",
       "      <th>3</th>\n",
       "      <th>4</th>\n",
       "      <th>5</th>\n",
       "      <th>accuracy</th>\n",
       "      <th>macro avg</th>\n",
       "      <th>weighted avg</th>\n",
       "    </tr>\n",
       "  </thead>\n",
       "  <tbody>\n",
       "    <tr>\n",
       "      <th>precision</th>\n",
       "      <td>0.986915</td>\n",
       "      <td>0.062787</td>\n",
       "      <td>0.110206</td>\n",
       "      <td>0.083546</td>\n",
       "      <td>0.001344</td>\n",
       "      <td>0.970108</td>\n",
       "      <td>0.538421</td>\n",
       "      <td>0.369151</td>\n",
       "      <td>0.947177</td>\n",
       "    </tr>\n",
       "    <tr>\n",
       "      <th>recall</th>\n",
       "      <td>0.762523</td>\n",
       "      <td>0.342004</td>\n",
       "      <td>0.231740</td>\n",
       "      <td>0.286652</td>\n",
       "      <td>0.368421</td>\n",
       "      <td>0.332473</td>\n",
       "      <td>0.538421</td>\n",
       "      <td>0.387302</td>\n",
       "      <td>0.538421</td>\n",
       "    </tr>\n",
       "    <tr>\n",
       "      <th>f1-score</th>\n",
       "      <td>0.860328</td>\n",
       "      <td>0.106097</td>\n",
       "      <td>0.149375</td>\n",
       "      <td>0.129383</td>\n",
       "      <td>0.002678</td>\n",
       "      <td>0.495224</td>\n",
       "      <td>0.538421</td>\n",
       "      <td>0.290514</td>\n",
       "      <td>0.658392</td>\n",
       "    </tr>\n",
       "    <tr>\n",
       "      <th>support</th>\n",
       "      <td>37191.000000</td>\n",
       "      <td>1038.000000</td>\n",
       "      <td>1109.000000</td>\n",
       "      <td>457.000000</td>\n",
       "      <td>95.000000</td>\n",
       "      <td>37191.000000</td>\n",
       "      <td>0.538421</td>\n",
       "      <td>77081.000000</td>\n",
       "      <td>77081.000000</td>\n",
       "    </tr>\n",
       "  </tbody>\n",
       "</table>\n",
       "</div>"
      ],
      "text/plain": [
       "                      0            1            2           3          4  \\\n",
       "precision      0.986915     0.062787     0.110206    0.083546   0.001344   \n",
       "recall         0.762523     0.342004     0.231740    0.286652   0.368421   \n",
       "f1-score       0.860328     0.106097     0.149375    0.129383   0.002678   \n",
       "support    37191.000000  1038.000000  1109.000000  457.000000  95.000000   \n",
       "\n",
       "                      5  accuracy     macro avg  weighted avg  \n",
       "precision      0.970108  0.538421      0.369151      0.947177  \n",
       "recall         0.332473  0.538421      0.387302      0.538421  \n",
       "f1-score       0.495224  0.538421      0.290514      0.658392  \n",
       "support    37191.000000  0.538421  77081.000000  77081.000000  "
      ]
     },
     "execution_count": 24,
     "metadata": {},
     "output_type": "execute_result"
    }
   ],
   "source": [
    "cr = classification_report(y_test_tfidf, prediction,output_dict=True)\n",
    "pd.DataFrame(cr)"
   ]
  },
  {
   "cell_type": "code",
   "execution_count": 25,
   "metadata": {},
   "outputs": [
    {
     "name": "stdout",
     "output_type": "stream",
     "text": [
      "[[28359  4928  1814  1024   817   249]\n",
      " [  237   355   175   135   104    32]\n",
      " [  124   271   257   248   159    50]\n",
      " [   12    84    81   131   105    44]\n",
      " [    3    16     5    30    35     6]\n",
      " [    0     0     0     0 24826 12365]]\n"
     ]
    }
   ],
   "source": [
    "print(confusion_matrix(y_test_tfidf,prediction))"
   ]
  },
  {
   "cell_type": "code",
   "execution_count": 26,
   "metadata": {},
   "outputs": [],
   "source": [
    "def plot_confusion_matrix(y_test,y_preds):\n",
    "    ax = plt.subplot()\n",
    "    sns.heatmap(confusion_matrix(y_test, y_preds),cmap=\"magma\")\n",
    "    plt.xlabel(\"True Toxic Score\")\n",
    "    plt.ylabel(\"Predicted Toxic Score\")"
   ]
  },
  {
   "cell_type": "code",
   "execution_count": 27,
   "metadata": {},
   "outputs": [
    {
     "data": {
      "image/png": "[encoded data removed]",
      "text/plain": [
       "<Figure size 640x480 with 2 Axes>"
      ]
     },
     "metadata": {},
     "output_type": "display_data"
    }
   ],
   "source": [
    "plot_confusion_matrix(y_test_tfidf,prediction)"
   ]
  },
  {
   "cell_type": "markdown",
   "metadata": {},
   "source": [
    "The model seems to be the most accurate when predicting nontoxic comments. The results are not surprising, considering the dataset mainly consists of nontoxic remarks and hardly contains statements on the other end of the spectrum. "
   ]
  },
  {
   "cell_type": "code",
   "execution_count": 28,
   "metadata": {},
   "outputs": [],
   "source": [
    "# filename = 'logist_model.sav'\n",
    "# pickle.dump(model, open(filename, 'wb'))"
   ]
  },
  {
   "cell_type": "markdown",
   "metadata": {},
   "source": [
    "# Final Thoughts and Lessons Learned"
   ]
  },
  {
   "cell_type": "markdown",
   "metadata": {},
   "source": [
    "The initial design was to determine if a user's comment is toxic by comparing a statement's sentiment to its replies and the number of dislikes it receives. I also wanted to explore the gray area of distinguishing between toxic comments and unpopular opinions. \n",
    "\n",
    "After my project was approved, YouTube removed the ability to access dislikes through their API.So, the analysis was performed only on sentiment and comment contents. The new idea was that sentiment analysis would increase the model's accuracy.  \n",
    "\n",
    "I encountered difficulties attempting to encode sentiment and text as separate features. My solution was to combine the columns because both attributes are words. In hindsight, I realize that my adding one of three words to each comment is a terrible idea when using TF-IDF. Because TF-IDF considers words that frequently appear in the document to be more important, the sentiment became the focus instead of supplemental to the actual comment. Using TF-IDF explains why the model returns many false positives. The bulk of the toxic comments contains a negative sentiment. Therefore the model will be more likely to label negative sentiments as toxic.\n",
    "\n",
    "To improve my work, I plan to test different models and encodings and perform more robust sentiment analysis. I'm also looking into alternative methods for collecting data in hopes of accessing dislikes and incorporating my original plan.  "
   ]
  },
  {
   "cell_type": "code",
   "execution_count": null,
   "metadata": {},
   "outputs": [],
   "source": []
  }
 ],
 "metadata": {
  "kernelspec": {
   "display_name": "Python 3 (ipykernel)",
   "language": "python",
   "name": "python3"
  },
  "language_info": {
   "codemirror_mode": {
    "name": "ipython",
    "version": 3
   },
   "file_extension": ".py",
   "mimetype": "text/x-python",
   "name": "python",
   "nbconvert_exporter": "python",
   "pygments_lexer": "ipython3",
   "version": "3.9.13"
  },
  "vscode": {
   "interpreter": {
    "hash": "3ad924ab0e6f750209d62c6e0be45c7d7a480ad612e54686796527e723bb9d1f"
   }
  },
  "widgets": {
   "application/vnd.jupyter.widget-state+json": {
    "state": {},
    "version_major": 2,
    "version_minor": 0
   }
  }
 },
 "nbformat": 4,
 "nbformat_minor": 4
}
