{
 "cells": [
  {
   "cell_type": "markdown",
   "metadata": {},
   "source": [
    "# Toxic Comment Classification\n",
    "\n",
    "You may be familiar with the saying, \"sticks and stones may break my bones (but words can never hurt me).\" As much as we'd like to believe words can't affect us, it's not true.\n",
    "\n",
    "For many, the internet is the primary mode of connecting with others and an outlet for people to express themselves. Platforms such as YouTube enables creative individuals to turn their ability to entertain others into a career. Unfortunately, this makes them a prime target for people who enjoy verbally abusing others. Being bombarded with toxic comments can be detrimental to one's health. Now influences are opening up about the emotional damage these comments inflict on them and their battles with depression and anxiety.\n",
    "\n",
    "This project aims to find a machine-learning model capable of discovering toxic comments that will assist content creators in improving their communities."
   ]
  },
  {
   "cell_type": "markdown",
   "metadata": {},
   "source": [
    "# Importing Tools"
   ]
  },
  {
   "cell_type": "code",
   "execution_count": 2,
   "metadata": {},
   "outputs": [],
   "source": [
    "import pandas as pd\n",
    "import re\n",
    "import imblearn\n",
    "from imblearn.over_sampling import SMOTE\n",
    "from sklearn.preprocessing import Normalizer\n",
    "import warnings\n",
    "import pickle\n",
    "import re\n",
    "import nltk\n",
    "from sklearn.feature_extraction.text import TfidfVectorizer\n",
    "from sklearn.linear_model import LogisticRegression\n",
    "from sklearn.metrics import confusion_matrix, accuracy_score, precision_score, recall_score,\\\n",
    "f1_score, roc_auc_score, roc_curve, precision_recall_curve,classification_report,label_ranking_average_precision_score\n",
    "from sklearn.model_selection import train_test_split\n",
    "from sklearn import preprocessing\n",
    "from imblearn.over_sampling import RandomOverSampler\n",
    "from numba import jit, cuda\n",
    "import imblearn\n",
    "from nltk.sentiment import SentimentIntensityAnalyzer\n",
    "import seaborn as sns\n",
    "\n",
    "%matplotlib inline\n",
    "import matplotlib.pyplot as plt"
   ]
  },
  {
   "cell_type": "markdown",
   "metadata": {},
   "source": [
    "# Data\n",
    "\n",
    "A dataset from Kaggle.com containing comments from Wikipedia will be used to create the prototype. The attributes of this set are:\n",
    "* Comment ID (Data Type – String)\n",
    "* Comments (Data Type - String)\n",
    "* Toxic Label (Data Type - Integer)\n",
    "* Toxic Categories (Data Types – Integer)\n",
    "    * Severe Toxic\t\n",
    "    * Obscene\n",
    "    * Threat\t\n",
    "    * Insult\n",
    "    * Identity Hate"
   ]
  },
  {
   "cell_type": "code",
   "execution_count": 3,
   "metadata": {},
   "outputs": [],
   "source": [
    "df = pd.read_csv(\"input/updated_train_data.csv\")"
   ]
  },
  {
   "cell_type": "code",
   "execution_count": 4,
   "metadata": {},
   "outputs": [],
   "source": [
    "# function to clean the text performin some simple regex pattern matching\n",
    "def apply_regex(corpus):\n",
    "    # removes numbers and words concatenated with numbers\n",
    "    corpus = corpus.apply(lambda x: re.sub(\"\\S*\\d\\S*\",\" \", x)) \n",
    "    # removes emails and mentions (words with @)\n",
    "    corpus = corpus.apply(lambda x: re.sub(\"\\S*@\\S*\\s?\",\" \", x))  \n",
    "    # removes hashtags (words with #)\n",
    "    corpus = corpus.apply(lambda x: re.sub(\"\\S*#\\S*\\s?\",\" \", x)) \n",
    "    # removes URLs\n",
    "    corpus = corpus.apply(lambda x: re.sub(r'http\\S+', ' ', x))\n",
    "    # keeps numbers and letters\n",
    "    corpus = corpus.apply(lambda x: re.sub(r'[^a-zA-Z0-9 ]', ' ',x))  \n",
    "    # replaces the ASCII '�' symbol with '8'\n",
    "    corpus = corpus.apply(lambda x: x.replace(u'\\ufffd', '8'))  \n",
    "    # removes multiple spaces\n",
    "    corpus = corpus.apply(lambda x: re.sub(' +', ' ', x))  \n",
    "    # removes newline chars\n",
    "    corpus = corpus.apply(lambda x: x.replace('\\n',' '))               \n",
    "    corpus = corpus.apply(lambda x: x.replace('\\r',' '))\n",
    "    return corpus"
   ]
  },
  {
   "cell_type": "code",
   "execution_count": 5,
   "metadata": {},
   "outputs": [
    {
     "data": {
      "text/html": [
       "<div>\n",
       "<style scoped>\n",
       "    .dataframe tbody tr th:only-of-type {\n",
       "        vertical-align: middle;\n",
       "    }\n",
       "\n",
       "    .dataframe tbody tr th {\n",
       "        vertical-align: top;\n",
       "    }\n",
       "\n",
       "    .dataframe thead th {\n",
       "        text-align: right;\n",
       "    }\n",
       "</style>\n",
       "<table border=\"1\" class=\"dataframe\">\n",
       "  <thead>\n",
       "    <tr style=\"text-align: right;\">\n",
       "      <th></th>\n",
       "      <th>id</th>\n",
       "      <th>comment_text</th>\n",
       "      <th>toxic</th>\n",
       "      <th>severe_toxic</th>\n",
       "      <th>obscene</th>\n",
       "      <th>threat</th>\n",
       "      <th>insult</th>\n",
       "      <th>identity_hate</th>\n",
       "      <th>neg</th>\n",
       "      <th>neu</th>\n",
       "      <th>pos</th>\n",
       "      <th>compound</th>\n",
       "      <th>sentiment</th>\n",
       "    </tr>\n",
       "  </thead>\n",
       "  <tbody>\n",
       "    <tr>\n",
       "      <th>0</th>\n",
       "      <td>0000997932d777bf</td>\n",
       "      <td>Explanation Why the edits made under my userna...</td>\n",
       "      <td>0</td>\n",
       "      <td>0</td>\n",
       "      <td>0</td>\n",
       "      <td>0</td>\n",
       "      <td>0</td>\n",
       "      <td>0</td>\n",
       "      <td>0.000</td>\n",
       "      <td>0.897</td>\n",
       "      <td>0.103</td>\n",
       "      <td>0.5574</td>\n",
       "      <td>positive</td>\n",
       "    </tr>\n",
       "    <tr>\n",
       "      <th>1</th>\n",
       "      <td>000103f0d9cfb60f</td>\n",
       "      <td>D aww He matches this background colour I m se...</td>\n",
       "      <td>0</td>\n",
       "      <td>0</td>\n",
       "      <td>0</td>\n",
       "      <td>0</td>\n",
       "      <td>0</td>\n",
       "      <td>0</td>\n",
       "      <td>0.099</td>\n",
       "      <td>0.743</td>\n",
       "      <td>0.158</td>\n",
       "      <td>0.2942</td>\n",
       "      <td>positive</td>\n",
       "    </tr>\n",
       "    <tr>\n",
       "      <th>2</th>\n",
       "      <td>000113f07ec002fd</td>\n",
       "      <td>Hey man I m really not trying to edit war It s...</td>\n",
       "      <td>0</td>\n",
       "      <td>0</td>\n",
       "      <td>0</td>\n",
       "      <td>0</td>\n",
       "      <td>0</td>\n",
       "      <td>0</td>\n",
       "      <td>0.083</td>\n",
       "      <td>0.849</td>\n",
       "      <td>0.068</td>\n",
       "      <td>-0.1779</td>\n",
       "      <td>negative</td>\n",
       "    </tr>\n",
       "    <tr>\n",
       "      <th>3</th>\n",
       "      <td>0001b41b1c6bb37e</td>\n",
       "      <td>More I can t make any real suggestions on imp...</td>\n",
       "      <td>0</td>\n",
       "      <td>0</td>\n",
       "      <td>0</td>\n",
       "      <td>0</td>\n",
       "      <td>0</td>\n",
       "      <td>0</td>\n",
       "      <td>0.022</td>\n",
       "      <td>0.916</td>\n",
       "      <td>0.062</td>\n",
       "      <td>0.5106</td>\n",
       "      <td>positive</td>\n",
       "    </tr>\n",
       "    <tr>\n",
       "      <th>4</th>\n",
       "      <td>0001d958c54c6e35</td>\n",
       "      <td>You sir are my hero Any chance you remember wh...</td>\n",
       "      <td>0</td>\n",
       "      <td>0</td>\n",
       "      <td>0</td>\n",
       "      <td>0</td>\n",
       "      <td>0</td>\n",
       "      <td>0</td>\n",
       "      <td>0.000</td>\n",
       "      <td>0.663</td>\n",
       "      <td>0.337</td>\n",
       "      <td>0.6808</td>\n",
       "      <td>positive</td>\n",
       "    </tr>\n",
       "  </tbody>\n",
       "</table>\n",
       "</div>"
      ],
      "text/plain": [
       "                 id                                       comment_text  toxic  \\\n",
       "0  0000997932d777bf  Explanation Why the edits made under my userna...      0   \n",
       "1  000103f0d9cfb60f  D aww He matches this background colour I m se...      0   \n",
       "2  000113f07ec002fd  Hey man I m really not trying to edit war It s...      0   \n",
       "3  0001b41b1c6bb37e   More I can t make any real suggestions on imp...      0   \n",
       "4  0001d958c54c6e35  You sir are my hero Any chance you remember wh...      0   \n",
       "\n",
       "   severe_toxic  obscene  threat  insult  identity_hate    neg    neu    pos  \\\n",
       "0             0        0       0       0              0  0.000  0.897  0.103   \n",
       "1             0        0       0       0              0  0.099  0.743  0.158   \n",
       "2             0        0       0       0              0  0.083  0.849  0.068   \n",
       "3             0        0       0       0              0  0.022  0.916  0.062   \n",
       "4             0        0       0       0              0  0.000  0.663  0.337   \n",
       "\n",
       "   compound sentiment  \n",
       "0    0.5574  positive  \n",
       "1    0.2942  positive  \n",
       "2   -0.1779  negative  \n",
       "3    0.5106  positive  \n",
       "4    0.6808  positive  "
      ]
     },
     "execution_count": 5,
     "metadata": {},
     "output_type": "execute_result"
    }
   ],
   "source": [
    "# apply the function and clean the data\n",
    "feature = \"comment_text\"\n",
    "df[feature] = apply_regex(df[feature])\n",
    "df.head()"
   ]
  },
  {
   "cell_type": "markdown",
   "metadata": {
    "tags": []
   },
   "source": [
    "# Sentiment Analysis"
   ]
  },
  {
   "cell_type": "markdown",
   "metadata": {},
   "source": [
    "The purpose of this section is to demonstrate the data modification process of the original set. It doesn't need to be executed."
   ]
  },
  {
   "cell_type": "code",
   "execution_count": 8,
   "metadata": {},
   "outputs": [],
   "source": [
    "#Importing orignal comment data\n",
    "# comm = pd.read_csv('./input/traindata/traindata.csv',encoding='utf8',error_bad_lines=False,index_col=False)"
   ]
  },
  {
   "cell_type": "code",
   "execution_count": 9,
   "metadata": {},
   "outputs": [],
   "source": [
    "sid = SentimentIntensityAnalyzer()"
   ]
  },
  {
   "cell_type": "code",
   "execution_count": 10,
   "metadata": {},
   "outputs": [],
   "source": [
    "def get_pol(df):\n",
    "    df['neg'] = df['comment_text'].apply(lambda comment_text:sid.polarity_scores(str(comment_text))['neg'])\n",
    "    df['neu'] = df['comment_text'].apply(lambda comment_text:sid.polarity_scores(str(comment_text))['neu'])\n",
    "    df['pos'] = df['comment_text'].apply(lambda comment_text:sid.polarity_scores(str(comment_text))['pos'])\n",
    "    df['compound'] = df['comment_text'].apply(lambda comment_text:sid.polarity_scores(str(comment_text))['compound'])\n",
    "    return df"
   ]
  },
  {
   "cell_type": "code",
   "execution_count": 11,
   "metadata": {},
   "outputs": [],
   "source": [
    "from numba import jit, cuda\n",
    "import numpy as np\n",
    "    \n",
    "# function optimized to run on gpu \n",
    "@jit(target_backend='cuda')    \n",
    "def sentiment_score(df):\n",
    "\tfor i,score in enumerate(df['compound']):\n",
    "\t\tif float(score) > 0:\n",
    "\t\t\tdf['sentiment'][i] = 'positive'\n",
    "\t\telif float(score) == 0.0:\n",
    "\t\t\tdf['sentiment'][i] = 'neutral'\n",
    "\t\telse:\n",
    "\t\t\tdf['sentiment'][i] ='negative'\n",
    "\treturn df"
   ]
  },
  {
   "cell_type": "code",
   "execution_count": 12,
   "metadata": {},
   "outputs": [],
   "source": [
    "# df = get_pol(comm)\n",
    "# df = sentiment_score(df)"
   ]
  },
  {
   "cell_type": "code",
   "execution_count": 42,
   "metadata": {},
   "outputs": [],
   "source": [
    "# filename = './input/traindata/updated_train_data.csv'  \n",
    "# df.to_csv(file_name, encoding='utf-8', index=False)"
   ]
  },
  {
   "cell_type": "markdown",
   "metadata": {
    "tags": []
   },
   "source": [
    "# Deriving Features"
   ]
  },
  {
   "cell_type": "markdown",
   "metadata": {},
   "source": [
    "## Toxicity Rating Scale\n",
    "The original data set assigned categories to toxic comments. To rate the toxicity of a statement, I've added the labels. For example, a comment considered severely toxic, obscene, threatening, insulting, and containing hate speech scores five on the rating scale.\n",
    "\n",
    "**Note**: If a comment falls into any toxic category, the column labeled 'toxic' will also be marked as true (1). So I ignored that column when finding the total score."
   ]
  },
  {
   "cell_type": "code",
   "execution_count": 6,
   "metadata": {},
   "outputs": [
    {
     "data": {
      "text/html": [
       "<div>\n",
       "<style scoped>\n",
       "    .dataframe tbody tr th:only-of-type {\n",
       "        vertical-align: middle;\n",
       "    }\n",
       "\n",
       "    .dataframe tbody tr th {\n",
       "        vertical-align: top;\n",
       "    }\n",
       "\n",
       "    .dataframe thead th {\n",
       "        text-align: right;\n",
       "    }\n",
       "</style>\n",
       "<table border=\"1\" class=\"dataframe\">\n",
       "  <thead>\n",
       "    <tr style=\"text-align: right;\">\n",
       "      <th></th>\n",
       "      <th>id</th>\n",
       "      <th>comment_text</th>\n",
       "      <th>toxic</th>\n",
       "      <th>severe_toxic</th>\n",
       "      <th>obscene</th>\n",
       "      <th>threat</th>\n",
       "      <th>insult</th>\n",
       "      <th>identity_hate</th>\n",
       "      <th>neg</th>\n",
       "      <th>neu</th>\n",
       "      <th>pos</th>\n",
       "      <th>compound</th>\n",
       "      <th>sentiment</th>\n",
       "      <th>score</th>\n",
       "    </tr>\n",
       "  </thead>\n",
       "  <tbody>\n",
       "    <tr>\n",
       "      <th>48704</th>\n",
       "      <td>8237e75511a995fb</td>\n",
       "      <td>Thanks I recommended that we have fifteen que...</td>\n",
       "      <td>0</td>\n",
       "      <td>0</td>\n",
       "      <td>0</td>\n",
       "      <td>0</td>\n",
       "      <td>0</td>\n",
       "      <td>0</td>\n",
       "      <td>0.000</td>\n",
       "      <td>0.858</td>\n",
       "      <td>0.142</td>\n",
       "      <td>0.7777</td>\n",
       "      <td>positive</td>\n",
       "      <td>0</td>\n",
       "    </tr>\n",
       "    <tr>\n",
       "      <th>47353</th>\n",
       "      <td>7e8196fbc39bbcb6</td>\n",
       "      <td>The Theme of the season y Glamour</td>\n",
       "      <td>0</td>\n",
       "      <td>0</td>\n",
       "      <td>0</td>\n",
       "      <td>0</td>\n",
       "      <td>0</td>\n",
       "      <td>0</td>\n",
       "      <td>0.000</td>\n",
       "      <td>1.000</td>\n",
       "      <td>0.000</td>\n",
       "      <td>0.0000</td>\n",
       "      <td>neutral</td>\n",
       "      <td>0</td>\n",
       "    </tr>\n",
       "    <tr>\n",
       "      <th>10618</th>\n",
       "      <td>1c088e7d5a015569</td>\n",
       "      <td>Is Wikipedia a patriarchal site Is Wikipedia a...</td>\n",
       "      <td>0</td>\n",
       "      <td>0</td>\n",
       "      <td>0</td>\n",
       "      <td>0</td>\n",
       "      <td>0</td>\n",
       "      <td>0</td>\n",
       "      <td>0.109</td>\n",
       "      <td>0.858</td>\n",
       "      <td>0.032</td>\n",
       "      <td>-0.9727</td>\n",
       "      <td>negative</td>\n",
       "      <td>0</td>\n",
       "    </tr>\n",
       "    <tr>\n",
       "      <th>96949</th>\n",
       "      <td>06acd75519db5fba</td>\n",
       "      <td>Dear Snigbrook Your days are numbered the stab...</td>\n",
       "      <td>1</td>\n",
       "      <td>0</td>\n",
       "      <td>1</td>\n",
       "      <td>1</td>\n",
       "      <td>1</td>\n",
       "      <td>0</td>\n",
       "      <td>0.253</td>\n",
       "      <td>0.526</td>\n",
       "      <td>0.220</td>\n",
       "      <td>-0.5033</td>\n",
       "      <td>negative</td>\n",
       "      <td>3</td>\n",
       "    </tr>\n",
       "    <tr>\n",
       "      <th>28548</th>\n",
       "      <td>4b99213bc19b2f66</td>\n",
       "      <td>IAPT I actually thought when i got up this mor...</td>\n",
       "      <td>0</td>\n",
       "      <td>0</td>\n",
       "      <td>0</td>\n",
       "      <td>0</td>\n",
       "      <td>0</td>\n",
       "      <td>0</td>\n",
       "      <td>0.000</td>\n",
       "      <td>0.918</td>\n",
       "      <td>0.082</td>\n",
       "      <td>0.3976</td>\n",
       "      <td>positive</td>\n",
       "      <td>0</td>\n",
       "    </tr>\n",
       "  </tbody>\n",
       "</table>\n",
       "</div>"
      ],
      "text/plain": [
       "                     id                                       comment_text  \\\n",
       "48704  8237e75511a995fb   Thanks I recommended that we have fifteen que...   \n",
       "47353  7e8196fbc39bbcb6                 The Theme of the season y Glamour    \n",
       "10618  1c088e7d5a015569  Is Wikipedia a patriarchal site Is Wikipedia a...   \n",
       "96949  06acd75519db5fba  Dear Snigbrook Your days are numbered the stab...   \n",
       "28548  4b99213bc19b2f66  IAPT I actually thought when i got up this mor...   \n",
       "\n",
       "       toxic  severe_toxic  obscene  threat  insult  identity_hate    neg  \\\n",
       "48704      0             0        0       0       0              0  0.000   \n",
       "47353      0             0        0       0       0              0  0.000   \n",
       "10618      0             0        0       0       0              0  0.109   \n",
       "96949      1             0        1       1       1              0  0.253   \n",
       "28548      0             0        0       0       0              0  0.000   \n",
       "\n",
       "         neu    pos  compound sentiment  score  \n",
       "48704  0.858  0.142    0.7777  positive      0  \n",
       "47353  1.000  0.000    0.0000   neutral      0  \n",
       "10618  0.858  0.032   -0.9727  negative      0  \n",
       "96949  0.526  0.220   -0.5033  negative      3  \n",
       "28548  0.918  0.082    0.3976  positive      0  "
      ]
     },
     "execution_count": 6,
     "metadata": {},
     "output_type": "execute_result"
    }
   ],
   "source": [
    "col_list = ['severe_toxic','obscene','threat','insult','identity_hate']\n",
    "df['score'] = df[col_list].astype(int).sum(axis=1)\n",
    "df.sample(5)"
   ]
  },
  {
   "cell_type": "markdown",
   "metadata": {},
   "source": [
    "# EDA"
   ]
  },
  {
   "cell_type": "code",
   "execution_count": 7,
   "metadata": {},
   "outputs": [],
   "source": [
    "def toxic_score_dist(df):\n",
    "        order= range(6)\n",
    "        ax1 = sns.countplot(x = df[\"score\"],order=order)\n",
    "        plt.title('Distribution of Toxic Comments')\n",
    "        plt.xlabel('Toxicity Rating')\n",
    "        plt.ylabel('Count')\n",
    "        for container in ax1.containers:\n",
    "            plt.bar_label(container)\n",
    "        plt.show()"
   ]
  },
  {
   "cell_type": "code",
   "execution_count": 8,
   "metadata": {},
   "outputs": [
    {
     "data": {
      "image/png": "[encoded data removed]",
      "text/plain": [
       "<Figure size 640x480 with 1 Axes>"
      ]
     },
     "metadata": {},
     "output_type": "display_data"
    }
   ],
   "source": [
    "toxic_score_dist(df)"
   ]
  },
  {
   "cell_type": "code",
   "execution_count": 9,
   "metadata": {},
   "outputs": [],
   "source": [
    "def sentiment_dist(df):\n",
    "        order = ['negative','neutral','positive']\n",
    "        sns.countplot(x = df[\"sentiment\"],order = order)\n",
    "        plt.title('Distribution Sentiment')\n",
    "        plt.xlabel('Sentiment')\n",
    "        plt.ylabel('Count')\n",
    "        plt.show()"
   ]
  },
  {
   "cell_type": "code",
   "execution_count": 10,
   "metadata": {},
   "outputs": [
    {
     "data": {
      "image/png": "[encoded data removed]",
      "text/plain": [
       "<Figure size 640x480 with 1 Axes>"
      ]
     },
     "metadata": {},
     "output_type": "display_data"
    }
   ],
   "source": [
    "sentiment_dist(df)"
   ]
  },
  {
   "cell_type": "markdown",
   "metadata": {},
   "source": [
    "# Modeling"
   ]
  },
  {
   "cell_type": "markdown",
   "metadata": {},
   "source": [
    "## Combining Text Columns\n",
    "\n",
    "I combined the columns before encoding to evaluate both the sentiment and comment text.\n",
    "\n",
    "**Note**: I know now combining columns was not the correct way to do this. See lessons learned at the bottom. "
   ]
  },
  {
   "cell_type": "code",
   "execution_count": 11,
   "metadata": {},
   "outputs": [],
   "source": [
    "X = pd.DataFrame(df['sentiment'] +' '+ df['comment_text'])\n",
    "X = pd.DataFrame(df['comment_text'])\n",
    "X.columns = ['text']"
   ]
  },
  {
   "cell_type": "markdown",
   "metadata": {},
   "source": [
    "## Splitting and Encoding"
   ]
  },
  {
   "cell_type": "code",
   "execution_count": 12,
   "metadata": {},
   "outputs": [],
   "source": [
    "y = df[['score']]\n",
    "X_train,X_test,y_train,y_test = train_test_split(X['text'],y,random_state = 42)"
   ]
  },
  {
   "cell_type": "code",
   "execution_count": 13,
   "metadata": {},
   "outputs": [],
   "source": [
    "# encodin text into vectors\n",
    "tfid = TfidfVectorizer(lowercase=False,max_features=500)\n",
    "\n",
    "train_vectors_tfidf = tfid.fit_transform(X_train).toarray()\n",
    "test_vectors_tfidf = tfid.transform(X_test).toarray()"
   ]
  },
  {
   "cell_type": "markdown",
   "metadata": {},
   "source": [
    "## Normalizing"
   ]
  },
  {
   "cell_type": "code",
   "execution_count": 14,
   "metadata": {},
   "outputs": [],
   "source": [
    "oversample = RandomOverSampler(sampling_strategy='minority')\n",
    "train_vectors_tfidf, y_train_tfidf = oversample.fit_resample(train_vectors_tfidf, y_train.values.ravel())\n",
    "test_vectors_tfidf, y_test_tfidf = oversample.fit_resample(test_vectors_tfidf, y_test)"
   ]
  },
  {
   "cell_type": "code",
   "execution_count": 15,
   "metadata": {},
   "outputs": [],
   "source": [
    "norm_TFIDF = Normalizer(copy=False)\n",
    "norm_train_tfidf = norm_TFIDF.fit_transform(train_vectors_tfidf)\n",
    "norm_test_tfidf = norm_TFIDF.transform(test_vectors_tfidf)"
   ]
  },
  {
   "cell_type": "markdown",
   "metadata": {},
   "source": [
    "## Logistic Regression Model"
   ]
  },
  {
   "cell_type": "code",
   "execution_count": 16,
   "metadata": {},
   "outputs": [],
   "source": [
    "model = LogisticRegression(random_state=42, multi_class='multinomial',class_weight='balanced', n_jobs=6, max_iter=300)\n",
    "model.fit(norm_train_tfidf, y_train_tfidf);\n"
   ]
  },
  {
   "cell_type": "markdown",
   "metadata": {},
   "source": [
    "## Evaluating the Model"
   ]
  },
  {
   "cell_type": "code",
   "execution_count": 17,
   "metadata": {},
   "outputs": [],
   "source": [
    "prediction = model.predict(norm_test_tfidf)"
   ]
  },
  {
   "cell_type": "code",
   "execution_count": 18,
   "metadata": {},
   "outputs": [
    {
     "name": "stdout",
     "output_type": "stream",
     "text": [
      "[1 0 0 ... 5 4 5]\n"
     ]
    }
   ],
   "source": [
    "print(prediction)"
   ]
  },
  {
   "cell_type": "code",
   "execution_count": 19,
   "metadata": {},
   "outputs": [],
   "source": [
    "pprob = model.predict_proba(norm_test_tfidf) "
   ]
  },
  {
   "cell_type": "code",
   "execution_count": 20,
   "metadata": {},
   "outputs": [
    {
     "data": {
      "text/html": [
       "<div>\n",
       "<style scoped>\n",
       "    .dataframe tbody tr th:only-of-type {\n",
       "        vertical-align: middle;\n",
       "    }\n",
       "\n",
       "    .dataframe tbody tr th {\n",
       "        vertical-align: top;\n",
       "    }\n",
       "\n",
       "    .dataframe thead th {\n",
       "        text-align: right;\n",
       "    }\n",
       "</style>\n",
       "<table border=\"1\" class=\"dataframe\">\n",
       "  <thead>\n",
       "    <tr style=\"text-align: right;\">\n",
       "      <th></th>\n",
       "      <th>0</th>\n",
       "      <th>1</th>\n",
       "      <th>2</th>\n",
       "      <th>3</th>\n",
       "      <th>4</th>\n",
       "      <th>5</th>\n",
       "      <th>accuracy</th>\n",
       "      <th>macro avg</th>\n",
       "      <th>weighted avg</th>\n",
       "    </tr>\n",
       "  </thead>\n",
       "  <tbody>\n",
       "    <tr>\n",
       "      <th>precision</th>\n",
       "      <td>0.986876</td>\n",
       "      <td>0.06250</td>\n",
       "      <td>0.110922</td>\n",
       "      <td>0.083014</td>\n",
       "      <td>0.001346</td>\n",
       "      <td>0.970323</td>\n",
       "      <td>0.538641</td>\n",
       "      <td>0.369163</td>\n",
       "      <td>0.947265</td>\n",
       "    </tr>\n",
       "    <tr>\n",
       "      <th>recall</th>\n",
       "      <td>0.762227</td>\n",
       "      <td>0.34104</td>\n",
       "      <td>0.234445</td>\n",
       "      <td>0.284464</td>\n",
       "      <td>0.368421</td>\n",
       "      <td>0.333199</td>\n",
       "      <td>0.538641</td>\n",
       "      <td>0.387300</td>\n",
       "      <td>0.538641</td>\n",
       "    </tr>\n",
       "    <tr>\n",
       "      <th>f1-score</th>\n",
       "      <td>0.860125</td>\n",
       "      <td>0.10564</td>\n",
       "      <td>0.150594</td>\n",
       "      <td>0.128522</td>\n",
       "      <td>0.002681</td>\n",
       "      <td>0.496057</td>\n",
       "      <td>0.538641</td>\n",
       "      <td>0.290603</td>\n",
       "      <td>0.658702</td>\n",
       "    </tr>\n",
       "    <tr>\n",
       "      <th>support</th>\n",
       "      <td>37191.000000</td>\n",
       "      <td>1038.00000</td>\n",
       "      <td>1109.000000</td>\n",
       "      <td>457.000000</td>\n",
       "      <td>95.000000</td>\n",
       "      <td>37191.000000</td>\n",
       "      <td>0.538641</td>\n",
       "      <td>77081.000000</td>\n",
       "      <td>77081.000000</td>\n",
       "    </tr>\n",
       "  </tbody>\n",
       "</table>\n",
       "</div>"
      ],
      "text/plain": [
       "                      0           1            2           3          4  \\\n",
       "precision      0.986876     0.06250     0.110922    0.083014   0.001346   \n",
       "recall         0.762227     0.34104     0.234445    0.284464   0.368421   \n",
       "f1-score       0.860125     0.10564     0.150594    0.128522   0.002681   \n",
       "support    37191.000000  1038.00000  1109.000000  457.000000  95.000000   \n",
       "\n",
       "                      5  accuracy     macro avg  weighted avg  \n",
       "precision      0.970323  0.538641      0.369163      0.947265  \n",
       "recall         0.333199  0.538641      0.387300      0.538641  \n",
       "f1-score       0.496057  0.538641      0.290603      0.658702  \n",
       "support    37191.000000  0.538641  77081.000000  77081.000000  "
      ]
     },
     "execution_count": 20,
     "metadata": {},
     "output_type": "execute_result"
    }
   ],
   "source": [
    "cr = classification_report(y_test_tfidf, prediction,output_dict=True)\n",
    "pd.DataFrame(cr)"
   ]
  },
  {
   "cell_type": "code",
   "execution_count": 21,
   "metadata": {},
   "outputs": [
    {
     "name": "stdout",
     "output_type": "stream",
     "text": [
      "[[28348  4940  1823  1023   810   247]\n",
      " [  238   354   174   136   104    32]\n",
      " [  124   270   260   247   158    50]\n",
      " [   12    84    82   130   105    44]\n",
      " [    3    16     5    30    35     6]\n",
      " [    0     0     0     0 24799 12392]]\n"
     ]
    }
   ],
   "source": [
    "print(confusion_matrix(y_test_tfidf,prediction))"
   ]
  },
  {
   "cell_type": "code",
   "execution_count": 35,
   "metadata": {},
   "outputs": [],
   "source": [
    "def plot_confusion_matrix(y_test,y_preds):\n",
    "    ax = plt.subplot()\n",
    "    sns.heatmap(confusion_matrix(y_test, y_preds),cmap=\"rocket\")\n",
    "    plt.xlabel(\"True Toxic Score\")\n",
    "    plt.ylabel(\"Predicted Toxic Score\")"
   ]
  },
  {
   "cell_type": "code",
   "execution_count": 36,
   "metadata": {},
   "outputs": [
    {
     "data": {
      "image/png": "[encoded data removed]",
      "text/plain": [
       "<Figure size 640x480 with 2 Axes>"
      ]
     },
     "metadata": {},
     "output_type": "display_data"
    }
   ],
   "source": [
    "plot_confusion_matrix(y_test_tfidf,prediction)"
   ]
  },
  {
   "cell_type": "markdown",
   "metadata": {},
   "source": [
    "The model seems to be the most accurate when predicting nontoxic comments. The results are not surprising, considering the dataset mainly consists of nontoxic remarks and hardly contains statements on the other end of the spectrum. "
   ]
  },
  {
   "cell_type": "code",
   "execution_count": 24,
   "metadata": {},
   "outputs": [],
   "source": [
    "# filename = 'logist_model.sav'\n",
    "# pickle.dump(model, open(filename, 'wb'))"
   ]
  },
  {
   "cell_type": "markdown",
   "metadata": {},
   "source": [
    "# Final Thoughts and Lessons Learned"
   ]
  },
  {
   "cell_type": "markdown",
   "metadata": {},
   "source": [
    "The initial design was to determine if a user's comment is toxic by comparing a statement's sentiment to its replies and the number of dislikes it receives. I also wanted to explore the gray area of distinguishing between toxic comments and unpopular opinions. \n",
    "\n",
    "After my project was approved, YouTube removed the ability to access dislikes through their API.So, the analysis was performed only on sentiment and comment contents. The new idea was that sentiment analysis would increase the model's accuracy.  \n",
    "\n",
    "I encountered difficulties attempting to encode sentiment and text as separate features. My solution was to combine the columns because both attributes are words. In hindsight, I realize that my adding one of three words to each comment is a terrible idea when using TF-IDF. Because TF-IDF considers words that frequently appear in the document to be more important, the sentiment became the focus instead of supplemental to the actual comment. Using TF-IDF explains why the model returns many false positives. The bulk of the toxic comments contains a negative sentiment. Therefore the model will be more likely to label negative sentiments as toxic.\n",
    "\n",
    "To improve my work, I plan to test different models and encodings and perform more robust sentiment analysis. I'm also looking into alternative methods for collecting data."
   ]
  }
 ],
 "metadata": {
  "kernelspec": {
   "display_name": "Python 3 (ipykernel)",
   "language": "python",
   "name": "python3"
  },
  "language_info": {
   "codemirror_mode": {
    "name": "ipython",
    "version": 3
   },
   "file_extension": ".py",
   "mimetype": "text/x-python",
   "name": "python",
   "nbconvert_exporter": "python",
   "pygments_lexer": "ipython3",
   "version": "3.9.13"
  },
  "vscode": {
   "interpreter": {
    "hash": "9b2a419d3d65b044e7472ca443d911e74b8c4918e4ace7bbfe0bdb7ccfdb9163"
   }
  },
  "widgets": {
   "application/vnd.jupyter.widget-state+json": {
    "state": {},
    "version_major": 2,
    "version_minor": 0
   }
  }
 },
 "nbformat": 4,
 "nbformat_minor": 4
}
