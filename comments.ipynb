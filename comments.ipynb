{
 "cells": [
  {
   "cell_type": "code",
   "execution_count": 1,
   "metadata": {
    "ExecuteTime": {
     "end_time": "2022-10-14T19:43:41.942388Z",
     "start_time": "2022-10-14T19:43:36.575443Z"
    },
    "extensions": {
     "jupyter_dashboards": {
      "version": 1,
      "views": {
       "default_view": {
        "hidden": true
       }
      }
     }
    },
    "raw_mimetype": "text/x-python",
    "tags": []
   },
   "outputs": [],
   "source": [
    "# Importing Tools\n",
    "import warnings\n",
    "import pandas as pd\n",
    "from numba import jit, cuda\n",
    "import re\n",
    "from youtube_comment_downloader import *\n",
    "import pickle\n",
    "import numpy as np\n",
    "from collections import Counter\n",
    "\n",
    "# Visualization packages\n",
    "import matplotlib.pyplot as plt\n",
    "import seaborn as sns\n",
    "from wordcloud import WordCloud\n",
    "from ipywidgets import *\n",
    "from nltk import sent_tokenize, word_tokenize\n",
    "from nltk.stem import WordNetLemmatizer\n",
    "from wordcloud import STOPWORDS\n",
    "%matplotlib inline\n",
    "\n",
    " \n",
    "\n",
    "# Machine learning packages\n",
    "import nltk\n",
    "from nltk.sentiment.vader import SentimentIntensityAnalyzer\n",
    "from sklearn.feature_extraction.text import TfidfVectorizer\n",
    "from sklearn.linear_model import LogisticRegression\n",
    "from nltk.stem import PorterStemmer\n",
    "import spacy\n",
    "\n"
   ]
  },
  {
   "cell_type": "code",
   "execution_count": 2,
   "metadata": {
    "ExecuteTime": {
     "end_time": "2022-10-14T19:43:43.302445Z",
     "start_time": "2022-10-14T19:43:41.945389Z"
    },
    "extensions": {
     "jupyter_dashboards": {
      "version": 1,
      "views": {
       "default_view": {
        "col": 0,
        "height": 5,
        "row": 0,
        "width": 11
       }
      }
     }
    }
   },
   "outputs": [
    {
     "name": "stderr",
     "output_type": "stream",
     "text": [
      "[nltk_data] Downloading package vader_lexicon to\n",
      "[nltk_data]     C:\\Users\\sarah\\AppData\\Roaming\\nltk_data...\n",
      "[nltk_data]   Package vader_lexicon is already up-to-date!\n",
      "[nltk_data] Downloading package punkt to\n",
      "[nltk_data]     C:\\Users\\sarah\\AppData\\Roaming\\nltk_data...\n",
      "[nltk_data]   Package punkt is already up-to-date!\n",
      "[nltk_data] Downloading package wordnet to\n",
      "[nltk_data]     C:\\Users\\sarah\\AppData\\Roaming\\nltk_data...\n",
      "[nltk_data]   Package wordnet is already up-to-date!\n",
      "[nltk_data] Downloading package stopwords to\n",
      "[nltk_data]     C:\\Users\\sarah\\AppData\\Roaming\\nltk_data...\n",
      "[nltk_data]   Package stopwords is already up-to-date!\n"
     ]
    }
   ],
   "source": [
    "# Utility\n",
    "warnings.filterwarnings('ignore')\n",
    "NUM_OF_THREADS = 6\n",
    "pd.set_option('display.max_colwidth', None)\n",
    "dl = nltk.download('vader_lexicon')\n",
    "nltk.download('punkt')\n",
    "nltk.download('wordnet')\n",
    "nltk.download('stopwords')\n",
    "en = spacy.load('en_core_web_sm')\n",
    "stopwords = en.Defaults.stop_words"
   ]
  },
  {
   "cell_type": "code",
   "execution_count": 3,
   "metadata": {
    "ExecuteTime": {
     "end_time": "2022-10-14T19:43:44.695538Z",
     "start_time": "2022-10-14T19:43:43.311389Z"
    },
    "extensions": {
     "jupyter_dashboards": {
      "version": 1,
      "views": {
       "default_view": {
        "hidden": true
       }
      }
     }
    }
   },
   "outputs": [],
   "source": [
    "train = pd.read_csv(\".\\input\\\\updated_train_data.csv\")"
   ]
  },
  {
   "cell_type": "code",
   "execution_count": 4,
   "metadata": {
    "ExecuteTime": {
     "end_time": "2022-10-14T19:43:44.727211Z",
     "start_time": "2022-10-14T19:43:44.698207Z"
    },
    "extensions": {
     "jupyter_dashboards": {
      "version": 1,
      "views": {
       "default_view": {
        "hidden": true
       }
      }
     }
    }
   },
   "outputs": [],
   "source": [
    "filename = 'logist_model.sav'\n",
    "model = pickle.load(open(filename, 'rb'))"
   ]
  },
  {
   "cell_type": "code",
   "execution_count": 5,
   "metadata": {
    "ExecuteTime": {
     "end_time": "2022-10-14T19:43:44.743173Z",
     "start_time": "2022-10-14T19:43:44.729170Z"
    },
    "extensions": {
     "jupyter_dashboards": {
      "version": 1,
      "views": {
       "default_view": {
        "hidden": true
       }
      }
     }
    }
   },
   "outputs": [],
   "source": [
    "# Collecting and Cleaning Data\n",
    "# function optimized to run on gpu \n",
    "# @jit(target_backend='cuda')\n",
    "def get_comments(video_url):\n",
    "    all_data=[]\n",
    "    downloader = YoutubeCommentDownloader()\n",
    "    comments = downloader.get_comments_from_url(video_url,sort_by=SORT_BY_POPULAR)\n",
    "    for comment in list(comments):\n",
    "        data = dict(comment_id = comment['cid'],\n",
    "                    comment_text = comment['text'],\n",
    "                    time = comment['time'],\n",
    "                    author = comment['author']\n",
    "                    \n",
    "                   )\n",
    "        all_data.append(data)\n",
    "    return all_data"
   ]
  },
  {
   "cell_type": "code",
   "execution_count": 6,
   "metadata": {
    "ExecuteTime": {
     "end_time": "2022-10-14T19:43:44.759173Z",
     "start_time": "2022-10-14T19:43:44.747169Z"
    },
    "extensions": {
     "jupyter_dashboards": {
      "version": 1,
      "views": {
       "default_view": {
        "hidden": true
       }
      }
     }
    }
   },
   "outputs": [],
   "source": [
    "def apply_regex(corpus):\n",
    "    corpus = corpus.apply(lambda x: re.sub(\"\\S*\\d\\S*\",\" \", x))          # removes numbers and words concatenated with numbers (IE h4ck3r)\n",
    "    corpus = corpus.apply(lambda x: re.sub(\"\\S*@\\S*\\s?\",\" \", x))        # removes emails and mentions (words with @)\n",
    "    corpus = corpus.apply(lambda x: re.sub(\"\\S*#\\S*\\s?\",\" \", x))        # removes hashtags (words with #)\n",
    "    corpus = corpus.apply(lambda x: re.sub(r'http\\S+', ' ', x))         # removes URLs\n",
    "    corpus = corpus.apply(lambda x: re.sub(r'[^a-zA-Z0-9 ]', ' ',x))    # keeps numbers and letters\n",
    "    corpus = corpus.apply(lambda x: x.replace(u'\\ufffd', '8'))          # replaces the ASCII '�' symbol with '8'\n",
    "    corpus = corpus.apply(lambda x: re.sub(' +', ' ', x))               # removes multiple spaces\n",
    "    return corpus"
   ]
  },
  {
   "cell_type": "code",
   "execution_count": 7,
   "metadata": {
    "ExecuteTime": {
     "end_time": "2022-10-14T19:43:44.775168Z",
     "start_time": "2022-10-14T19:43:44.764170Z"
    },
    "extensions": {
     "jupyter_dashboards": {
      "version": 1,
      "views": {
       "default_view": {
        "hidden": true
       }
      }
     }
    }
   },
   "outputs": [],
   "source": [
    "# Sentiment Analysis\n",
    "def get_pol(df):\n",
    "    sid = SentimentIntensityAnalyzer()\n",
    "    df['compound'] = df['comment_text'].apply(lambda comment_text:sid.polarity_scores(str(comment_text))['compound'])\n",
    "    return df"
   ]
  },
  {
   "cell_type": "code",
   "execution_count": 8,
   "metadata": {
    "ExecuteTime": {
     "end_time": "2022-10-14T19:43:44.791166Z",
     "start_time": "2022-10-14T19:43:44.780168Z"
    },
    "extensions": {
     "jupyter_dashboards": {
      "version": 1,
      "views": {
       "default_view": {
        "hidden": true
       }
      }
     }
    }
   },
   "outputs": [],
   "source": [
    "# function optimized to run on gpu \n",
    "# @jit(target_backend='cuda')    \n",
    "def sentiment_score(df):\n",
    "    df['sentiment'] = ''\n",
    "    for i,score in enumerate(df['compound']):\n",
    "        if float(score) > 0:\n",
    "            df['sentiment'][i] = 'positive'\n",
    "        elif float(score) == 0.0:\n",
    "            df['sentiment'][i] = 'neutral'\n",
    "        else:\n",
    "            df['sentiment'][i] ='negative'\n",
    "    return df"
   ]
  },
  {
   "cell_type": "code",
   "execution_count": 9,
   "metadata": {
    "ExecuteTime": {
     "end_time": "2022-10-14T19:43:44.807170Z",
     "start_time": "2022-10-14T19:43:44.798190Z"
    },
    "extensions": {
     "jupyter_dashboards": {
      "version": 1,
      "views": {
       "default_view": {
        "hidden": true
       }
      }
     }
    }
   },
   "outputs": [],
   "source": [
    "# Processing Comments\n",
    "def process_comments(data,train):\n",
    "    df = pd.DataFrame(data['sentiment'] +' '+ data['clean_text'])\n",
    "    df.columns = ['text']\n",
    "    \n",
    "    tfid = TfidfVectorizer(lowercase=False,max_features=500)\n",
    "    tfid_vect = tfid.fit_transform(train['comment_text'])\n",
    "    tfid_vect = tfid.transform(df['text'])\n",
    "    \n",
    "    \n",
    "    return tfid_vect"
   ]
  },
  {
   "cell_type": "code",
   "execution_count": 10,
   "metadata": {
    "ExecuteTime": {
     "end_time": "2022-10-14T19:43:44.823217Z",
     "start_time": "2022-10-14T19:43:44.809169Z"
    },
    "extensions": {
     "jupyter_dashboards": {
      "version": 1,
      "views": {
       "default_view": {
        "hidden": true
       }
      }
     }
    }
   },
   "outputs": [],
   "source": [
    "# Toxicity Score\n",
    "def get_predictions(tfid_vect):\n",
    "    return model.predict(tfid_vect)\n"
   ]
  },
  {
   "cell_type": "code",
   "execution_count": 11,
   "metadata": {
    "ExecuteTime": {
     "end_time": "2022-10-14T19:43:44.839172Z",
     "start_time": "2022-10-14T19:43:44.827171Z"
    },
    "extensions": {
     "jupyter_dashboards": {
      "version": 1,
      "views": {
       "default_view": {
        "hidden": true
       }
      }
     }
    }
   },
   "outputs": [],
   "source": [
    "# Assigns toxicity score on a scale of 0-5\n",
    "def get_toxic_score(data):\n",
    "    df = data[['comment_text','sentiment']]\n",
    "    df['score'] = data['severe_toxic']+data['obscene']+data['threat']+data['insult']+data['identity_hate']\n",
    "    return df"
   ]
  },
  {
   "cell_type": "code",
   "execution_count": 12,
   "metadata": {
    "ExecuteTime": {
     "end_time": "2022-10-14T19:43:44.855168Z",
     "start_time": "2022-10-14T19:43:44.842171Z"
    },
    "extensions": {
     "jupyter_dashboards": {
      "version": 1,
      "views": {
       "default_view": {
        "hidden": true
       }
      }
     }
    }
   },
   "outputs": [],
   "source": [
    "def get_results(data,prediction,score = 0,filtered = False):\n",
    "    data['Toxic_Score'] = prediction.tolist()\n",
    "    df = data.drop(['clean_text','compound'],axis = 1)\n",
    "    df['comment_text'].drop_duplicates()\n",
    "    if filtered:\n",
    "        reports = df.query('Toxic_Score' == score)\n",
    "    else:\n",
    "        reports = df.query('Toxic_Score')\n",
    "    return reports\n",
    "        "
   ]
  },
  {
   "cell_type": "code",
   "execution_count": 13,
   "metadata": {
    "ExecuteTime": {
     "end_time": "2022-10-14T19:43:44.885168Z",
     "start_time": "2022-10-14T19:43:44.859172Z"
    },
    "extensions": {
     "jupyter_dashboards": {
      "version": 1,
      "views": {
       "default_view": {
        "hidden": true
       }
      }
     }
    }
   },
   "outputs": [],
   "source": [
    "# Creates Visualizations\n",
    "out_graph = widgets.Output()\n",
    "@out_graph.capture(clear = True)\n",
    "def show_distribution(reports):\n",
    "    with out_graph:\n",
    "        sns.set()\n",
    "        fig, axes = plt.subplots(nrows = 3,figsize=(10,15))\n",
    "        word_freq = words_helper(reports)\n",
    "        order = ['negative','neutral','positive']\n",
    "        sns.countplot(x = reports[\"sentiment\"],order = order,ax= axes[0])\n",
    "        sns.barplot(x = word_freq['words'],y=word_freq['count'],ax=axes[1])\n",
    "        order2= range(6)\n",
    "        sns.countplot(x = reports[\"Toxic_Score\"],order=order2)\n",
    "        plt.show()\n",
    "\n",
    "    "
   ]
  },
  {
   "cell_type": "code",
   "execution_count": 14,
   "metadata": {
    "ExecuteTime": {
     "end_time": "2022-10-14T19:43:44.901169Z",
     "start_time": "2022-10-14T19:43:44.890171Z"
    }
   },
   "outputs": [],
   "source": [
    "# out1 = widgets.Output()\n",
    "# @out1.capture()\n",
    "def toxic_score_dist():\n",
    "#     with out1:\n",
    "        order= range(6)\n",
    "        ax1 = sns.countplot(x = reports[\"Toxic_Score\"],order=order)\n",
    "        plt.title('Distribution of Toxic Comments')\n",
    "        plt.xlabel('Toxicity Rating')\n",
    "        plt.ylabel('Count')\n",
    "        for container in ax1.containers:\n",
    "            plt.bar_label(container)\n",
    "        plt.show()\n",
    "     \n",
    "      "
   ]
  },
  {
   "cell_type": "code",
   "execution_count": 15,
   "metadata": {
    "ExecuteTime": {
     "end_time": "2022-10-14T19:43:44.917170Z",
     "start_time": "2022-10-14T19:43:44.904168Z"
    }
   },
   "outputs": [],
   "source": [
    "# out2 = widgets.Output()\n",
    "# @out2.capture()\n",
    "def sentiment_dist():\n",
    "#     with out2:\n",
    "        order = ['negative','neutral','positive']\n",
    "        sns.countplot(x = reports[\"sentiment\"],order = order)\n",
    "        plt.title('Distribution Sentiment')\n",
    "        plt.xlabel('Sentiment')\n",
    "        plt.ylabel('Count')\n",
    "        plt.show()\n",
    "\n",
    "  "
   ]
  },
  {
   "cell_type": "code",
   "execution_count": 16,
   "metadata": {
    "ExecuteTime": {
     "end_time": "2022-10-14T19:43:44.933172Z",
     "start_time": "2022-10-14T19:43:44.921172Z"
    }
   },
   "outputs": [],
   "source": [
    "# out3 = widgets.Output()\n",
    "# @out3.capture()\n",
    "def word_freq_dist(word_freq):\n",
    "#     with out3:\n",
    "        sns.barplot(x = word_freq['words'],y=word_freq['count'])\n",
    "        plt.title('Most Common Words')\n",
    "        plt.xticks(rotation=45)\n",
    "#         plt.show()\n"
   ]
  },
  {
   "cell_type": "code",
   "execution_count": 17,
   "metadata": {
    "ExecuteTime": {
     "end_time": "2022-10-14T19:43:44.949169Z",
     "start_time": "2022-10-14T19:43:44.937170Z"
    },
    "extensions": {
     "jupyter_dashboards": {
      "version": 1,
      "views": {
       "default_view": {
        "hidden": true
       }
      }
     }
    }
   },
   "outputs": [],
   "source": [
    "# Driver\n",
    "def load_comments(btn):\n",
    "    video_url = url.value\n",
    "    global data\n",
    "    global reports\n",
    "    score = 0\n",
    "    filtered = False\n",
    "    comments = get_comments(video_url)\n",
    "    data = pd.DataFrame(comments)\n",
    "    data.drop_duplicates\n",
    "    data = get_pol(data)\n",
    "    data = sentiment_score(data)\n",
    "    data['clean_text'] = apply_regex(data['comment_text'])\n",
    "    vect = process_comments(data,train)\n",
    "    prediction = get_predictions(vect)\n",
    "    reports = get_results(data,prediction,score,filtered)\n",
    "    show_distribution(reports)\n"
   ]
  },
  {
   "cell_type": "code",
   "execution_count": 18,
   "metadata": {
    "ExecuteTime": {
     "end_time": "2022-10-14T19:43:44.965170Z",
     "start_time": "2022-10-14T19:43:44.953169Z"
    },
    "extensions": {
     "jupyter_dashboards": {
      "version": 1,
      "views": {
       "default_view": {
        "hidden": true
       }
      }
     }
    }
   },
   "outputs": [],
   "source": [
    "def extreme_toxic(btn5):\n",
    "    # Report Comments with a Toxic Score of 5\n",
    "    report5 = data.drop(['compound','clean_text'],axis = 1)\n",
    "    report5 = data[data['Toxic_Score'] == 5]\n",
    "    report5.style.set_caption(\"Toxic Score:5 Reccomendation:Report Comments\")\n",
    "    display(report5)\n"
   ]
  },
  {
   "cell_type": "code",
   "execution_count": 19,
   "metadata": {
    "ExecuteTime": {
     "end_time": "2022-10-14T19:43:44.981169Z",
     "start_time": "2022-10-14T19:43:44.970171Z"
    },
    "extensions": {
     "jupyter_dashboards": {
      "version": 1,
      "views": {
       "default_view": {
        "hidden": true
       }
      }
     }
    }
   },
   "outputs": [],
   "source": [
    "# Cleans text for visualizations\n",
    "def words_helper(data):\n",
    "    for word in STOPWORDS:\n",
    "        if word not in stopwords:\n",
    "            stopwords.add(word)\n",
    "    stopwords.add('that')\n",
    "    stopwords.add('this')\n",
    "    stopwords.update\n",
    "    \n",
    "    data['clean_text'] = data['comment_text'].str.replace(\"[^a-zA-Z#]\", \" \")\n",
    "    data['clean_text'] = data['clean_text'].apply(lambda x: ' '.join([w for w in x.split() if len(w)>3]))\n",
    "    all_words = ' '.join([text for text in data['clean_text'] if text not in stopwords])    \n",
    "    \n",
    "    cnt = Counter()\n",
    "\n",
    "    wordlist = all_words.split(' ')\n",
    "\n",
    "    for word in wordlist:\n",
    "        cnt[word] += 1\n",
    "        \n",
    "    word_freq = pd.DataFrame(cnt.most_common(11),\n",
    "                             columns=['words', 'count'])\n",
    "    return word_freq\n",
    "\n"
   ]
  },
  {
   "cell_type": "code",
   "execution_count": 20,
   "metadata": {
    "ExecuteTime": {
     "end_time": "2022-10-14T19:43:45.012182Z",
     "start_time": "2022-10-14T19:43:44.985174Z"
    },
    "extensions": {
     "jupyter_dashboards": {
      "version": 1,
      "views": {
       "default_view": {
        "hidden": true
       }
      }
     }
    }
   },
   "outputs": [],
   "source": [
    "# Gets URL from user\n",
    "global url\n",
    "url = widgets.Text(\n",
    "    value='https://www.youtube.com/watch?v=aibubHq2-C8',\n",
    "    placeholder='https://www.youtube.com/watch?v=aibubHq2-C8',\n",
    "    description='Video URL:',\n",
    "    disabled=False,\n",
    "    layout=widgets.Layout(height=\"auto\")\n",
    ")\n"
   ]
  },
  {
   "cell_type": "code",
   "execution_count": 21,
   "metadata": {
    "ExecuteTime": {
     "end_time": "2022-10-14T19:43:45.044170Z",
     "start_time": "2022-10-14T19:43:45.016171Z"
    },
    "extensions": {
     "jupyter_dashboards": {
      "version": 1,
      "views": {
       "default_view": {
        "hidden": true
       }
      }
     }
    }
   },
   "outputs": [],
   "source": [
    "# Runs reports on click\n",
    "btn = widgets.Button(\n",
    "    value = '',\n",
    "    description='Get Reports',\n",
    "    disabled=False,\n",
    "    button_style='',\n",
    "    layout=widgets.Layout(height=\"auto\")\n",
    ")\n",
    "btn.on_click(load_comments)\n"
   ]
  },
  {
   "cell_type": "code",
   "execution_count": 22,
   "metadata": {
    "ExecuteTime": {
     "end_time": "2022-10-14T19:43:45.092172Z",
     "start_time": "2022-10-14T19:43:45.048171Z"
    }
   },
   "outputs": [],
   "source": [
    "dropdown_score = widgets.Dropdown(options = [('0. Nontoxic',0), ('1. Very Slightly Toxic',1) ,('2. Slightly Toxic',2),('3. Toxic',3),('4. Severely  Toxic',4),('5. Extremely Toxic',5)])\n",
    "output_score = widgets.Output()\n",
    "@output_score.capture(clear=True)\n",
    "def dropdown_score_eventhandler(change):\n",
    "    output_score.clear_output()\n",
    "    with output_score:\n",
    "        results = data.drop(['compound','clean_text'],axis = 1)\n",
    "        display(results[results.Toxic_Score == change.new])\n",
    "        \n",
    "dropdown_score.observe(dropdown_score_eventhandler, names='value')"
   ]
  },
  {
   "cell_type": "markdown",
   "metadata": {
    "tags": []
   },
   "source": [
    "# Toxic Comment Analysis"
   ]
  },
  {
   "cell_type": "code",
   "execution_count": 23,
   "metadata": {
    "ExecuteTime": {
     "end_time": "2022-10-14T19:43:45.126168Z",
     "start_time": "2022-10-14T19:43:45.096171Z"
    },
    "extensions": {
     "jupyter_dashboards": {
      "version": 1,
      "views": {
       "default_view": {
        "col": 0,
        "height": 12,
        "row": 9,
        "width": 12
       }
      }
     }
    }
   },
   "outputs": [
    {
     "data": {
      "application/vnd.jupyter.widget-view+json": {
       "model_id": "45a69f5173334b3f90d40714f75d5e3e",
       "version_major": 2,
       "version_minor": 0
      },
      "text/plain": [
       "VBox(children=(Text(value='https://www.youtube.com/watch?v=aibubHq2-C8', description='Video URL:', layout=Layo…"
      ]
     },
     "execution_count": 23,
     "metadata": {},
     "output_type": "execute_result"
    }
   ],
   "source": [
    "widgets.VBox([url,btn])"
   ]
  },
  {
   "cell_type": "code",
   "execution_count": 24,
   "metadata": {},
   "outputs": [
    {
     "data": {
      "application/vnd.jupyter.widget-view+json": {
       "model_id": "b77dca2cb6924931b8f20752031017ca",
       "version_major": 2,
       "version_minor": 0
      },
      "text/plain": [
       "Output()"
      ]
     },
     "execution_count": 24,
     "metadata": {},
     "output_type": "execute_result"
    }
   ],
   "source": [
    "out_graph"
   ]
  },
  {
   "cell_type": "code",
   "execution_count": 25,
   "metadata": {
    "ExecuteTime": {
     "end_time": "2022-10-14T19:43:45.188169Z",
     "start_time": "2022-10-14T19:43:45.162171Z"
    }
   },
   "outputs": [
    {
     "data": {
      "application/vnd.jupyter.widget-view+json": {
       "model_id": "8ee9155a370a4883aa8c057a4ed214c8",
       "version_major": 2,
       "version_minor": 0
      },
      "text/plain": [
       "Dropdown(options=(('0. Nontoxic', 0), ('1. Very Slightly Toxic', 1), ('2. Slightly Toxic', 2), ('3. Toxic', 3)…"
      ]
     },
     "metadata": {},
     "output_type": "display_data"
    }
   ],
   "source": [
    "display(dropdown_score)"
   ]
  },
  {
   "cell_type": "code",
   "execution_count": 26,
   "metadata": {
    "ExecuteTime": {
     "end_time": "2022-10-14T19:43:45.204169Z",
     "start_time": "2022-10-14T19:43:45.193173Z"
    }
   },
   "outputs": [
    {
     "data": {
      "application/vnd.jupyter.widget-view+json": {
       "model_id": "be970ee0d99c4a1eb7f7150d333a45ad",
       "version_major": 2,
       "version_minor": 0
      },
      "text/plain": [
       "Output()"
      ]
     },
     "execution_count": 26,
     "metadata": {},
     "output_type": "execute_result"
    }
   ],
   "source": [
    "output_score"
   ]
  },
  {
   "cell_type": "code",
   "execution_count": null,
   "metadata": {
    "ExecuteTime": {
     "end_time": "2022-10-11T02:17:31.526628Z",
     "start_time": "2022-10-11T02:17:31.509628Z"
    }
   },
   "outputs": [],
   "source": []
  },
  {
   "cell_type": "code",
   "execution_count": null,
   "metadata": {},
   "outputs": [],
   "source": []
  }
 ],
 "metadata": {
  "celltoolbar": "Tags",
  "extensions": {
   "jupyter_dashboards": {
    "activeView": "default_view",
    "version": 1,
    "views": {
     "default_view": {
      "cellMargin": 10,
      "defaultCellHeight": 40,
      "maxColumns": 12,
      "name": "active_view",
      "type": "grid"
     }
    }
   }
  },
  "kernelspec": {
   "display_name": "Python 3 (ipykernel)",
   "language": "python",
   "name": "python3"
  },
  "language_info": {
   "codemirror_mode": {
    "name": "ipython",
    "version": 3
   },
   "file_extension": ".py",
   "mimetype": "text/x-python",
   "name": "python",
   "nbconvert_exporter": "python",
   "pygments_lexer": "ipython3",
   "version": "3.9.13"
  },
  "notify_time": "5",
  "toc": {
   "base_numbering": 1,
   "nav_menu": {},
   "number_sections": true,
   "sideBar": true,
   "skip_h1_title": false,
   "title_cell": "Table of Contents",
   "title_sidebar": "Contents",
   "toc_cell": false,
   "toc_position": {},
   "toc_section_display": true,
   "toc_window_display": false
  },
  "varInspector": {
   "cols": {
    "lenName": 16,
    "lenType": 16,
    "lenVar": 40
   },
   "kernels_config": {
    "python": {
     "delete_cmd_postfix": "",
     "delete_cmd_prefix": "del ",
     "library": "var_list.py",
     "varRefreshCmd": "print(var_dic_list())"
    },
    "r": {
     "delete_cmd_postfix": ") ",
     "delete_cmd_prefix": "rm(",
     "library": "var_list.r",
     "varRefreshCmd": "cat(var_dic_list()) "
    }
   },
   "types_to_exclude": [
    "module",
    "function",
    "builtin_function_or_method",
    "instance",
    "_Feature"
   ],
   "window_display": false
  },
  "vscode": {
   "interpreter": {
    "hash": "3ad924ab0e6f750209d62c6e0be45c7d7a480ad612e54686796527e723bb9d1f"
   }
  },
  "widgets": {
   "application/vnd.jupyter.widget-state+json": {
    "state": {
     "019813d6a8a243b2a5bc8d222ef53e51": {
      "model_module": "@jupyter-widgets/base",
      "model_module_version": "2.0.0",
      "model_name": "LayoutModel",
      "state": {}
     },
     "0abdc5e97e124196b64630a5df46b047": {
      "model_module": "@jupyter-widgets/base",
      "model_module_version": "2.0.0",
      "model_name": "LayoutModel",
      "state": {}
     },
     "12d1e03392324dccba7f77cef1fb870b": {
      "model_module": "@jupyter-widgets/base",
      "model_module_version": "2.0.0",
      "model_name": "LayoutModel",
      "state": {}
     },
     "273beb211c94481a8f09e8f0d8807ff5": {
      "model_module": "@jupyter-widgets/base",
      "model_module_version": "2.0.0",
      "model_name": "LayoutModel",
      "state": {}
     },
     "300699373ea74e23a0ccb9b62ab3229e": {
      "model_module": "@jupyter-widgets/controls",
      "model_module_version": "2.0.0",
      "model_name": "IntSliderModel",
      "state": {
       "description": "Max Number of Case:",
       "layout": "IPY_MODEL_12d1e03392324dccba7f77cef1fb870b",
       "max": 5000,
       "min": 100,
       "style": "IPY_MODEL_82f36ae813aa4cf28b117a92497b39b4",
       "value": 1000
      }
     },
     "306f6861c4a24dc8b52f30f44bd374fc": {
      "model_module": "@jupyter-widgets/controls",
      "model_module_version": "2.0.0",
      "model_name": "VBoxModel",
      "state": {
       "_dom_classes": [
        "widget-interact"
       ],
       "children": [
        "IPY_MODEL_b041393ae7ae453daa045bde9ace3e42",
        "IPY_MODEL_9d761a72da02431e91fb8f7895ef5903"
       ],
       "layout": "IPY_MODEL_f9a813961e504acc80a67380ff406fa6"
      }
     },
     "30a5236c31ee41af883cd55e61cf2cb5": {
      "model_module": "@jupyter-widgets/base",
      "model_module_version": "2.0.0",
      "model_name": "LayoutModel",
      "state": {}
     },
     "3701bb89d3f44739a22990b8839e2e13": {
      "model_module": "@jupyter-widgets/controls",
      "model_module_version": "2.0.0",
      "model_name": "VBoxModel",
      "state": {
       "_dom_classes": [
        "widget-interact"
       ],
       "children": [
        "IPY_MODEL_a2b3d78ad40f40e0a704d87fa6a31182",
        "IPY_MODEL_f1d033e580064236b15bdfa670ba3644"
       ],
       "layout": "IPY_MODEL_98ee9fb618ca474a990cf045d0becdf7"
      }
     },
     "3efebe66dc144987b945aae82cb37926": {
      "model_module": "@jupyter-widgets/controls",
      "model_module_version": "2.0.0",
      "model_name": "VBoxModel",
      "state": {
       "_dom_classes": [
        "widget-interact"
       ],
       "layout": "IPY_MODEL_0abdc5e97e124196b64630a5df46b047"
      }
     },
     "47a473de677a4ad2b32e2628c4668013": {
      "model_module": "@jupyter-widgets/controls",
      "model_module_version": "2.0.0",
      "model_name": "ButtonStyleModel",
      "state": {
       "font_family": null,
       "font_size": null,
       "font_style": null,
       "font_variant": null,
       "font_weight": null,
       "text_color": null,
       "text_decoration": null
      }
     },
     "498d93afcfec4ea0a9240c3df55d2250": {
      "model_module": "@jupyter-widgets/controls",
      "model_module_version": "2.0.0",
      "model_name": "DescriptionStyleModel",
      "state": {
       "description_width": ""
      }
     },
     "4f03bf934a754d6f9452859d67be28d0": {
      "model_module": "@jupyter-widgets/base",
      "model_module_version": "2.0.0",
      "model_name": "LayoutModel",
      "state": {
       "display": "flex",
       "height": "80px",
       "width": "50%"
      }
     },
     "60e909533e9a4219b63c14e79c53be61": {
      "model_module": "@jupyter-widgets/base",
      "model_module_version": "2.0.0",
      "model_name": "LayoutModel",
      "state": {}
     },
     "6169a24d5d79405aaee3feb36afc825e": {
      "model_module": "@jupyter-widgets/base",
      "model_module_version": "2.0.0",
      "model_name": "LayoutModel",
      "state": {}
     },
     "624e122d37ea4462bd0aa3ac6fa9fab3": {
      "model_module": "@jupyter-widgets/base",
      "model_module_version": "2.0.0",
      "model_name": "LayoutModel",
      "state": {}
     },
     "69a7d684fcee4a97b11391b461854a89": {
      "model_module": "@jupyter-widgets/base",
      "model_module_version": "2.0.0",
      "model_name": "LayoutModel",
      "state": {
       "display": "flex",
       "height": "80px",
       "width": "50%"
      }
     },
     "6cb2a989296d42ea9c52baab6e381195": {
      "model_module": "@jupyter-widgets/base",
      "model_module_version": "2.0.0",
      "model_name": "LayoutModel",
      "state": {}
     },
     "6d4f0f95d0f0478484d75ae23309bc55": {
      "model_module": "@jupyter-widgets/output",
      "model_module_version": "1.0.0",
      "model_name": "OutputModel",
      "state": {
       "layout": "IPY_MODEL_624e122d37ea4462bd0aa3ac6fa9fab3",
       "outputs": [
        {
         "ename": "UnboundLocalError",
         "evalue": "local variable 'df' referenced before assignment",
         "output_type": "error",
         "traceback": [
          "\u001b[1;31m---------------------------------------------------------------------------\u001b[0m",
          "\u001b[1;31mUnboundLocalError\u001b[0m                         Traceback (most recent call last)",
          "File \u001b[1;32m~\\anaconda3\\envs\\Capstone2\\lib\\site-packages\\ipywidgets\\widgets\\interaction.py:257\u001b[0m, in \u001b[0;36minteractive.update\u001b[1;34m(self, *args)\u001b[0m\n\u001b[0;32m    255\u001b[0m     value \u001b[38;5;241m=\u001b[39m widget\u001b[38;5;241m.\u001b[39mget_interact_value()\n\u001b[0;32m    256\u001b[0m     \u001b[38;5;28mself\u001b[39m\u001b[38;5;241m.\u001b[39mkwargs[widget\u001b[38;5;241m.\u001b[39m_kwarg] \u001b[38;5;241m=\u001b[39m value\n\u001b[1;32m--> 257\u001b[0m \u001b[38;5;28mself\u001b[39m\u001b[38;5;241m.\u001b[39mresult \u001b[38;5;241m=\u001b[39m \u001b[38;5;28mself\u001b[39m\u001b[38;5;241m.\u001b[39mf(\u001b[38;5;241m*\u001b[39m\u001b[38;5;241m*\u001b[39m\u001b[38;5;28mself\u001b[39m\u001b[38;5;241m.\u001b[39mkwargs)\n\u001b[0;32m    258\u001b[0m show_inline_matplotlib_plots()\n\u001b[0;32m    259\u001b[0m \u001b[38;5;28;01mif\u001b[39;00m \u001b[38;5;28mself\u001b[39m\u001b[38;5;241m.\u001b[39mauto_display \u001b[38;5;129;01mand\u001b[39;00m \u001b[38;5;28mself\u001b[39m\u001b[38;5;241m.\u001b[39mresult \u001b[38;5;129;01mis\u001b[39;00m \u001b[38;5;129;01mnot\u001b[39;00m \u001b[38;5;28;01mNone\u001b[39;00m:\n",
          "Input \u001b[1;32mIn [42]\u001b[0m, in \u001b[0;36mupdate_df_length\u001b[1;34m(limit)\u001b[0m\n\u001b[0;32m      1\u001b[0m \u001b[38;5;28;01mdef\u001b[39;00m \u001b[38;5;21mupdate_df_length\u001b[39m(limit):\n\u001b[1;32m----> 4\u001b[0m     df \u001b[38;5;241m=\u001b[39m \u001b[43mdf\u001b[49m\u001b[38;5;241m.\u001b[39miloc[\u001b[38;5;241m0\u001b[39m:limit, :]\n",
          "\u001b[1;31mUnboundLocalError\u001b[0m: local variable 'df' referenced before assignment"
         ]
        }
       ]
      }
     },
     "6e2158e3260743178b5a358727532869": {
      "model_module": "@jupyter-widgets/base",
      "model_module_version": "2.0.0",
      "model_name": "LayoutModel",
      "state": {
       "height": "auto"
      }
     },
     "74ab387f7862451d84b82636837d2845": {
      "model_module": "@jupyter-widgets/controls",
      "model_module_version": "2.0.0",
      "model_name": "ButtonModel",
      "state": {
       "description": "Get Reports",
       "layout": "IPY_MODEL_6e2158e3260743178b5a358727532869",
       "style": "IPY_MODEL_47a473de677a4ad2b32e2628c4668013",
       "tooltip": null
      }
     },
     "74ad67caf138480ab628c16c7018efd3": {
      "model_module": "@jupyter-widgets/controls",
      "model_module_version": "2.0.0",
      "model_name": "DescriptionStyleModel",
      "state": {
       "description_width": ""
      }
     },
     "767c5e8b0f2645d98a61c81191f87bfa": {
      "model_module": "@jupyter-widgets/controls",
      "model_module_version": "2.0.0",
      "model_name": "SliderStyleModel",
      "state": {
       "description_width": "initial"
      }
     },
     "7ae55a7b1a914d6d8c4ddd7263179b49": {
      "model_module": "@jupyter-widgets/base",
      "model_module_version": "2.0.0",
      "model_name": "LayoutModel",
      "state": {}
     },
     "7b73dd78eadb4117874d97bb42d12c4e": {
      "model_module": "@jupyter-widgets/base",
      "model_module_version": "2.0.0",
      "model_name": "LayoutModel",
      "state": {}
     },
     "82e2c68a9c8140699dc9a946bf048d94": {
      "model_module": "@jupyter-widgets/base",
      "model_module_version": "2.0.0",
      "model_name": "LayoutModel",
      "state": {}
     },
     "82f36ae813aa4cf28b117a92497b39b4": {
      "model_module": "@jupyter-widgets/controls",
      "model_module_version": "2.0.0",
      "model_name": "SliderStyleModel",
      "state": {
       "description_width": "initial"
      }
     },
     "8854ad6bcffd4a97b420c883a0246a4d": {
      "model_module": "@jupyter-widgets/output",
      "model_module_version": "1.0.0",
      "model_name": "OutputModel",
      "state": {
       "layout": "IPY_MODEL_82e2c68a9c8140699dc9a946bf048d94",
       "outputs": [
        {
         "ename": "FileNotFoundError",
         "evalue": "[Errno 2] No such file or directory: 'SF_crimes.csv'",
         "output_type": "error",
         "traceback": [
          "\u001b[1;31m---------------------------------------------------------------------------\u001b[0m",
          "\u001b[1;31mFileNotFoundError\u001b[0m                         Traceback (most recent call last)",
          "File \u001b[1;32m~\\anaconda3\\envs\\Capstone2\\lib\\site-packages\\ipywidgets\\widgets\\interaction.py:257\u001b[0m, in \u001b[0;36minteractive.update\u001b[1;34m(self, *args)\u001b[0m\n\u001b[0;32m    255\u001b[0m     value \u001b[38;5;241m=\u001b[39m widget\u001b[38;5;241m.\u001b[39mget_interact_value()\n\u001b[0;32m    256\u001b[0m     \u001b[38;5;28mself\u001b[39m\u001b[38;5;241m.\u001b[39mkwargs[widget\u001b[38;5;241m.\u001b[39m_kwarg] \u001b[38;5;241m=\u001b[39m value\n\u001b[1;32m--> 257\u001b[0m \u001b[38;5;28mself\u001b[39m\u001b[38;5;241m.\u001b[39mresult \u001b[38;5;241m=\u001b[39m \u001b[38;5;28mself\u001b[39m\u001b[38;5;241m.\u001b[39mf(\u001b[38;5;241m*\u001b[39m\u001b[38;5;241m*\u001b[39m\u001b[38;5;28mself\u001b[39m\u001b[38;5;241m.\u001b[39mkwargs)\n\u001b[0;32m    258\u001b[0m show_inline_matplotlib_plots()\n\u001b[0;32m    259\u001b[0m \u001b[38;5;28;01mif\u001b[39;00m \u001b[38;5;28mself\u001b[39m\u001b[38;5;241m.\u001b[39mauto_display \u001b[38;5;129;01mand\u001b[39;00m \u001b[38;5;28mself\u001b[39m\u001b[38;5;241m.\u001b[39mresult \u001b[38;5;129;01mis\u001b[39;00m \u001b[38;5;129;01mnot\u001b[39;00m \u001b[38;5;28;01mNone\u001b[39;00m:\n",
          "Input \u001b[1;32mIn [35]\u001b[0m, in \u001b[0;36mupdate_df_length\u001b[1;34m(limit)\u001b[0m\n\u001b[0;32m      1\u001b[0m \u001b[38;5;28;01mdef\u001b[39;00m \u001b[38;5;21mupdate_df_length\u001b[39m(limit):\n\u001b[1;32m----> 3\u001b[0m     df \u001b[38;5;241m=\u001b[39m \u001b[43mpd\u001b[49m\u001b[38;5;241;43m.\u001b[39;49m\u001b[43mread_csv\u001b[49m\u001b[43m(\u001b[49m\u001b[38;5;124;43m'\u001b[39;49m\u001b[38;5;124;43mSF_crimes.csv\u001b[39;49m\u001b[38;5;124;43m'\u001b[39;49m\u001b[43m)\u001b[49m\n\u001b[0;32m      4\u001b[0m     df \u001b[38;5;241m=\u001b[39m df\u001b[38;5;241m.\u001b[39miloc[\u001b[38;5;241m0\u001b[39m:limit, :]\n",
          "File \u001b[1;32m~\\anaconda3\\envs\\Capstone2\\lib\\site-packages\\pandas\\util\\_decorators.py:311\u001b[0m, in \u001b[0;36mdeprecate_nonkeyword_arguments.<locals>.decorate.<locals>.wrapper\u001b[1;34m(*args, **kwargs)\u001b[0m\n\u001b[0;32m    305\u001b[0m \u001b[38;5;28;01mif\u001b[39;00m \u001b[38;5;28mlen\u001b[39m(args) \u001b[38;5;241m>\u001b[39m num_allow_args:\n\u001b[0;32m    306\u001b[0m     warnings\u001b[38;5;241m.\u001b[39mwarn(\n\u001b[0;32m    307\u001b[0m         msg\u001b[38;5;241m.\u001b[39mformat(arguments\u001b[38;5;241m=\u001b[39marguments),\n\u001b[0;32m    308\u001b[0m         \u001b[38;5;167;01mFutureWarning\u001b[39;00m,\n\u001b[0;32m    309\u001b[0m         stacklevel\u001b[38;5;241m=\u001b[39mstacklevel,\n\u001b[0;32m    310\u001b[0m     )\n\u001b[1;32m--> 311\u001b[0m \u001b[38;5;28;01mreturn\u001b[39;00m func(\u001b[38;5;241m*\u001b[39margs, \u001b[38;5;241m*\u001b[39m\u001b[38;5;241m*\u001b[39mkwargs)\n",
          "File \u001b[1;32m~\\anaconda3\\envs\\Capstone2\\lib\\site-packages\\pandas\\io\\parsers\\readers.py:678\u001b[0m, in \u001b[0;36mread_csv\u001b[1;34m(filepath_or_buffer, sep, delimiter, header, names, index_col, usecols, squeeze, prefix, mangle_dupe_cols, dtype, engine, converters, true_values, false_values, skipinitialspace, skiprows, skipfooter, nrows, na_values, keep_default_na, na_filter, verbose, skip_blank_lines, parse_dates, infer_datetime_format, keep_date_col, date_parser, dayfirst, cache_dates, iterator, chunksize, compression, thousands, decimal, lineterminator, quotechar, quoting, doublequote, escapechar, comment, encoding, encoding_errors, dialect, error_bad_lines, warn_bad_lines, on_bad_lines, delim_whitespace, low_memory, memory_map, float_precision, storage_options)\u001b[0m\n\u001b[0;32m    663\u001b[0m kwds_defaults \u001b[38;5;241m=\u001b[39m _refine_defaults_read(\n\u001b[0;32m    664\u001b[0m     dialect,\n\u001b[0;32m    665\u001b[0m     delimiter,\n\u001b[1;32m   (...)\u001b[0m\n\u001b[0;32m    674\u001b[0m     defaults\u001b[38;5;241m=\u001b[39m{\u001b[38;5;124m\"\u001b[39m\u001b[38;5;124mdelimiter\u001b[39m\u001b[38;5;124m\"\u001b[39m: \u001b[38;5;124m\"\u001b[39m\u001b[38;5;124m,\u001b[39m\u001b[38;5;124m\"\u001b[39m},\n\u001b[0;32m    675\u001b[0m )\n\u001b[0;32m    676\u001b[0m kwds\u001b[38;5;241m.\u001b[39mupdate(kwds_defaults)\n\u001b[1;32m--> 678\u001b[0m \u001b[38;5;28;01mreturn\u001b[39;00m \u001b[43m_read\u001b[49m\u001b[43m(\u001b[49m\u001b[43mfilepath_or_buffer\u001b[49m\u001b[43m,\u001b[49m\u001b[43m \u001b[49m\u001b[43mkwds\u001b[49m\u001b[43m)\u001b[49m\n",
          "File \u001b[1;32m~\\anaconda3\\envs\\Capstone2\\lib\\site-packages\\pandas\\io\\parsers\\readers.py:575\u001b[0m, in \u001b[0;36m_read\u001b[1;34m(filepath_or_buffer, kwds)\u001b[0m\n\u001b[0;32m    572\u001b[0m _validate_names(kwds\u001b[38;5;241m.\u001b[39mget(\u001b[38;5;124m\"\u001b[39m\u001b[38;5;124mnames\u001b[39m\u001b[38;5;124m\"\u001b[39m, \u001b[38;5;28;01mNone\u001b[39;00m))\n\u001b[0;32m    574\u001b[0m \u001b[38;5;66;03m# Create the parser.\u001b[39;00m\n\u001b[1;32m--> 575\u001b[0m parser \u001b[38;5;241m=\u001b[39m TextFileReader(filepath_or_buffer, \u001b[38;5;241m*\u001b[39m\u001b[38;5;241m*\u001b[39mkwds)\n\u001b[0;32m    577\u001b[0m \u001b[38;5;28;01mif\u001b[39;00m chunksize \u001b[38;5;129;01mor\u001b[39;00m iterator:\n\u001b[0;32m    578\u001b[0m     \u001b[38;5;28;01mreturn\u001b[39;00m parser\n",
          "File \u001b[1;32m~\\anaconda3\\envs\\Capstone2\\lib\\site-packages\\pandas\\io\\parsers\\readers.py:932\u001b[0m, in \u001b[0;36mTextFileReader.__init__\u001b[1;34m(self, f, engine, **kwds)\u001b[0m\n\u001b[0;32m    929\u001b[0m     \u001b[38;5;28mself\u001b[39m\u001b[38;5;241m.\u001b[39moptions[\u001b[38;5;124m\"\u001b[39m\u001b[38;5;124mhas_index_names\u001b[39m\u001b[38;5;124m\"\u001b[39m] \u001b[38;5;241m=\u001b[39m kwds[\u001b[38;5;124m\"\u001b[39m\u001b[38;5;124mhas_index_names\u001b[39m\u001b[38;5;124m\"\u001b[39m]\n\u001b[0;32m    931\u001b[0m \u001b[38;5;28mself\u001b[39m\u001b[38;5;241m.\u001b[39mhandles: IOHandles \u001b[38;5;241m|\u001b[39m \u001b[38;5;28;01mNone\u001b[39;00m \u001b[38;5;241m=\u001b[39m \u001b[38;5;28;01mNone\u001b[39;00m\n\u001b[1;32m--> 932\u001b[0m \u001b[38;5;28mself\u001b[39m\u001b[38;5;241m.\u001b[39m_engine \u001b[38;5;241m=\u001b[39m \u001b[38;5;28;43mself\u001b[39;49m\u001b[38;5;241;43m.\u001b[39;49m\u001b[43m_make_engine\u001b[49m\u001b[43m(\u001b[49m\u001b[43mf\u001b[49m\u001b[43m,\u001b[49m\u001b[43m \u001b[49m\u001b[38;5;28;43mself\u001b[39;49m\u001b[38;5;241;43m.\u001b[39;49m\u001b[43mengine\u001b[49m\u001b[43m)\u001b[49m\n",
          "File \u001b[1;32m~\\anaconda3\\envs\\Capstone2\\lib\\site-packages\\pandas\\io\\parsers\\readers.py:1216\u001b[0m, in \u001b[0;36mTextFileReader._make_engine\u001b[1;34m(self, f, engine)\u001b[0m\n\u001b[0;32m   1212\u001b[0m     mode \u001b[38;5;241m=\u001b[39m \u001b[38;5;124m\"\u001b[39m\u001b[38;5;124mrb\u001b[39m\u001b[38;5;124m\"\u001b[39m\n\u001b[0;32m   1213\u001b[0m \u001b[38;5;66;03m# error: No overload variant of \"get_handle\" matches argument types\u001b[39;00m\n\u001b[0;32m   1214\u001b[0m \u001b[38;5;66;03m# \"Union[str, PathLike[str], ReadCsvBuffer[bytes], ReadCsvBuffer[str]]\"\u001b[39;00m\n\u001b[0;32m   1215\u001b[0m \u001b[38;5;66;03m# , \"str\", \"bool\", \"Any\", \"Any\", \"Any\", \"Any\", \"Any\"\u001b[39;00m\n\u001b[1;32m-> 1216\u001b[0m \u001b[38;5;28mself\u001b[39m\u001b[38;5;241m.\u001b[39mhandles \u001b[38;5;241m=\u001b[39m \u001b[43mget_handle\u001b[49m\u001b[43m(\u001b[49m\u001b[43m  \u001b[49m\u001b[38;5;66;43;03m# type: ignore[call-overload]\u001b[39;49;00m\n\u001b[0;32m   1217\u001b[0m \u001b[43m    \u001b[49m\u001b[43mf\u001b[49m\u001b[43m,\u001b[49m\n\u001b[0;32m   1218\u001b[0m \u001b[43m    \u001b[49m\u001b[43mmode\u001b[49m\u001b[43m,\u001b[49m\n\u001b[0;32m   1219\u001b[0m \u001b[43m    \u001b[49m\u001b[43mencoding\u001b[49m\u001b[38;5;241;43m=\u001b[39;49m\u001b[38;5;28;43mself\u001b[39;49m\u001b[38;5;241;43m.\u001b[39;49m\u001b[43moptions\u001b[49m\u001b[38;5;241;43m.\u001b[39;49m\u001b[43mget\u001b[49m\u001b[43m(\u001b[49m\u001b[38;5;124;43m\"\u001b[39;49m\u001b[38;5;124;43mencoding\u001b[39;49m\u001b[38;5;124;43m\"\u001b[39;49m\u001b[43m,\u001b[49m\u001b[43m \u001b[49m\u001b[38;5;28;43;01mNone\u001b[39;49;00m\u001b[43m)\u001b[49m\u001b[43m,\u001b[49m\n\u001b[0;32m   1220\u001b[0m \u001b[43m    \u001b[49m\u001b[43mcompression\u001b[49m\u001b[38;5;241;43m=\u001b[39;49m\u001b[38;5;28;43mself\u001b[39;49m\u001b[38;5;241;43m.\u001b[39;49m\u001b[43moptions\u001b[49m\u001b[38;5;241;43m.\u001b[39;49m\u001b[43mget\u001b[49m\u001b[43m(\u001b[49m\u001b[38;5;124;43m\"\u001b[39;49m\u001b[38;5;124;43mcompression\u001b[39;49m\u001b[38;5;124;43m\"\u001b[39;49m\u001b[43m,\u001b[49m\u001b[43m \u001b[49m\u001b[38;5;28;43;01mNone\u001b[39;49;00m\u001b[43m)\u001b[49m\u001b[43m,\u001b[49m\n\u001b[0;32m   1221\u001b[0m \u001b[43m    \u001b[49m\u001b[43mmemory_map\u001b[49m\u001b[38;5;241;43m=\u001b[39;49m\u001b[38;5;28;43mself\u001b[39;49m\u001b[38;5;241;43m.\u001b[39;49m\u001b[43moptions\u001b[49m\u001b[38;5;241;43m.\u001b[39;49m\u001b[43mget\u001b[49m\u001b[43m(\u001b[49m\u001b[38;5;124;43m\"\u001b[39;49m\u001b[38;5;124;43mmemory_map\u001b[39;49m\u001b[38;5;124;43m\"\u001b[39;49m\u001b[43m,\u001b[49m\u001b[43m \u001b[49m\u001b[38;5;28;43;01mFalse\u001b[39;49;00m\u001b[43m)\u001b[49m\u001b[43m,\u001b[49m\n\u001b[0;32m   1222\u001b[0m \u001b[43m    \u001b[49m\u001b[43mis_text\u001b[49m\u001b[38;5;241;43m=\u001b[39;49m\u001b[43mis_text\u001b[49m\u001b[43m,\u001b[49m\n\u001b[0;32m   1223\u001b[0m \u001b[43m    \u001b[49m\u001b[43merrors\u001b[49m\u001b[38;5;241;43m=\u001b[39;49m\u001b[38;5;28;43mself\u001b[39;49m\u001b[38;5;241;43m.\u001b[39;49m\u001b[43moptions\u001b[49m\u001b[38;5;241;43m.\u001b[39;49m\u001b[43mget\u001b[49m\u001b[43m(\u001b[49m\u001b[38;5;124;43m\"\u001b[39;49m\u001b[38;5;124;43mencoding_errors\u001b[39;49m\u001b[38;5;124;43m\"\u001b[39;49m\u001b[43m,\u001b[49m\u001b[43m \u001b[49m\u001b[38;5;124;43m\"\u001b[39;49m\u001b[38;5;124;43mstrict\u001b[39;49m\u001b[38;5;124;43m\"\u001b[39;49m\u001b[43m)\u001b[49m\u001b[43m,\u001b[49m\n\u001b[0;32m   1224\u001b[0m \u001b[43m    \u001b[49m\u001b[43mstorage_options\u001b[49m\u001b[38;5;241;43m=\u001b[39;49m\u001b[38;5;28;43mself\u001b[39;49m\u001b[38;5;241;43m.\u001b[39;49m\u001b[43moptions\u001b[49m\u001b[38;5;241;43m.\u001b[39;49m\u001b[43mget\u001b[49m\u001b[43m(\u001b[49m\u001b[38;5;124;43m\"\u001b[39;49m\u001b[38;5;124;43mstorage_options\u001b[39;49m\u001b[38;5;124;43m\"\u001b[39;49m\u001b[43m,\u001b[49m\u001b[43m \u001b[49m\u001b[38;5;28;43;01mNone\u001b[39;49;00m\u001b[43m)\u001b[49m\u001b[43m,\u001b[49m\n\u001b[0;32m   1225\u001b[0m \u001b[43m\u001b[49m\u001b[43m)\u001b[49m\n\u001b[0;32m   1226\u001b[0m \u001b[38;5;28;01massert\u001b[39;00m \u001b[38;5;28mself\u001b[39m\u001b[38;5;241m.\u001b[39mhandles \u001b[38;5;129;01mis\u001b[39;00m \u001b[38;5;129;01mnot\u001b[39;00m \u001b[38;5;28;01mNone\u001b[39;00m\n\u001b[0;32m   1227\u001b[0m f \u001b[38;5;241m=\u001b[39m \u001b[38;5;28mself\u001b[39m\u001b[38;5;241m.\u001b[39mhandles\u001b[38;5;241m.\u001b[39mhandle\n",
          "File \u001b[1;32m~\\anaconda3\\envs\\Capstone2\\lib\\site-packages\\pandas\\io\\common.py:786\u001b[0m, in \u001b[0;36mget_handle\u001b[1;34m(path_or_buf, mode, encoding, compression, memory_map, is_text, errors, storage_options)\u001b[0m\n\u001b[0;32m    781\u001b[0m \u001b[38;5;28;01melif\u001b[39;00m \u001b[38;5;28misinstance\u001b[39m(handle, \u001b[38;5;28mstr\u001b[39m):\n\u001b[0;32m    782\u001b[0m     \u001b[38;5;66;03m# Check whether the filename is to be opened in binary mode.\u001b[39;00m\n\u001b[0;32m    783\u001b[0m     \u001b[38;5;66;03m# Binary mode does not support 'encoding' and 'newline'.\u001b[39;00m\n\u001b[0;32m    784\u001b[0m     \u001b[38;5;28;01mif\u001b[39;00m ioargs\u001b[38;5;241m.\u001b[39mencoding \u001b[38;5;129;01mand\u001b[39;00m \u001b[38;5;124m\"\u001b[39m\u001b[38;5;124mb\u001b[39m\u001b[38;5;124m\"\u001b[39m \u001b[38;5;129;01mnot\u001b[39;00m \u001b[38;5;129;01min\u001b[39;00m ioargs\u001b[38;5;241m.\u001b[39mmode:\n\u001b[0;32m    785\u001b[0m         \u001b[38;5;66;03m# Encoding\u001b[39;00m\n\u001b[1;32m--> 786\u001b[0m         handle \u001b[38;5;241m=\u001b[39m \u001b[38;5;28;43mopen\u001b[39;49m\u001b[43m(\u001b[49m\n\u001b[0;32m    787\u001b[0m \u001b[43m            \u001b[49m\u001b[43mhandle\u001b[49m\u001b[43m,\u001b[49m\n\u001b[0;32m    788\u001b[0m \u001b[43m            \u001b[49m\u001b[43mioargs\u001b[49m\u001b[38;5;241;43m.\u001b[39;49m\u001b[43mmode\u001b[49m\u001b[43m,\u001b[49m\n\u001b[0;32m    789\u001b[0m \u001b[43m            \u001b[49m\u001b[43mencoding\u001b[49m\u001b[38;5;241;43m=\u001b[39;49m\u001b[43mioargs\u001b[49m\u001b[38;5;241;43m.\u001b[39;49m\u001b[43mencoding\u001b[49m\u001b[43m,\u001b[49m\n\u001b[0;32m    790\u001b[0m \u001b[43m            \u001b[49m\u001b[43merrors\u001b[49m\u001b[38;5;241;43m=\u001b[39;49m\u001b[43merrors\u001b[49m\u001b[43m,\u001b[49m\n\u001b[0;32m    791\u001b[0m \u001b[43m            \u001b[49m\u001b[43mnewline\u001b[49m\u001b[38;5;241;43m=\u001b[39;49m\u001b[38;5;124;43m\"\u001b[39;49m\u001b[38;5;124;43m\"\u001b[39;49m\u001b[43m,\u001b[49m\n\u001b[0;32m    792\u001b[0m \u001b[43m        \u001b[49m\u001b[43m)\u001b[49m\n\u001b[0;32m    793\u001b[0m     \u001b[38;5;28;01melse\u001b[39;00m:\n\u001b[0;32m    794\u001b[0m         \u001b[38;5;66;03m# Binary mode\u001b[39;00m\n\u001b[0;32m    795\u001b[0m         handle \u001b[38;5;241m=\u001b[39m \u001b[38;5;28mopen\u001b[39m(handle, ioargs\u001b[38;5;241m.\u001b[39mmode)\n",
          "\u001b[1;31mFileNotFoundError\u001b[0m: [Errno 2] No such file or directory: 'SF_crimes.csv'"
         ]
        }
       ]
      }
     },
     "925180d2edcf4b20bcc50f7692edda60": {
      "model_module": "@jupyter-widgets/base",
      "model_module_version": "2.0.0",
      "model_name": "LayoutModel",
      "state": {}
     },
     "98ee9fb618ca474a990cf045d0becdf7": {
      "model_module": "@jupyter-widgets/base",
      "model_module_version": "2.0.0",
      "model_name": "LayoutModel",
      "state": {}
     },
     "9adba0cd23ae4ab691bb75fbd8bae231": {
      "model_module": "@jupyter-widgets/controls",
      "model_module_version": "2.0.0",
      "model_name": "SliderStyleModel",
      "state": {
       "description_width": "initial"
      }
     },
     "9d761a72da02431e91fb8f7895ef5903": {
      "model_module": "@jupyter-widgets/output",
      "model_module_version": "1.0.0",
      "model_name": "OutputModel",
      "state": {
       "layout": "IPY_MODEL_60e909533e9a4219b63c14e79c53be61",
       "outputs": [
        {
         "ename": "UnboundLocalError",
         "evalue": "local variable 'df' referenced before assignment",
         "output_type": "error",
         "traceback": [
          "\u001b[1;31m---------------------------------------------------------------------------\u001b[0m",
          "\u001b[1;31mUnboundLocalError\u001b[0m                         Traceback (most recent call last)",
          "File \u001b[1;32m~\\anaconda3\\envs\\Capstone2\\lib\\site-packages\\ipywidgets\\widgets\\interaction.py:257\u001b[0m, in \u001b[0;36minteractive.update\u001b[1;34m(self, *args)\u001b[0m\n\u001b[0;32m    255\u001b[0m     value \u001b[38;5;241m=\u001b[39m widget\u001b[38;5;241m.\u001b[39mget_interact_value()\n\u001b[0;32m    256\u001b[0m     \u001b[38;5;28mself\u001b[39m\u001b[38;5;241m.\u001b[39mkwargs[widget\u001b[38;5;241m.\u001b[39m_kwarg] \u001b[38;5;241m=\u001b[39m value\n\u001b[1;32m--> 257\u001b[0m \u001b[38;5;28mself\u001b[39m\u001b[38;5;241m.\u001b[39mresult \u001b[38;5;241m=\u001b[39m \u001b[38;5;28mself\u001b[39m\u001b[38;5;241m.\u001b[39mf(\u001b[38;5;241m*\u001b[39m\u001b[38;5;241m*\u001b[39m\u001b[38;5;28mself\u001b[39m\u001b[38;5;241m.\u001b[39mkwargs)\n\u001b[0;32m    258\u001b[0m show_inline_matplotlib_plots()\n\u001b[0;32m    259\u001b[0m \u001b[38;5;28;01mif\u001b[39;00m \u001b[38;5;28mself\u001b[39m\u001b[38;5;241m.\u001b[39mauto_display \u001b[38;5;129;01mand\u001b[39;00m \u001b[38;5;28mself\u001b[39m\u001b[38;5;241m.\u001b[39mresult \u001b[38;5;129;01mis\u001b[39;00m \u001b[38;5;129;01mnot\u001b[39;00m \u001b[38;5;28;01mNone\u001b[39;00m:\n",
          "Input \u001b[1;32mIn [38]\u001b[0m, in \u001b[0;36mupdate_df_length\u001b[1;34m(limit)\u001b[0m\n\u001b[0;32m      1\u001b[0m \u001b[38;5;28;01mdef\u001b[39;00m \u001b[38;5;21mupdate_df_length\u001b[39m(limit):\n\u001b[1;32m----> 4\u001b[0m     df \u001b[38;5;241m=\u001b[39m \u001b[43mdf\u001b[49m\u001b[38;5;241m.\u001b[39miloc[\u001b[38;5;241m0\u001b[39m:limit, :]\n",
          "\u001b[1;31mUnboundLocalError\u001b[0m: local variable 'df' referenced before assignment"
         ]
        }
       ]
      }
     },
     "a2b3d78ad40f40e0a704d87fa6a31182": {
      "model_module": "@jupyter-widgets/controls",
      "model_module_version": "2.0.0",
      "model_name": "IntSliderModel",
      "state": {
       "description": "Toxic Comments:",
       "layout": "IPY_MODEL_e257d770877d4e3a96ba751073b0fe4c",
       "max": 5000,
       "min": 100,
       "style": "IPY_MODEL_767c5e8b0f2645d98a61c81191f87bfa",
       "value": 1000
      }
     },
     "a2fd98eaa64b476cacf206ec1b7c1571": {
      "model_module": "@jupyter-widgets/controls",
      "model_module_version": "2.0.0",
      "model_name": "VBoxModel",
      "state": {
       "_dom_classes": [
        "widget-interact"
       ],
       "children": [
        "IPY_MODEL_300699373ea74e23a0ccb9b62ab3229e",
        "IPY_MODEL_6d4f0f95d0f0478484d75ae23309bc55"
       ],
       "layout": "IPY_MODEL_7b73dd78eadb4117874d97bb42d12c4e"
      }
     },
     "a5d317b9a2c14e008c63ebccc7c837e8": {
      "model_module": "@jupyter-widgets/base",
      "model_module_version": "2.0.0",
      "model_name": "LayoutModel",
      "state": {
       "display": "flex",
       "height": "80px",
       "width": "50%"
      }
     },
     "a8abf67f1efc4e91b2ca656ec8168edd": {
      "model_module": "@jupyter-widgets/controls",
      "model_module_version": "2.0.0",
      "model_name": "IntSliderModel",
      "state": {
       "description": "Max Number of Case:",
       "layout": "IPY_MODEL_c917dbdd76b14903b632fd12d54f4257",
       "max": 5000,
       "min": 100,
       "style": "IPY_MODEL_9adba0cd23ae4ab691bb75fbd8bae231",
       "value": 1210
      }
     },
     "b041393ae7ae453daa045bde9ace3e42": {
      "model_module": "@jupyter-widgets/controls",
      "model_module_version": "2.0.0",
      "model_name": "IntSliderModel",
      "state": {
       "description": "Max Number of Case:",
       "layout": "IPY_MODEL_30a5236c31ee41af883cd55e61cf2cb5",
       "max": 5000,
       "min": 100,
       "style": "IPY_MODEL_c170b3d523d444e4a58941e6eebe055e",
       "value": 1000
      }
     },
     "b604f18470bf4a7fb5762b35d4e16ea2": {
      "model_module": "@jupyter-widgets/base",
      "model_module_version": "2.0.0",
      "model_name": "LayoutModel",
      "state": {}
     },
     "b8d4b5ab72d64ebf98a70156d83eafe1": {
      "model_module": "@jupyter-widgets/controls",
      "model_module_version": "2.0.0",
      "model_name": "DescriptionStyleModel",
      "state": {
       "description_width": ""
      }
     },
     "bff9ffec118d488a81ef2516fa1099f2": {
      "model_module": "@jupyter-widgets/output",
      "model_module_version": "1.0.0",
      "model_name": "OutputModel",
      "state": {
       "layout": "IPY_MODEL_019813d6a8a243b2a5bc8d222ef53e51",
       "outputs": [
        {
         "data": {
          "image/png": "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\n",
          "text/plain": "<Figure size 1000x1500 with 3 Axes>"
         },
         "metadata": {},
         "output_type": "display_data"
        }
       ]
      }
     },
     "c12c6bd5c6d340699efe1a4c126b2136": {
      "model_module": "@jupyter-widgets/output",
      "model_module_version": "1.0.0",
      "model_name": "OutputModel",
      "state": {
       "layout": "IPY_MODEL_6cb2a989296d42ea9c52baab6e381195"
      }
     },
     "c170b3d523d444e4a58941e6eebe055e": {
      "model_module": "@jupyter-widgets/controls",
      "model_module_version": "2.0.0",
      "model_name": "SliderStyleModel",
      "state": {
       "description_width": "initial"
      }
     },
     "c291178547b8492fa46a583e65b1aea0": {
      "model_module": "@jupyter-widgets/controls",
      "model_module_version": "2.0.0",
      "model_name": "SelectMultipleModel",
      "state": {
       "_options_labels": [
        "0",
        "1",
        "2",
        "3",
        "4",
        "5"
       ],
       "description": "District",
       "index": [],
       "layout": "IPY_MODEL_69a7d684fcee4a97b11391b461854a89",
       "rows": 5,
       "style": "IPY_MODEL_74ad67caf138480ab628c16c7018efd3"
      }
     },
     "c917dbdd76b14903b632fd12d54f4257": {
      "model_module": "@jupyter-widgets/base",
      "model_module_version": "2.0.0",
      "model_name": "LayoutModel",
      "state": {}
     },
     "c97190c2425545e6b9b6167e9b1964ff": {
      "model_module": "@jupyter-widgets/base",
      "model_module_version": "2.0.0",
      "model_name": "LayoutModel",
      "state": {
       "display": "flex",
       "height": "80px",
       "width": "50%"
      }
     },
     "ca85044ff7b04674ba797ffff4455483": {
      "model_module": "@jupyter-widgets/output",
      "model_module_version": "1.0.0",
      "model_name": "OutputModel",
      "state": {
       "layout": "IPY_MODEL_273beb211c94481a8f09e8f0d8807ff5",
       "outputs": [
        {
         "data": {
          "text/html": "<div>\n<style scoped>\n    .dataframe tbody tr th:only-of-type {\n        vertical-align: middle;\n    }\n\n    .dataframe tbody tr th {\n        vertical-align: top;\n    }\n\n    .dataframe thead th {\n        text-align: right;\n    }\n</style>\n<table border=\"1\" class=\"dataframe\">\n  <thead>\n    <tr style=\"text-align: right;\">\n      <th></th>\n      <th>comment_id</th>\n      <th>comment_text</th>\n      <th>time</th>\n      <th>author</th>\n      <th>sentiment</th>\n      <th>Toxic_Score</th>\n    </tr>\n  </thead>\n  <tbody>\n    <tr>\n      <th>2</th>\n      <td>UgxuF3dEXZ_hADNejwd4AaABAg</td>\n      <td>My seven year old niece was with us at the county fair and saw an adorable service dog, she walked over to the lady and said \"Ma'am, I know that I can't pet your dog now, but I want you to know they are very pretty and can you give them pets for me when you get home?\" The woman told her she would and thanked her for not just petting.</td>\n      <td>10 days ago</td>\n      <td>kagomebenihime</td>\n      <td>positive</td>\n      <td>1</td>\n    </tr>\n    <tr>\n      <th>4</th>\n      <td>Ugz5qV2jfXgSj01eTph4AaABAg</td>\n      <td>What I hate is that sometimes, there are legit reasons to ask for a manager but Karens have ruined it for us 🤦🏻‍♀️</td>\n      <td>10 days ago</td>\n      <td>A S</td>\n      <td>negative</td>\n      <td>1</td>\n    </tr>\n    <tr>\n      <th>10</th>\n      <td>UgzAzKwqIXy4BQFukdl4AaABAg</td>\n      <td>BTW, Karen, when you \"call corporate,\" they might sweet talk you, but they care even less than we do and just want you to get off their phone line. 😁</td>\n      <td>10 days ago</td>\n      <td>Moonyfruit</td>\n      <td>positive</td>\n      <td>1</td>\n    </tr>\n    <tr>\n      <th>11</th>\n      <td>Ugwcc66NghpetQt5mNt4AaABAg</td>\n      <td>As someone who worked as a cashier at a grocery store, the Karen who complained to the cashier about being tired and not wanting to count her items made me roll my eyes so hard.\\n\\nWe're tired too, lady! I had to stand in one spot for almost 8 hours straight at my job</td>\n      <td>10 days ago (edited)</td>\n      <td>Caiti ♡</td>\n      <td>negative</td>\n      <td>1</td>\n    </tr>\n    <tr>\n      <th>18</th>\n      <td>UgxRUg8XlVePIWmoY2F4AaABAg</td>\n      <td>Not gonna lie. My grandma is a Karan and she started her yelling and putting down the employees at Wal-Mart. I was so embarrassed so I spoke up to my grandma. She tried to state she was in the right. I flat out told her \"look stop your crap. It's not their fault your having a bad day. If you have nothing nice to say then don't say anything at all.\" She hadn't done it since.</td>\n      <td>11 days ago</td>\n      <td>Brittney Stare</td>\n      <td>negative</td>\n      <td>1</td>\n    </tr>\n    <tr>\n      <th>...</th>\n      <td>...</td>\n      <td>...</td>\n      <td>...</td>\n      <td>...</td>\n      <td>...</td>\n      <td>...</td>\n    </tr>\n    <tr>\n      <th>2175</th>\n      <td>UgyqQJbCtuwHli9kM714AaABAg</td>\n      <td>someone at Walmart tried to pet my service dog and I yelled at them to not put them, yeah, I don't mess with me on my service dog, you'll see them mean part of me come out</td>\n      <td>11 days ago</td>\n      <td>bailee frease</td>\n      <td>positive</td>\n      <td>1</td>\n    </tr>\n    <tr>\n      <th>2181</th>\n      <td>UgyG_dai7Am5LgyUJUN4AaABAg</td>\n      <td>Someone who ask the person infront of them if they can hold thier spot. And person said yes and come back to the spot where she was at.  Happen very often where I live</td>\n      <td>11 days ago</td>\n      <td>Claudia G.Ruiz</td>\n      <td>positive</td>\n      <td>1</td>\n    </tr>\n    <tr>\n      <th>2185</th>\n      <td>Ugy5ZxerNouGcFpXBhd4AaABAg</td>\n      <td>I have tried people stealing from my cart because they were too lazy to find their own groceries</td>\n      <td>11 days ago</td>\n      <td>VRStoned78</td>\n      <td>negative</td>\n      <td>1</td>\n    </tr>\n    <tr>\n      <th>2186</th>\n      <td>Ugy_PDSu87pF8QRFVfl4AaABAg</td>\n      <td>How these ppl can live in normal world🤣🤣🤣🤣</td>\n      <td>11 days ago</td>\n      <td>hannavuorio83</td>\n      <td>neutral</td>\n      <td>1</td>\n    </tr>\n    <tr>\n      <th>2203</th>\n      <td>UgzOoz_Lun4mjoS81Bt4AaABAg</td>\n      <td>Makes me when they threaten to never come back to the store. Good! Do the staff a favour and don’t come back! They don’t want you back!</td>\n      <td>11 days ago</td>\n      <td>Hayley</td>\n      <td>positive</td>\n      <td>1</td>\n    </tr>\n  </tbody>\n</table>\n<p>264 rows × 6 columns</p>\n</div>",
          "text/plain": "                      comment_id  \\\n2     UgxuF3dEXZ_hADNejwd4AaABAg   \n4     Ugz5qV2jfXgSj01eTph4AaABAg   \n10    UgzAzKwqIXy4BQFukdl4AaABAg   \n11    Ugwcc66NghpetQt5mNt4AaABAg   \n18    UgxRUg8XlVePIWmoY2F4AaABAg   \n...                          ...   \n2175  UgyqQJbCtuwHli9kM714AaABAg   \n2181  UgyG_dai7Am5LgyUJUN4AaABAg   \n2185  Ugy5ZxerNouGcFpXBhd4AaABAg   \n2186  Ugy_PDSu87pF8QRFVfl4AaABAg   \n2203  UgzOoz_Lun4mjoS81Bt4AaABAg   \n\n                                                                                                                                                                                                                                                                                                                                                                                  comment_text  \\\n2                                              My seven year old niece was with us at the county fair and saw an adorable service dog, she walked over to the lady and said \"Ma'am, I know that I can't pet your dog now, but I want you to know they are very pretty and can you give them pets for me when you get home?\" The woman told her she would and thanked her for not just petting.   \n4                                                                                                                                                                                                                                                                           What I hate is that sometimes, there are legit reasons to ask for a manager but Karens have ruined it for us 🤦🏻‍♀️   \n10                                                                                                                                                                                                                                       BTW, Karen, when you \"call corporate,\" they might sweet talk you, but they care even less than we do and just want you to get off their phone line. 😁   \n11                                                                                                                As someone who worked as a cashier at a grocery store, the Karen who complained to the cashier about being tired and not wanting to count her items made me roll my eyes so hard.\\n\\nWe're tired too, lady! I had to stand in one spot for almost 8 hours straight at my job   \n18    Not gonna lie. My grandma is a Karan and she started her yelling and putting down the employees at Wal-Mart. I was so embarrassed so I spoke up to my grandma. She tried to state she was in the right. I flat out told her \"look stop your crap. It's not their fault your having a bad day. If you have nothing nice to say then don't say anything at all.\" She hadn't done it since.   \n...                                                                                                                                                                                                                                                                                                                                                                                        ...   \n2175                                                                                                                                                                                                               someone at Walmart tried to pet my service dog and I yelled at them to not put them, yeah, I don't mess with me on my service dog, you'll see them mean part of me come out   \n2181                                                                                                                                                                                                                   Someone who ask the person infront of them if they can hold thier spot. And person said yes and come back to the spot where she was at.  Happen very often where I live   \n2185                                                                                                                                                                                                                                                                                          I have tried people stealing from my cart because they were too lazy to find their own groceries   \n2186                                                                                                                                                                                                                                                                                                                                                How these ppl can live in normal world🤣🤣🤣🤣   \n2203                                                                                                                                                                                                                                                   Makes me when they threaten to never come back to the store. Good! Do the staff a favour and don’t come back! They don’t want you back!   \n\n                      time          author sentiment  Toxic_Score  \n2              10 days ago  kagomebenihime  positive            1  \n4              10 days ago             A S  negative            1  \n10             10 days ago      Moonyfruit  positive            1  \n11    10 days ago (edited)         Caiti ♡  negative            1  \n18             11 days ago  Brittney Stare  negative            1  \n...                    ...             ...       ...          ...  \n2175           11 days ago   bailee frease  positive            1  \n2181           11 days ago  Claudia G.Ruiz  positive            1  \n2185           11 days ago      VRStoned78  negative            1  \n2186           11 days ago   hannavuorio83   neutral            1  \n2203           11 days ago          Hayley  positive            1  \n\n[264 rows x 6 columns]"
         },
         "metadata": {},
         "output_type": "display_data"
        }
       ]
      }
     },
     "cffda62e0c2d4889b4e7b01d90274693": {
      "model_module": "@jupyter-widgets/controls",
      "model_module_version": "2.0.0",
      "model_name": "VBoxModel",
      "state": {
       "_dom_classes": [
        "widget-interact"
       ],
       "children": [
        "IPY_MODEL_a8abf67f1efc4e91b2ca656ec8168edd",
        "IPY_MODEL_8854ad6bcffd4a97b420c883a0246a4d"
       ],
       "layout": "IPY_MODEL_6169a24d5d79405aaee3feb36afc825e"
      }
     },
     "d05f635740864613884e0acc3ec41ffd": {
      "model_module": "@jupyter-widgets/base",
      "model_module_version": "2.0.0",
      "model_name": "LayoutModel",
      "state": {
       "height": "auto"
      }
     },
     "d6da8df19c574c09bd59d4a426492ad4": {
      "model_module": "@jupyter-widgets/controls",
      "model_module_version": "2.0.0",
      "model_name": "DescriptionStyleModel",
      "state": {
       "description_width": ""
      }
     },
     "d92a27afe3a0443ebbac1fcd7a9ffb61": {
      "model_module": "@jupyter-widgets/controls",
      "model_module_version": "2.0.0",
      "model_name": "VBoxModel",
      "state": {
       "children": [
        "IPY_MODEL_dd33eadc517f483f9fd69b8c7065a58d",
        "IPY_MODEL_74ab387f7862451d84b82636837d2845"
       ],
       "layout": "IPY_MODEL_925180d2edcf4b20bcc50f7692edda60"
      }
     },
     "dd33eadc517f483f9fd69b8c7065a58d": {
      "model_module": "@jupyter-widgets/controls",
      "model_module_version": "2.0.0",
      "model_name": "TextModel",
      "state": {
       "description": "Video URL:",
       "layout": "IPY_MODEL_d05f635740864613884e0acc3ec41ffd",
       "placeholder": "https://www.youtube.com/watch?v=aibubHq2-C8",
       "style": "IPY_MODEL_e8e6e6d778dd4bf38eb03ec19fec07da",
       "value": "https://www.youtube.com/watch?v=aibubHq2-C8"
      }
     },
     "e257d770877d4e3a96ba751073b0fe4c": {
      "model_module": "@jupyter-widgets/base",
      "model_module_version": "2.0.0",
      "model_name": "LayoutModel",
      "state": {}
     },
     "e8e6e6d778dd4bf38eb03ec19fec07da": {
      "model_module": "@jupyter-widgets/controls",
      "model_module_version": "2.0.0",
      "model_name": "TextStyleModel",
      "state": {
       "description_width": "",
       "font_size": null,
       "text_color": null
      }
     },
     "ee1fbb97693048e69d7ad699a1273c25": {
      "model_module": "@jupyter-widgets/controls",
      "model_module_version": "2.0.0",
      "model_name": "SelectMultipleModel",
      "state": {
       "_options_labels": [
        "0",
        "1",
        "2",
        "3",
        "4",
        "5"
       ],
       "description": "District",
       "index": [],
       "layout": "IPY_MODEL_a5d317b9a2c14e008c63ebccc7c837e8",
       "rows": 5,
       "style": "IPY_MODEL_d6da8df19c574c09bd59d4a426492ad4"
      }
     },
     "f1d033e580064236b15bdfa670ba3644": {
      "model_module": "@jupyter-widgets/output",
      "model_module_version": "1.0.0",
      "model_name": "OutputModel",
      "state": {
       "layout": "IPY_MODEL_b604f18470bf4a7fb5762b35d4e16ea2",
       "outputs": [
        {
         "ename": "UnboundLocalError",
         "evalue": "local variable 'df' referenced before assignment",
         "output_type": "error",
         "traceback": [
          "\u001b[1;31m---------------------------------------------------------------------------\u001b[0m",
          "\u001b[1;31mUnboundLocalError\u001b[0m                         Traceback (most recent call last)",
          "File \u001b[1;32m~\\anaconda3\\envs\\Capstone2\\lib\\site-packages\\ipywidgets\\widgets\\interaction.py:257\u001b[0m, in \u001b[0;36minteractive.update\u001b[1;34m(self, *args)\u001b[0m\n\u001b[0;32m    255\u001b[0m     value \u001b[38;5;241m=\u001b[39m widget\u001b[38;5;241m.\u001b[39mget_interact_value()\n\u001b[0;32m    256\u001b[0m     \u001b[38;5;28mself\u001b[39m\u001b[38;5;241m.\u001b[39mkwargs[widget\u001b[38;5;241m.\u001b[39m_kwarg] \u001b[38;5;241m=\u001b[39m value\n\u001b[1;32m--> 257\u001b[0m \u001b[38;5;28mself\u001b[39m\u001b[38;5;241m.\u001b[39mresult \u001b[38;5;241m=\u001b[39m \u001b[38;5;28mself\u001b[39m\u001b[38;5;241m.\u001b[39mf(\u001b[38;5;241m*\u001b[39m\u001b[38;5;241m*\u001b[39m\u001b[38;5;28mself\u001b[39m\u001b[38;5;241m.\u001b[39mkwargs)\n\u001b[0;32m    258\u001b[0m show_inline_matplotlib_plots()\n\u001b[0;32m    259\u001b[0m \u001b[38;5;28;01mif\u001b[39;00m \u001b[38;5;28mself\u001b[39m\u001b[38;5;241m.\u001b[39mauto_display \u001b[38;5;129;01mand\u001b[39;00m \u001b[38;5;28mself\u001b[39m\u001b[38;5;241m.\u001b[39mresult \u001b[38;5;129;01mis\u001b[39;00m \u001b[38;5;129;01mnot\u001b[39;00m \u001b[38;5;28;01mNone\u001b[39;00m:\n",
          "Input \u001b[1;32mIn [44]\u001b[0m, in \u001b[0;36mupdate_df_length\u001b[1;34m(limit)\u001b[0m\n\u001b[0;32m      1\u001b[0m \u001b[38;5;28;01mdef\u001b[39;00m \u001b[38;5;21mupdate_df_length\u001b[39m(limit):\n\u001b[1;32m----> 4\u001b[0m     df \u001b[38;5;241m=\u001b[39m \u001b[43mdf\u001b[49m\u001b[38;5;241m.\u001b[39miloc[\u001b[38;5;241m0\u001b[39m:limit, :]\n",
          "\u001b[1;31mUnboundLocalError\u001b[0m: local variable 'df' referenced before assignment"
         ]
        }
       ]
      }
     },
     "f70164383cea4cd6b8f5738e3a3f9e99": {
      "model_module": "@jupyter-widgets/controls",
      "model_module_version": "2.0.0",
      "model_name": "DropdownModel",
      "state": {
       "_options_labels": [
        "0. Nontoxic",
        "1. Very Slightly Toxic",
        "2. Slightly Toxic",
        "3. Toxic",
        "4. Severely  Toxic",
        "5. Extremely Toxic"
       ],
       "index": 1,
       "layout": "IPY_MODEL_7ae55a7b1a914d6d8c4ddd7263179b49",
       "style": "IPY_MODEL_498d93afcfec4ea0a9240c3df55d2250"
      }
     },
     "f9a813961e504acc80a67380ff406fa6": {
      "model_module": "@jupyter-widgets/base",
      "model_module_version": "2.0.0",
      "model_name": "LayoutModel",
      "state": {}
     },
     "fc3b854c2ef7445c895fbecd59d229f9": {
      "model_module": "@jupyter-widgets/controls",
      "model_module_version": "2.0.0",
      "model_name": "SelectMultipleModel",
      "state": {
       "_options_labels": [
        "0",
        "1",
        "2",
        "3",
        "4",
        "5"
       ],
       "description": "Toxic Score",
       "index": [
        0
       ],
       "layout": "IPY_MODEL_c97190c2425545e6b9b6167e9b1964ff",
       "rows": 5,
       "style": "IPY_MODEL_b8d4b5ab72d64ebf98a70156d83eafe1"
      }
     }
    },
    "version_major": 2,
    "version_minor": 0
   }
  }
 },
 "nbformat": 4,
 "nbformat_minor": 4
}
